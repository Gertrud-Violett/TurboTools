{
 "cells": [
  {
   "cell_type": "code",
   "execution_count": 27,
   "id": "07fc21c3",
   "metadata": {},
   "outputs": [],
   "source": [
    "import ross as rs\n",
    "import numpy as np\n",
    "import plotly.graph_objects as go\n",
    "import plotly.express as px\n"
   ]
  },
  {
   "cell_type": "code",
   "execution_count": 28,
   "id": "e90eeb5e",
   "metadata": {},
   "outputs": [],
   "source": [
    "steel = rs.Material(name=\"Steel\", rho=7810, E=211e9, G_s=81.2e9)\n",
    "# Creating a list of shaft elements\n",
    "L = 0.25\n",
    "i_d = 0\n",
    "o_d = 0.05\n",
    "N_elem = 6\n",
    "\n",
    "shaft_elements = [\n",
    "    rs.ShaftElement(\n",
    "        L=L,\n",
    "        idl=i_d,\n",
    "        odl=o_d,\n",
    "        material=steel,\n",
    "        shear_effects=True,\n",
    "        rotary_inertia=True,\n",
    "        gyroscopic=True,\n",
    "    )\n",
    "    for _ in range(N_elem)\n",
    "]\n",
    "\n",
    "disk = rs.DiskElement(\n",
    "    n=2,\n",
    "    m=32.58,\n",
    "    Ip=0.178,\n",
    "    Id=0.329,\n",
    "    tag=\"Disk\"\n",
    ")\n",
    "\n",
    "bearing0 = rs.BearingElement(\n",
    "    n=0, \n",
    "    kxx=[0.5e6, 1.0e6, 2.5e6],\n",
    "    kyy=[1.5e6, 2.0e6, 3.5e6],\n",
    "    cxx=[0.5e3, 1.0e3, 1.5e3],\n",
    "    frequency=[0, 1000, 2000],\n",
    ")\n",
    "bearing1 = rs.BearingElement(\n",
    "    n=5, \n",
    "    kxx=[0.5e6, 1.0e6, 2.5e6],\n",
    "    kyy=[1.5e6, 2.0e6, 3.5e6],\n",
    "    cxx=[0.5e3, 1.0e3, 1.5e3],\n",
    "    frequency=[0, 1000, 2000],\n",
    ")\n",
    "bearings = [bearing0, bearing1]"
   ]
  },
  {
   "cell_type": "code",
   "execution_count": 29,
   "id": "c4f80815",
   "metadata": {},
   "outputs": [
    {
     "data": {
      "application/vnd.plotly.v1+json": {
       "config": {
        "plotlyServerURL": "https://plot.ly"
       },
       "data": [
        {
         "hoverinfo": "none",
         "line": {
          "color": "black",
          "dash": "dashdot",
          "width": 3
         },
         "mode": "lines",
         "opacity": 0.7,
         "showlegend": false,
         "type": "scatter",
         "x": [
          -0.30000000000000004,
          1.7999999999999998
         ],
         "y": [
          0,
          0
         ]
        },
        {
         "hoverinfo": "none",
         "marker": {
          "color": "#ffcc99",
          "line": {
           "color": "black",
           "width": 1
          },
          "opacity": 0.7,
          "size": 20
         },
         "mode": "markers+text",
         "showlegend": false,
         "text": [
          "0",
          "1",
          "2",
          "3",
          "4",
          "5",
          "6"
         ],
         "type": "scatter",
         "x": [
          0,
          0.25,
          0.5,
          0.75,
          1,
          1.25,
          1.5
         ],
         "y": [
          0,
          0,
          0,
          0,
          0,
          0,
          0
         ]
        },
        {
         "customdata": [
          [
           0,
           0.05,
           0,
           0.05,
           0,
           0.25,
           "Steel"
          ],
          [
           0,
           0.05,
           0,
           0.05,
           0,
           0.25,
           "Steel"
          ],
          [
           0,
           0.05,
           0,
           0.05,
           0,
           0.25,
           "Steel"
          ],
          [
           0,
           0.05,
           0,
           0.05,
           0,
           0.25,
           "Steel"
          ],
          [
           0,
           0.05,
           0,
           0.05,
           0,
           0.25,
           "Steel"
          ],
          [
           0,
           0.05,
           0,
           0.05,
           0,
           0.25,
           "Steel"
          ],
          [
           0,
           0.05,
           0,
           0.05,
           0,
           0.25,
           "Steel"
          ],
          [
           0,
           0.05,
           0,
           0.05,
           0,
           0.25,
           "Steel"
          ],
          [
           0,
           0.05,
           0,
           0.05,
           0,
           0.25,
           "Steel"
          ],
          [
           0,
           0.05,
           0,
           0.05,
           0,
           0.25,
           "Steel"
          ]
         ],
         "fill": "toself",
         "fillcolor": "#525252",
         "hoverinfo": "text",
         "hoverlabel": {
          "bgcolor": "#525252"
         },
         "hoveron": "points+fills",
         "hovertemplate": "Element Number: 0<br>Left Outer Diameter: 0.05 m<br>Left Inner Diameter: 0.0 m<br>Right Outer Diameter: 0.05 m<br>Right Inner Diameter: 0.0 m<br>Element Length: 0.25 m<br>Material: Steel<br>",
         "legendgroup": "Shaft",
         "line": {
          "color": "black",
          "width": 1.5
         },
         "mode": "lines",
         "name": "ShaftElement 0",
         "opacity": 0.5,
         "showlegend": false,
         "text": "Element Number: 0<br>Left Outer Diameter: 0.05 m<br>Left Inner Diameter: 0.0 m<br>Right Outer Diameter: 0.05 m<br>Right Inner Diameter: 0.0 m<br>Element Length: 0.25 m<br>Material: Steel<br>",
         "type": "scatter",
         "x": [
          0,
          0,
          0.25,
          0.25,
          0,
          0,
          0,
          0.25,
          0.25,
          0
         ],
         "y": [
          0,
          0.025,
          0.025,
          0,
          0,
          0,
          -0.025,
          -0.025,
          0,
          0
         ]
        },
        {
         "customdata": [
          [
           1,
           0.05,
           0,
           0.05,
           0,
           0.25,
           "Steel"
          ],
          [
           1,
           0.05,
           0,
           0.05,
           0,
           0.25,
           "Steel"
          ],
          [
           1,
           0.05,
           0,
           0.05,
           0,
           0.25,
           "Steel"
          ],
          [
           1,
           0.05,
           0,
           0.05,
           0,
           0.25,
           "Steel"
          ],
          [
           1,
           0.05,
           0,
           0.05,
           0,
           0.25,
           "Steel"
          ],
          [
           1,
           0.05,
           0,
           0.05,
           0,
           0.25,
           "Steel"
          ],
          [
           1,
           0.05,
           0,
           0.05,
           0,
           0.25,
           "Steel"
          ],
          [
           1,
           0.05,
           0,
           0.05,
           0,
           0.25,
           "Steel"
          ],
          [
           1,
           0.05,
           0,
           0.05,
           0,
           0.25,
           "Steel"
          ],
          [
           1,
           0.05,
           0,
           0.05,
           0,
           0.25,
           "Steel"
          ]
         ],
         "fill": "toself",
         "fillcolor": "#525252",
         "hoverinfo": "text",
         "hoverlabel": {
          "bgcolor": "#525252"
         },
         "hoveron": "points+fills",
         "hovertemplate": "Element Number: 1<br>Left Outer Diameter: 0.05 m<br>Left Inner Diameter: 0.0 m<br>Right Outer Diameter: 0.05 m<br>Right Inner Diameter: 0.0 m<br>Element Length: 0.25 m<br>Material: Steel<br>",
         "legendgroup": "Shaft",
         "line": {
          "color": "black",
          "width": 1.5
         },
         "mode": "lines",
         "name": "ShaftElement 1",
         "opacity": 0.5,
         "showlegend": false,
         "text": "Element Number: 1<br>Left Outer Diameter: 0.05 m<br>Left Inner Diameter: 0.0 m<br>Right Outer Diameter: 0.05 m<br>Right Inner Diameter: 0.0 m<br>Element Length: 0.25 m<br>Material: Steel<br>",
         "type": "scatter",
         "x": [
          0.25,
          0.25,
          0.5,
          0.5,
          0.25,
          0.25,
          0.25,
          0.5,
          0.5,
          0.25
         ],
         "y": [
          0,
          0.025,
          0.025,
          0,
          0,
          0,
          -0.025,
          -0.025,
          0,
          0
         ]
        },
        {
         "customdata": [
          [
           2,
           0.05,
           0,
           0.05,
           0,
           0.25,
           "Steel"
          ],
          [
           2,
           0.05,
           0,
           0.05,
           0,
           0.25,
           "Steel"
          ],
          [
           2,
           0.05,
           0,
           0.05,
           0,
           0.25,
           "Steel"
          ],
          [
           2,
           0.05,
           0,
           0.05,
           0,
           0.25,
           "Steel"
          ],
          [
           2,
           0.05,
           0,
           0.05,
           0,
           0.25,
           "Steel"
          ],
          [
           2,
           0.05,
           0,
           0.05,
           0,
           0.25,
           "Steel"
          ],
          [
           2,
           0.05,
           0,
           0.05,
           0,
           0.25,
           "Steel"
          ],
          [
           2,
           0.05,
           0,
           0.05,
           0,
           0.25,
           "Steel"
          ],
          [
           2,
           0.05,
           0,
           0.05,
           0,
           0.25,
           "Steel"
          ],
          [
           2,
           0.05,
           0,
           0.05,
           0,
           0.25,
           "Steel"
          ]
         ],
         "fill": "toself",
         "fillcolor": "#525252",
         "hoverinfo": "text",
         "hoverlabel": {
          "bgcolor": "#525252"
         },
         "hoveron": "points+fills",
         "hovertemplate": "Element Number: 2<br>Left Outer Diameter: 0.05 m<br>Left Inner Diameter: 0.0 m<br>Right Outer Diameter: 0.05 m<br>Right Inner Diameter: 0.0 m<br>Element Length: 0.25 m<br>Material: Steel<br>",
         "legendgroup": "Shaft",
         "line": {
          "color": "black",
          "width": 1.5
         },
         "mode": "lines",
         "name": "ShaftElement 2",
         "opacity": 0.5,
         "showlegend": false,
         "text": "Element Number: 2<br>Left Outer Diameter: 0.05 m<br>Left Inner Diameter: 0.0 m<br>Right Outer Diameter: 0.05 m<br>Right Inner Diameter: 0.0 m<br>Element Length: 0.25 m<br>Material: Steel<br>",
         "type": "scatter",
         "x": [
          0.5,
          0.5,
          0.75,
          0.75,
          0.5,
          0.5,
          0.5,
          0.75,
          0.75,
          0.5
         ],
         "y": [
          0,
          0.025,
          0.025,
          0,
          0,
          0,
          -0.025,
          -0.025,
          0,
          0
         ]
        },
        {
         "customdata": [
          [
           3,
           0.05,
           0,
           0.05,
           0,
           0.25,
           "Steel"
          ],
          [
           3,
           0.05,
           0,
           0.05,
           0,
           0.25,
           "Steel"
          ],
          [
           3,
           0.05,
           0,
           0.05,
           0,
           0.25,
           "Steel"
          ],
          [
           3,
           0.05,
           0,
           0.05,
           0,
           0.25,
           "Steel"
          ],
          [
           3,
           0.05,
           0,
           0.05,
           0,
           0.25,
           "Steel"
          ],
          [
           3,
           0.05,
           0,
           0.05,
           0,
           0.25,
           "Steel"
          ],
          [
           3,
           0.05,
           0,
           0.05,
           0,
           0.25,
           "Steel"
          ],
          [
           3,
           0.05,
           0,
           0.05,
           0,
           0.25,
           "Steel"
          ],
          [
           3,
           0.05,
           0,
           0.05,
           0,
           0.25,
           "Steel"
          ],
          [
           3,
           0.05,
           0,
           0.05,
           0,
           0.25,
           "Steel"
          ]
         ],
         "fill": "toself",
         "fillcolor": "#525252",
         "hoverinfo": "text",
         "hoverlabel": {
          "bgcolor": "#525252"
         },
         "hoveron": "points+fills",
         "hovertemplate": "Element Number: 3<br>Left Outer Diameter: 0.05 m<br>Left Inner Diameter: 0.0 m<br>Right Outer Diameter: 0.05 m<br>Right Inner Diameter: 0.0 m<br>Element Length: 0.25 m<br>Material: Steel<br>",
         "legendgroup": "Shaft",
         "line": {
          "color": "black",
          "width": 1.5
         },
         "mode": "lines",
         "name": "ShaftElement 3",
         "opacity": 0.5,
         "showlegend": false,
         "text": "Element Number: 3<br>Left Outer Diameter: 0.05 m<br>Left Inner Diameter: 0.0 m<br>Right Outer Diameter: 0.05 m<br>Right Inner Diameter: 0.0 m<br>Element Length: 0.25 m<br>Material: Steel<br>",
         "type": "scatter",
         "x": [
          0.75,
          0.75,
          1,
          1,
          0.75,
          0.75,
          0.75,
          1,
          1,
          0.75
         ],
         "y": [
          0,
          0.025,
          0.025,
          0,
          0,
          0,
          -0.025,
          -0.025,
          0,
          0
         ]
        },
        {
         "customdata": [
          [
           4,
           0.05,
           0,
           0.05,
           0,
           0.25,
           "Steel"
          ],
          [
           4,
           0.05,
           0,
           0.05,
           0,
           0.25,
           "Steel"
          ],
          [
           4,
           0.05,
           0,
           0.05,
           0,
           0.25,
           "Steel"
          ],
          [
           4,
           0.05,
           0,
           0.05,
           0,
           0.25,
           "Steel"
          ],
          [
           4,
           0.05,
           0,
           0.05,
           0,
           0.25,
           "Steel"
          ],
          [
           4,
           0.05,
           0,
           0.05,
           0,
           0.25,
           "Steel"
          ],
          [
           4,
           0.05,
           0,
           0.05,
           0,
           0.25,
           "Steel"
          ],
          [
           4,
           0.05,
           0,
           0.05,
           0,
           0.25,
           "Steel"
          ],
          [
           4,
           0.05,
           0,
           0.05,
           0,
           0.25,
           "Steel"
          ],
          [
           4,
           0.05,
           0,
           0.05,
           0,
           0.25,
           "Steel"
          ]
         ],
         "fill": "toself",
         "fillcolor": "#525252",
         "hoverinfo": "text",
         "hoverlabel": {
          "bgcolor": "#525252"
         },
         "hoveron": "points+fills",
         "hovertemplate": "Element Number: 4<br>Left Outer Diameter: 0.05 m<br>Left Inner Diameter: 0.0 m<br>Right Outer Diameter: 0.05 m<br>Right Inner Diameter: 0.0 m<br>Element Length: 0.25 m<br>Material: Steel<br>",
         "legendgroup": "Shaft",
         "line": {
          "color": "black",
          "width": 1.5
         },
         "mode": "lines",
         "name": "ShaftElement 4",
         "opacity": 0.5,
         "showlegend": false,
         "text": "Element Number: 4<br>Left Outer Diameter: 0.05 m<br>Left Inner Diameter: 0.0 m<br>Right Outer Diameter: 0.05 m<br>Right Inner Diameter: 0.0 m<br>Element Length: 0.25 m<br>Material: Steel<br>",
         "type": "scatter",
         "x": [
          1,
          1,
          1.25,
          1.25,
          1,
          1,
          1,
          1.25,
          1.25,
          1
         ],
         "y": [
          0,
          0.025,
          0.025,
          0,
          0,
          0,
          -0.025,
          -0.025,
          0,
          0
         ]
        },
        {
         "customdata": [
          [
           5,
           0.05,
           0,
           0.05,
           0,
           0.25,
           "Steel"
          ],
          [
           5,
           0.05,
           0,
           0.05,
           0,
           0.25,
           "Steel"
          ],
          [
           5,
           0.05,
           0,
           0.05,
           0,
           0.25,
           "Steel"
          ],
          [
           5,
           0.05,
           0,
           0.05,
           0,
           0.25,
           "Steel"
          ],
          [
           5,
           0.05,
           0,
           0.05,
           0,
           0.25,
           "Steel"
          ],
          [
           5,
           0.05,
           0,
           0.05,
           0,
           0.25,
           "Steel"
          ],
          [
           5,
           0.05,
           0,
           0.05,
           0,
           0.25,
           "Steel"
          ],
          [
           5,
           0.05,
           0,
           0.05,
           0,
           0.25,
           "Steel"
          ],
          [
           5,
           0.05,
           0,
           0.05,
           0,
           0.25,
           "Steel"
          ],
          [
           5,
           0.05,
           0,
           0.05,
           0,
           0.25,
           "Steel"
          ]
         ],
         "fill": "toself",
         "fillcolor": "#525252",
         "hoverinfo": "text",
         "hoverlabel": {
          "bgcolor": "#525252"
         },
         "hoveron": "points+fills",
         "hovertemplate": "Element Number: 5<br>Left Outer Diameter: 0.05 m<br>Left Inner Diameter: 0.0 m<br>Right Outer Diameter: 0.05 m<br>Right Inner Diameter: 0.0 m<br>Element Length: 0.25 m<br>Material: Steel<br>",
         "legendgroup": "Shaft",
         "line": {
          "color": "black",
          "width": 1.5
         },
         "mode": "lines",
         "name": "ShaftElement 5",
         "opacity": 0.5,
         "showlegend": false,
         "text": "Element Number: 5<br>Left Outer Diameter: 0.05 m<br>Left Inner Diameter: 0.0 m<br>Right Outer Diameter: 0.05 m<br>Right Inner Diameter: 0.0 m<br>Element Length: 0.25 m<br>Material: Steel<br>",
         "type": "scatter",
         "x": [
          1.25,
          1.25,
          1.5,
          1.5,
          1.25,
          1.25,
          1.25,
          1.5,
          1.5,
          1.25
         ],
         "y": [
          0,
          0.025,
          0.025,
          0,
          0,
          0,
          -0.025,
          -0.025,
          0,
          0
         ]
        },
        {
         "customdata": [
          [
           2,
           0.178,
           0.329,
           32.58
          ],
          [
           2,
           0.178,
           0.329,
           32.58
          ],
          [
           2,
           0.178,
           0.329,
           32.58
          ],
          [
           2,
           0.178,
           0.329,
           32.58
          ],
          [
           2,
           0.178,
           0.329,
           32.58
          ],
          [
           2,
           0.178,
           0.329,
           32.58
          ],
          [
           2,
           0.178,
           0.329,
           32.58
          ],
          [
           2,
           0.178,
           0.329,
           32.58
          ],
          [
           2,
           0.178,
           0.329,
           32.58
          ]
         ],
         "fill": "toself",
         "fillcolor": "Firebrick",
         "hoverinfo": "text",
         "hoverlabel": {
          "bgcolor": "Firebrick"
         },
         "hoveron": "points+fills",
         "hovertemplate": "Disk Node: 2<br>Polar Inertia: 1.780e-01<br>Diametral Inertia: 3.290e-01<br>Disk mass: 32.580<br>",
         "legendgroup": "disks",
         "line": {
          "color": "Firebrick",
          "width": 2
         },
         "mode": "lines",
         "name": "Disk",
         "showlegend": false,
         "text": "Disk Node: 2<br>Polar Inertia: 1.780e-01<br>Diametral Inertia: 3.290e-01<br>Disk mass: 32.580<br>",
         "type": "scatter",
         "x": [
          0.5,
          0.5083333333333333,
          0.49166666666666664,
          0.5,
          null,
          0.5,
          0.5083333333333333,
          0.49166666666666664,
          0.5
         ],
         "y": [
          0.025,
          0.125,
          0.125,
          0.025,
          null,
          -0.025,
          -0.125,
          -0.125,
          -0.025
         ]
        },
        {
         "hoverinfo": "none",
         "legendgroup": "bearings",
         "line": {
          "color": "#355d7a",
          "width": 3.5
         },
         "mode": "lines",
         "name": "Bearing 0",
         "showlegend": false,
         "type": "scatter",
         "x": [
          0,
          0,
          -0.025,
          0.025
         ],
         "y": [
          0.025,
          0.05,
          0.05,
          0.05
         ]
        },
        {
         "hoverinfo": "none",
         "legendgroup": "bearings",
         "line": {
          "color": "#355d7a",
          "width": 3.5
         },
         "mode": "lines",
         "name": "Bearing 0",
         "showlegend": false,
         "type": "scatter",
         "x": [
          0,
          0,
          -0.025,
          0.025
         ],
         "y": [
          -0.025,
          -0.05,
          -0.05,
          -0.05
         ]
        },
        {
         "hoverinfo": "none",
         "legendgroup": "bearings",
         "line": {
          "color": "#355d7a",
          "width": 3.5
         },
         "mode": "lines",
         "name": "Bearing 0",
         "showlegend": false,
         "type": "scatter",
         "x": [
          0,
          0,
          -0.025,
          0.025
         ],
         "y": [
          0.125,
          0.1,
          0.1,
          0.1
         ]
        },
        {
         "hoverinfo": "none",
         "legendgroup": "bearings",
         "line": {
          "color": "#355d7a",
          "width": 3.5
         },
         "mode": "lines",
         "name": "Bearing 0",
         "showlegend": false,
         "type": "scatter",
         "x": [
          0,
          0,
          -0.025,
          0.025
         ],
         "y": [
          -0.125,
          -0.1,
          -0.1,
          -0.1
         ]
        },
        {
         "hoverinfo": "none",
         "legendgroup": "bearings",
         "line": {
          "color": "#355d7a",
          "width": 3.5
         },
         "mode": "lines",
         "name": "Bearing 0",
         "showlegend": false,
         "type": "scatter",
         "x": [
          -0.03214285714285715,
          0.03214285714285715
         ],
         "y": [
          0.125,
          0.125
         ]
        },
        {
         "hoverinfo": "none",
         "legendgroup": "bearings",
         "line": {
          "color": "#355d7a",
          "width": 3.5
         },
         "mode": "lines",
         "name": "Bearing 0",
         "showlegend": false,
         "type": "scatter",
         "x": [
          -0.03214285714285715,
          0.03214285714285715
         ],
         "y": [
          -0.125,
          -0.125
         ]
        },
        {
         "hoverinfo": "none",
         "legendgroup": "bearings",
         "line": {
          "color": "#355d7a",
          "width": 3.5
         },
         "mode": "lines",
         "name": "Bearing 0",
         "showlegend": false,
         "type": "scatter",
         "x": [
          -0.03214285714285715,
          -0.019285714285714288
         ],
         "y": [
          0.125,
          0.1375
         ]
        },
        {
         "hoverinfo": "none",
         "legendgroup": "bearings",
         "line": {
          "color": "#355d7a",
          "width": 3.5
         },
         "mode": "lines",
         "name": "Bearing 0",
         "showlegend": false,
         "type": "scatter",
         "x": [
          -0.03214285714285715,
          -0.019285714285714288
         ],
         "y": [
          -0.125,
          -0.1375
         ]
        },
        {
         "hoverinfo": "none",
         "legendgroup": "bearings",
         "line": {
          "color": "#355d7a",
          "width": 3.5
         },
         "mode": "lines",
         "name": "Bearing 0",
         "showlegend": false,
         "type": "scatter",
         "x": [
          -0.019285714285714288,
          -0.006428571428571429
         ],
         "y": [
          0.125,
          0.1375
         ]
        },
        {
         "hoverinfo": "none",
         "legendgroup": "bearings",
         "line": {
          "color": "#355d7a",
          "width": 3.5
         },
         "mode": "lines",
         "name": "Bearing 0",
         "showlegend": false,
         "type": "scatter",
         "x": [
          -0.019285714285714288,
          -0.006428571428571429
         ],
         "y": [
          -0.125,
          -0.1375
         ]
        },
        {
         "hoverinfo": "none",
         "legendgroup": "bearings",
         "line": {
          "color": "#355d7a",
          "width": 3.5
         },
         "mode": "lines",
         "name": "Bearing 0",
         "showlegend": false,
         "type": "scatter",
         "x": [
          -0.006428571428571429,
          0.006428571428571429
         ],
         "y": [
          0.125,
          0.1375
         ]
        },
        {
         "hoverinfo": "none",
         "legendgroup": "bearings",
         "line": {
          "color": "#355d7a",
          "width": 3.5
         },
         "mode": "lines",
         "name": "Bearing 0",
         "showlegend": false,
         "type": "scatter",
         "x": [
          -0.006428571428571429,
          0.006428571428571429
         ],
         "y": [
          -0.125,
          -0.1375
         ]
        },
        {
         "hoverinfo": "none",
         "legendgroup": "bearings",
         "line": {
          "color": "#355d7a",
          "width": 3.5
         },
         "mode": "lines",
         "name": "Bearing 0",
         "showlegend": false,
         "type": "scatter",
         "x": [
          0.006428571428571429,
          0.019285714285714288
         ],
         "y": [
          0.125,
          0.1375
         ]
        },
        {
         "hoverinfo": "none",
         "legendgroup": "bearings",
         "line": {
          "color": "#355d7a",
          "width": 3.5
         },
         "mode": "lines",
         "name": "Bearing 0",
         "showlegend": false,
         "type": "scatter",
         "x": [
          0.006428571428571429,
          0.019285714285714288
         ],
         "y": [
          -0.125,
          -0.1375
         ]
        },
        {
         "hoverinfo": "none",
         "legendgroup": "bearings",
         "line": {
          "color": "#355d7a",
          "width": 3.5
         },
         "mode": "lines",
         "name": "Bearing 0",
         "showlegend": false,
         "type": "scatter",
         "x": [
          0.019285714285714288,
          0.03214285714285715
         ],
         "y": [
          0.125,
          0.1375
         ]
        },
        {
         "hoverinfo": "none",
         "legendgroup": "bearings",
         "line": {
          "color": "#355d7a",
          "width": 3.5
         },
         "mode": "lines",
         "name": "Bearing 0",
         "showlegend": false,
         "type": "scatter",
         "x": [
          0.019285714285714288,
          0.03214285714285715
         ],
         "y": [
          -0.125,
          -0.1375
         ]
        },
        {
         "hoverinfo": "none",
         "legendgroup": "bearings",
         "line": {
          "color": "#355d7a",
          "width": 3.5
         },
         "mode": "lines",
         "name": "Bearing 0",
         "showlegend": false,
         "type": "scatter",
         "x": [
          0.03214285714285715,
          0.045000000000000005
         ],
         "y": [
          0.125,
          0.1375
         ]
        },
        {
         "hoverinfo": "none",
         "legendgroup": "bearings",
         "line": {
          "color": "#355d7a",
          "width": 3.5
         },
         "mode": "lines",
         "name": "Bearing 0",
         "showlegend": false,
         "type": "scatter",
         "x": [
          0.03214285714285715,
          0.045000000000000005
         ],
         "y": [
          -0.125,
          -0.1375
         ]
        },
        {
         "hoverinfo": "none",
         "legendgroup": "bearings",
         "line": {
          "color": "#355d7a",
          "width": 3.5
         },
         "mode": "lines",
         "name": "Bearing 0",
         "showlegend": false,
         "type": "scatter",
         "x": [
          -0.025,
          -0.025,
          -0.03214285714285715,
          -0.017857142857142856,
          -0.03214285714285715,
          -0.017857142857142856,
          -0.03214285714285715,
          -0.017857142857142856,
          -0.025,
          -0.025
         ],
         "y": [
          0.05,
          0.05714285714285715,
          0.05714285714285715,
          0.0642857142857143,
          0.07142857142857142,
          0.07857142857142857,
          0.08571428571428572,
          0.09285714285714286,
          0.09285714285714286,
          0.1
         ]
        },
        {
         "hoverinfo": "none",
         "legendgroup": "bearings",
         "line": {
          "color": "#355d7a",
          "width": 3.5
         },
         "mode": "lines",
         "name": "Bearing 0",
         "showlegend": false,
         "type": "scatter",
         "x": [
          -0.025,
          -0.025,
          -0.03214285714285715,
          -0.017857142857142856,
          -0.03214285714285715,
          -0.017857142857142856,
          -0.03214285714285715,
          -0.017857142857142856,
          -0.025,
          -0.025
         ],
         "y": [
          -0.05,
          -0.05714285714285715,
          -0.05714285714285715,
          -0.0642857142857143,
          -0.07142857142857142,
          -0.07857142857142857,
          -0.08571428571428572,
          -0.09285714285714286,
          -0.09285714285714286,
          -0.1
         ]
        },
        {
         "hoverinfo": "none",
         "legendgroup": "bearings",
         "line": {
          "color": "#355d7a",
          "width": 3.5
         },
         "mode": "lines",
         "name": "Bearing 0",
         "showlegend": false,
         "type": "scatter",
         "x": [
          0.025,
          0.025
         ],
         "y": [
          0.05,
          0.0642857142857143
         ]
        },
        {
         "hoverinfo": "none",
         "legendgroup": "bearings",
         "line": {
          "color": "#355d7a",
          "width": 3.5
         },
         "mode": "lines",
         "name": "Bearing 0",
         "showlegend": false,
         "type": "scatter",
         "x": [
          0.025,
          0.025
         ],
         "y": [
          -0.05,
          -0.0642857142857143
         ]
        },
        {
         "hoverinfo": "none",
         "legendgroup": "bearings",
         "line": {
          "color": "#355d7a",
          "width": 3.5
         },
         "mode": "lines",
         "name": "Bearing 0",
         "showlegend": false,
         "type": "scatter",
         "x": [
          0.010714285714285714,
          0.010714285714285714,
          0.039285714285714285,
          0.039285714285714285
         ],
         "y": [
          0.08571428571428572,
          0.0642857142857143,
          0.0642857142857143,
          0.08571428571428572
         ]
        },
        {
         "hoverinfo": "none",
         "legendgroup": "bearings",
         "line": {
          "color": "#355d7a",
          "width": 3.5
         },
         "mode": "lines",
         "name": "Bearing 0",
         "showlegend": false,
         "type": "scatter",
         "x": [
          0.010714285714285714,
          0.010714285714285714,
          0.039285714285714285,
          0.039285714285714285
         ],
         "y": [
          -0.08571428571428572,
          -0.0642857142857143,
          -0.0642857142857143,
          -0.08571428571428572
         ]
        },
        {
         "hoverinfo": "none",
         "legendgroup": "bearings",
         "line": {
          "color": "#355d7a",
          "width": 3.5
         },
         "mode": "lines",
         "name": "Bearing 0",
         "showlegend": false,
         "type": "scatter",
         "x": [
          0.010714285714285714,
          0.039285714285714285,
          0.025,
          0.025
         ],
         "y": [
          0.07857142857142857,
          0.07857142857142857,
          0.07857142857142857,
          0.1
         ]
        },
        {
         "hoverinfo": "none",
         "legendgroup": "bearings",
         "line": {
          "color": "#355d7a",
          "width": 3.5
         },
         "mode": "lines",
         "name": "Bearing 0",
         "showlegend": false,
         "type": "scatter",
         "x": [
          0.010714285714285714,
          0.039285714285714285,
          0.025,
          0.025
         ],
         "y": [
          -0.07857142857142857,
          -0.07857142857142857,
          -0.07857142857142857,
          -0.1
         ]
        },
        {
         "hoverinfo": "none",
         "legendgroup": "bearings",
         "line": {
          "color": "#355d7a",
          "width": 3.5
         },
         "mode": "lines",
         "name": "Bearing 1",
         "showlegend": false,
         "type": "scatter",
         "x": [
          1.25,
          1.25,
          1.225,
          1.275
         ],
         "y": [
          0.025,
          0.05,
          0.05,
          0.05
         ]
        },
        {
         "hoverinfo": "none",
         "legendgroup": "bearings",
         "line": {
          "color": "#355d7a",
          "width": 3.5
         },
         "mode": "lines",
         "name": "Bearing 1",
         "showlegend": false,
         "type": "scatter",
         "x": [
          1.25,
          1.25,
          1.225,
          1.275
         ],
         "y": [
          -0.025,
          -0.05,
          -0.05,
          -0.05
         ]
        },
        {
         "hoverinfo": "none",
         "legendgroup": "bearings",
         "line": {
          "color": "#355d7a",
          "width": 3.5
         },
         "mode": "lines",
         "name": "Bearing 1",
         "showlegend": false,
         "type": "scatter",
         "x": [
          1.25,
          1.25,
          1.225,
          1.275
         ],
         "y": [
          0.125,
          0.1,
          0.1,
          0.1
         ]
        },
        {
         "hoverinfo": "none",
         "legendgroup": "bearings",
         "line": {
          "color": "#355d7a",
          "width": 3.5
         },
         "mode": "lines",
         "name": "Bearing 1",
         "showlegend": false,
         "type": "scatter",
         "x": [
          1.25,
          1.25,
          1.225,
          1.275
         ],
         "y": [
          -0.125,
          -0.1,
          -0.1,
          -0.1
         ]
        },
        {
         "hoverinfo": "none",
         "legendgroup": "bearings",
         "line": {
          "color": "#355d7a",
          "width": 3.5
         },
         "mode": "lines",
         "name": "Bearing 1",
         "showlegend": false,
         "type": "scatter",
         "x": [
          1.217857142857143,
          1.282142857142857
         ],
         "y": [
          0.125,
          0.125
         ]
        },
        {
         "hoverinfo": "none",
         "legendgroup": "bearings",
         "line": {
          "color": "#355d7a",
          "width": 3.5
         },
         "mode": "lines",
         "name": "Bearing 1",
         "showlegend": false,
         "type": "scatter",
         "x": [
          1.217857142857143,
          1.282142857142857
         ],
         "y": [
          -0.125,
          -0.125
         ]
        },
        {
         "hoverinfo": "none",
         "legendgroup": "bearings",
         "line": {
          "color": "#355d7a",
          "width": 3.5
         },
         "mode": "lines",
         "name": "Bearing 1",
         "showlegend": false,
         "type": "scatter",
         "x": [
          1.217857142857143,
          1.2307142857142859
         ],
         "y": [
          0.125,
          0.1375
         ]
        },
        {
         "hoverinfo": "none",
         "legendgroup": "bearings",
         "line": {
          "color": "#355d7a",
          "width": 3.5
         },
         "mode": "lines",
         "name": "Bearing 1",
         "showlegend": false,
         "type": "scatter",
         "x": [
          1.217857142857143,
          1.2307142857142859
         ],
         "y": [
          -0.125,
          -0.1375
         ]
        },
        {
         "hoverinfo": "none",
         "legendgroup": "bearings",
         "line": {
          "color": "#355d7a",
          "width": 3.5
         },
         "mode": "lines",
         "name": "Bearing 1",
         "showlegend": false,
         "type": "scatter",
         "x": [
          1.2307142857142859,
          1.2435714285714285
         ],
         "y": [
          0.125,
          0.1375
         ]
        },
        {
         "hoverinfo": "none",
         "legendgroup": "bearings",
         "line": {
          "color": "#355d7a",
          "width": 3.5
         },
         "mode": "lines",
         "name": "Bearing 1",
         "showlegend": false,
         "type": "scatter",
         "x": [
          1.2307142857142859,
          1.2435714285714285
         ],
         "y": [
          -0.125,
          -0.1375
         ]
        },
        {
         "hoverinfo": "none",
         "legendgroup": "bearings",
         "line": {
          "color": "#355d7a",
          "width": 3.5
         },
         "mode": "lines",
         "name": "Bearing 1",
         "showlegend": false,
         "type": "scatter",
         "x": [
          1.2435714285714285,
          1.2564285714285715
         ],
         "y": [
          0.125,
          0.1375
         ]
        },
        {
         "hoverinfo": "none",
         "legendgroup": "bearings",
         "line": {
          "color": "#355d7a",
          "width": 3.5
         },
         "mode": "lines",
         "name": "Bearing 1",
         "showlegend": false,
         "type": "scatter",
         "x": [
          1.2435714285714285,
          1.2564285714285715
         ],
         "y": [
          -0.125,
          -0.1375
         ]
        },
        {
         "hoverinfo": "none",
         "legendgroup": "bearings",
         "line": {
          "color": "#355d7a",
          "width": 3.5
         },
         "mode": "lines",
         "name": "Bearing 1",
         "showlegend": false,
         "type": "scatter",
         "x": [
          1.2564285714285715,
          1.2692857142857141
         ],
         "y": [
          0.125,
          0.1375
         ]
        },
        {
         "hoverinfo": "none",
         "legendgroup": "bearings",
         "line": {
          "color": "#355d7a",
          "width": 3.5
         },
         "mode": "lines",
         "name": "Bearing 1",
         "showlegend": false,
         "type": "scatter",
         "x": [
          1.2564285714285715,
          1.2692857142857141
         ],
         "y": [
          -0.125,
          -0.1375
         ]
        },
        {
         "hoverinfo": "none",
         "legendgroup": "bearings",
         "line": {
          "color": "#355d7a",
          "width": 3.5
         },
         "mode": "lines",
         "name": "Bearing 1",
         "showlegend": false,
         "type": "scatter",
         "x": [
          1.2692857142857141,
          1.282142857142857
         ],
         "y": [
          0.125,
          0.1375
         ]
        },
        {
         "hoverinfo": "none",
         "legendgroup": "bearings",
         "line": {
          "color": "#355d7a",
          "width": 3.5
         },
         "mode": "lines",
         "name": "Bearing 1",
         "showlegend": false,
         "type": "scatter",
         "x": [
          1.2692857142857141,
          1.282142857142857
         ],
         "y": [
          -0.125,
          -0.1375
         ]
        },
        {
         "hoverinfo": "none",
         "legendgroup": "bearings",
         "line": {
          "color": "#355d7a",
          "width": 3.5
         },
         "mode": "lines",
         "name": "Bearing 1",
         "showlegend": false,
         "type": "scatter",
         "x": [
          1.282142857142857,
          1.295
         ],
         "y": [
          0.125,
          0.1375
         ]
        },
        {
         "hoverinfo": "none",
         "legendgroup": "bearings",
         "line": {
          "color": "#355d7a",
          "width": 3.5
         },
         "mode": "lines",
         "name": "Bearing 1",
         "showlegend": false,
         "type": "scatter",
         "x": [
          1.282142857142857,
          1.295
         ],
         "y": [
          -0.125,
          -0.1375
         ]
        },
        {
         "hoverinfo": "none",
         "legendgroup": "bearings",
         "line": {
          "color": "#355d7a",
          "width": 3.5
         },
         "mode": "lines",
         "name": "Bearing 1",
         "showlegend": false,
         "type": "scatter",
         "x": [
          1.225,
          1.225,
          1.217857142857143,
          1.2321428571428572,
          1.217857142857143,
          1.2321428571428572,
          1.217857142857143,
          1.2321428571428572,
          1.225,
          1.225
         ],
         "y": [
          0.05,
          0.05714285714285715,
          0.05714285714285715,
          0.0642857142857143,
          0.07142857142857142,
          0.07857142857142857,
          0.08571428571428572,
          0.09285714285714286,
          0.09285714285714286,
          0.1
         ]
        },
        {
         "hoverinfo": "none",
         "legendgroup": "bearings",
         "line": {
          "color": "#355d7a",
          "width": 3.5
         },
         "mode": "lines",
         "name": "Bearing 1",
         "showlegend": false,
         "type": "scatter",
         "x": [
          1.225,
          1.225,
          1.217857142857143,
          1.2321428571428572,
          1.217857142857143,
          1.2321428571428572,
          1.217857142857143,
          1.2321428571428572,
          1.225,
          1.225
         ],
         "y": [
          -0.05,
          -0.05714285714285715,
          -0.05714285714285715,
          -0.0642857142857143,
          -0.07142857142857142,
          -0.07857142857142857,
          -0.08571428571428572,
          -0.09285714285714286,
          -0.09285714285714286,
          -0.1
         ]
        },
        {
         "hoverinfo": "none",
         "legendgroup": "bearings",
         "line": {
          "color": "#355d7a",
          "width": 3.5
         },
         "mode": "lines",
         "name": "Bearing 1",
         "showlegend": false,
         "type": "scatter",
         "x": [
          1.275,
          1.275
         ],
         "y": [
          0.05,
          0.0642857142857143
         ]
        },
        {
         "hoverinfo": "none",
         "legendgroup": "bearings",
         "line": {
          "color": "#355d7a",
          "width": 3.5
         },
         "mode": "lines",
         "name": "Bearing 1",
         "showlegend": false,
         "type": "scatter",
         "x": [
          1.275,
          1.275
         ],
         "y": [
          -0.05,
          -0.0642857142857143
         ]
        },
        {
         "hoverinfo": "none",
         "legendgroup": "bearings",
         "line": {
          "color": "#355d7a",
          "width": 3.5
         },
         "mode": "lines",
         "name": "Bearing 1",
         "showlegend": false,
         "type": "scatter",
         "x": [
          1.2607142857142857,
          1.2607142857142857,
          1.2892857142857141,
          1.2892857142857141
         ],
         "y": [
          0.08571428571428572,
          0.0642857142857143,
          0.0642857142857143,
          0.08571428571428572
         ]
        },
        {
         "hoverinfo": "none",
         "legendgroup": "bearings",
         "line": {
          "color": "#355d7a",
          "width": 3.5
         },
         "mode": "lines",
         "name": "Bearing 1",
         "showlegend": false,
         "type": "scatter",
         "x": [
          1.2607142857142857,
          1.2607142857142857,
          1.2892857142857141,
          1.2892857142857141
         ],
         "y": [
          -0.08571428571428572,
          -0.0642857142857143,
          -0.0642857142857143,
          -0.08571428571428572
         ]
        },
        {
         "hoverinfo": "none",
         "legendgroup": "bearings",
         "line": {
          "color": "#355d7a",
          "width": 3.5
         },
         "mode": "lines",
         "name": "Bearing 1",
         "showlegend": false,
         "type": "scatter",
         "x": [
          1.2607142857142857,
          1.2892857142857141,
          1.275,
          1.275
         ],
         "y": [
          0.07857142857142857,
          0.07857142857142857,
          0.07857142857142857,
          0.1
         ]
        },
        {
         "hoverinfo": "none",
         "legendgroup": "bearings",
         "line": {
          "color": "#355d7a",
          "width": 3.5
         },
         "mode": "lines",
         "name": "Bearing 1",
         "showlegend": false,
         "type": "scatter",
         "x": [
          1.2607142857142857,
          1.2892857142857141,
          1.275,
          1.275
         ],
         "y": [
          -0.07857142857142857,
          -0.07857142857142857,
          -0.07857142857142857,
          -0.1
         ]
        }
       ],
       "layout": {
        "height": 600,
        "shapes": [
         {
          "fillcolor": "Firebrick",
          "line": {
           "color": "Firebrick"
          },
          "type": "circle",
          "x0": 0.5083333333333333,
          "x1": 0.49166666666666664,
          "xref": "x",
          "y0": 0.11666666666666667,
          "y1": 0.13333333333333333,
          "yref": "y"
         },
         {
          "fillcolor": "Firebrick",
          "line": {
           "color": "Firebrick"
          },
          "type": "circle",
          "x0": 0.5083333333333333,
          "x1": 0.49166666666666664,
          "xref": "x",
          "y0": -0.11666666666666667,
          "y1": -0.13333333333333333,
          "yref": "y"
         }
        ],
        "template": {
         "data": {
          "bar": [
           {
            "error_x": {
             "color": "#2a3f5f"
            },
            "error_y": {
             "color": "#2a3f5f"
            },
            "marker": {
             "line": {
              "color": "white",
              "width": 0.5
             }
            },
            "type": "bar"
           }
          ],
          "barpolar": [
           {
            "marker": {
             "line": {
              "color": "white",
              "width": 0.5
             }
            },
            "type": "barpolar"
           }
          ],
          "carpet": [
           {
            "aaxis": {
             "endlinecolor": "#2a3f5f",
             "gridcolor": "#C8D4E3",
             "linecolor": "#C8D4E3",
             "minorgridcolor": "#C8D4E3",
             "startlinecolor": "#2a3f5f"
            },
            "baxis": {
             "endlinecolor": "#2a3f5f",
             "gridcolor": "#C8D4E3",
             "linecolor": "#C8D4E3",
             "minorgridcolor": "#C8D4E3",
             "startlinecolor": "#2a3f5f"
            },
            "type": "carpet"
           }
          ],
          "choropleth": [
           {
            "colorbar": {
             "outlinewidth": 0,
             "ticks": ""
            },
            "type": "choropleth"
           }
          ],
          "contour": [
           {
            "colorbar": {
             "outlinewidth": 0,
             "ticks": ""
            },
            "colorscale": [
             [
              0,
              "#0d0887"
             ],
             [
              0.1111111111111111,
              "#46039f"
             ],
             [
              0.2222222222222222,
              "#7201a8"
             ],
             [
              0.3333333333333333,
              "#9c179e"
             ],
             [
              0.4444444444444444,
              "#bd3786"
             ],
             [
              0.5555555555555556,
              "#d8576b"
             ],
             [
              0.6666666666666666,
              "#ed7953"
             ],
             [
              0.7777777777777778,
              "#fb9f3a"
             ],
             [
              0.8888888888888888,
              "#fdca26"
             ],
             [
              1,
              "#f0f921"
             ]
            ],
            "type": "contour"
           }
          ],
          "contourcarpet": [
           {
            "colorbar": {
             "outlinewidth": 0,
             "ticks": ""
            },
            "type": "contourcarpet"
           }
          ],
          "heatmap": [
           {
            "colorbar": {
             "outlinewidth": 0,
             "ticks": ""
            },
            "colorscale": [
             [
              0,
              "#0d0887"
             ],
             [
              0.1111111111111111,
              "#46039f"
             ],
             [
              0.2222222222222222,
              "#7201a8"
             ],
             [
              0.3333333333333333,
              "#9c179e"
             ],
             [
              0.4444444444444444,
              "#bd3786"
             ],
             [
              0.5555555555555556,
              "#d8576b"
             ],
             [
              0.6666666666666666,
              "#ed7953"
             ],
             [
              0.7777777777777778,
              "#fb9f3a"
             ],
             [
              0.8888888888888888,
              "#fdca26"
             ],
             [
              1,
              "#f0f921"
             ]
            ],
            "type": "heatmap"
           }
          ],
          "heatmapgl": [
           {
            "colorbar": {
             "outlinewidth": 0,
             "ticks": ""
            },
            "colorscale": [
             [
              0,
              "#0d0887"
             ],
             [
              0.1111111111111111,
              "#46039f"
             ],
             [
              0.2222222222222222,
              "#7201a8"
             ],
             [
              0.3333333333333333,
              "#9c179e"
             ],
             [
              0.4444444444444444,
              "#bd3786"
             ],
             [
              0.5555555555555556,
              "#d8576b"
             ],
             [
              0.6666666666666666,
              "#ed7953"
             ],
             [
              0.7777777777777778,
              "#fb9f3a"
             ],
             [
              0.8888888888888888,
              "#fdca26"
             ],
             [
              1,
              "#f0f921"
             ]
            ],
            "type": "heatmapgl"
           }
          ],
          "histogram": [
           {
            "marker": {
             "colorbar": {
              "outlinewidth": 0,
              "ticks": ""
             }
            },
            "type": "histogram"
           }
          ],
          "histogram2d": [
           {
            "colorbar": {
             "outlinewidth": 0,
             "ticks": ""
            },
            "colorscale": [
             [
              0,
              "#0d0887"
             ],
             [
              0.1111111111111111,
              "#46039f"
             ],
             [
              0.2222222222222222,
              "#7201a8"
             ],
             [
              0.3333333333333333,
              "#9c179e"
             ],
             [
              0.4444444444444444,
              "#bd3786"
             ],
             [
              0.5555555555555556,
              "#d8576b"
             ],
             [
              0.6666666666666666,
              "#ed7953"
             ],
             [
              0.7777777777777778,
              "#fb9f3a"
             ],
             [
              0.8888888888888888,
              "#fdca26"
             ],
             [
              1,
              "#f0f921"
             ]
            ],
            "type": "histogram2d"
           }
          ],
          "histogram2dcontour": [
           {
            "colorbar": {
             "outlinewidth": 0,
             "ticks": ""
            },
            "colorscale": [
             [
              0,
              "#0d0887"
             ],
             [
              0.1111111111111111,
              "#46039f"
             ],
             [
              0.2222222222222222,
              "#7201a8"
             ],
             [
              0.3333333333333333,
              "#9c179e"
             ],
             [
              0.4444444444444444,
              "#bd3786"
             ],
             [
              0.5555555555555556,
              "#d8576b"
             ],
             [
              0.6666666666666666,
              "#ed7953"
             ],
             [
              0.7777777777777778,
              "#fb9f3a"
             ],
             [
              0.8888888888888888,
              "#fdca26"
             ],
             [
              1,
              "#f0f921"
             ]
            ],
            "type": "histogram2dcontour"
           }
          ],
          "mesh3d": [
           {
            "colorbar": {
             "outlinewidth": 0,
             "ticks": ""
            },
            "type": "mesh3d"
           }
          ],
          "parcoords": [
           {
            "line": {
             "colorbar": {
              "outlinewidth": 0,
              "ticks": ""
             }
            },
            "type": "parcoords"
           }
          ],
          "pie": [
           {
            "automargin": true,
            "type": "pie"
           }
          ],
          "scatter": [
           {
            "marker": {
             "colorbar": {
              "outlinewidth": 0,
              "ticks": ""
             }
            },
            "type": "scatter"
           }
          ],
          "scatter3d": [
           {
            "line": {
             "colorbar": {
              "outlinewidth": 0,
              "ticks": ""
             }
            },
            "marker": {
             "colorbar": {
              "outlinewidth": 0,
              "ticks": ""
             }
            },
            "type": "scatter3d"
           }
          ],
          "scattercarpet": [
           {
            "marker": {
             "colorbar": {
              "outlinewidth": 0,
              "ticks": ""
             }
            },
            "type": "scattercarpet"
           }
          ],
          "scattergeo": [
           {
            "marker": {
             "colorbar": {
              "outlinewidth": 0,
              "ticks": ""
             }
            },
            "type": "scattergeo"
           }
          ],
          "scattergl": [
           {
            "marker": {
             "colorbar": {
              "outlinewidth": 0,
              "ticks": ""
             }
            },
            "type": "scattergl"
           }
          ],
          "scattermapbox": [
           {
            "marker": {
             "colorbar": {
              "outlinewidth": 0,
              "ticks": ""
             }
            },
            "type": "scattermapbox"
           }
          ],
          "scatterpolar": [
           {
            "marker": {
             "colorbar": {
              "outlinewidth": 0,
              "ticks": ""
             }
            },
            "type": "scatterpolar"
           }
          ],
          "scatterpolargl": [
           {
            "marker": {
             "colorbar": {
              "outlinewidth": 0,
              "ticks": ""
             }
            },
            "type": "scatterpolargl"
           }
          ],
          "scatterternary": [
           {
            "marker": {
             "colorbar": {
              "outlinewidth": 0,
              "ticks": ""
             }
            },
            "type": "scatterternary"
           }
          ],
          "surface": [
           {
            "colorbar": {
             "outlinewidth": 0,
             "ticks": ""
            },
            "colorscale": [
             [
              0,
              "#0d0887"
             ],
             [
              0.1111111111111111,
              "#46039f"
             ],
             [
              0.2222222222222222,
              "#7201a8"
             ],
             [
              0.3333333333333333,
              "#9c179e"
             ],
             [
              0.4444444444444444,
              "#bd3786"
             ],
             [
              0.5555555555555556,
              "#d8576b"
             ],
             [
              0.6666666666666666,
              "#ed7953"
             ],
             [
              0.7777777777777778,
              "#fb9f3a"
             ],
             [
              0.8888888888888888,
              "#fdca26"
             ],
             [
              1,
              "#f0f921"
             ]
            ],
            "type": "surface"
           }
          ],
          "table": [
           {
            "cells": {
             "fill": {
              "color": "#EBF0F8"
             },
             "line": {
              "color": "white"
             }
            },
            "header": {
             "fill": {
              "color": "#C8D4E3"
             },
             "line": {
              "color": "white"
             }
            },
            "type": "table"
           }
          ]
         },
         "layout": {
          "annotationdefaults": {
           "arrowcolor": "#2a3f5f",
           "arrowhead": 0,
           "arrowwidth": 1
          },
          "coloraxis": {
           "colorbar": {
            "outlinewidth": 0,
            "ticks": ""
           }
          },
          "colorscale": {
           "diverging": [
            [
             0,
             "#8e0152"
            ],
            [
             0.1,
             "#c51b7d"
            ],
            [
             0.2,
             "#de77ae"
            ],
            [
             0.3,
             "#f1b6da"
            ],
            [
             0.4,
             "#fde0ef"
            ],
            [
             0.5,
             "#f7f7f7"
            ],
            [
             0.6,
             "#e6f5d0"
            ],
            [
             0.7,
             "#b8e186"
            ],
            [
             0.8,
             "#7fbc41"
            ],
            [
             0.9,
             "#4d9221"
            ],
            [
             1,
             "#276419"
            ]
           ],
           "sequential": [
            [
             0,
             "#0d0887"
            ],
            [
             0.1111111111111111,
             "#46039f"
            ],
            [
             0.2222222222222222,
             "#7201a8"
            ],
            [
             0.3333333333333333,
             "#9c179e"
            ],
            [
             0.4444444444444444,
             "#bd3786"
            ],
            [
             0.5555555555555556,
             "#d8576b"
            ],
            [
             0.6666666666666666,
             "#ed7953"
            ],
            [
             0.7777777777777778,
             "#fb9f3a"
            ],
            [
             0.8888888888888888,
             "#fdca26"
            ],
            [
             1,
             "#f0f921"
            ]
           ],
           "sequentialminus": [
            [
             0,
             "#0d0887"
            ],
            [
             0.1111111111111111,
             "#46039f"
            ],
            [
             0.2222222222222222,
             "#7201a8"
            ],
            [
             0.3333333333333333,
             "#9c179e"
            ],
            [
             0.4444444444444444,
             "#bd3786"
            ],
            [
             0.5555555555555556,
             "#d8576b"
            ],
            [
             0.6666666666666666,
             "#ed7953"
            ],
            [
             0.7777777777777778,
             "#fb9f3a"
            ],
            [
             0.8888888888888888,
             "#fdca26"
            ],
            [
             1,
             "#f0f921"
            ]
           ]
          },
          "colorway": [
           "#1f77b4",
           "#ff7f0e",
           "#2ca02c",
           "#d62728",
           "#9467bd",
           "#8c564b",
           "#e377c2",
           "#7f7f7f",
           "#bcbd22",
           "#17becf"
          ],
          "font": {
           "color": "#2a3f5f"
          },
          "geo": {
           "bgcolor": "white",
           "lakecolor": "white",
           "landcolor": "white",
           "showlakes": true,
           "showland": true,
           "subunitcolor": "#C8D4E3"
          },
          "hoverlabel": {
           "align": "left"
          },
          "hovermode": "closest",
          "mapbox": {
           "style": "light"
          },
          "paper_bgcolor": "white",
          "plot_bgcolor": "white",
          "polar": {
           "angularaxis": {
            "gridcolor": "#EBF0F8",
            "linecolor": "#EBF0F8",
            "ticks": ""
           },
           "bgcolor": "white",
           "radialaxis": {
            "gridcolor": "#EBF0F8",
            "linecolor": "#EBF0F8",
            "ticks": ""
           }
          },
          "scene": {
           "camera": {
            "center": {
             "x": 0,
             "y": 0,
             "z": 0
            },
            "eye": {
             "x": 2,
             "y": 2,
             "z": 2
            },
            "up": {
             "x": 0,
             "y": 0,
             "z": 1
            }
           },
           "xaxis": {
            "backgroundcolor": "white",
            "gridcolor": "#DFE8F3",
            "gridwidth": 2,
            "linecolor": "#EBF0F8",
            "showbackground": true,
            "showspikes": false,
            "ticks": "",
            "zerolinecolor": "#EBF0F8"
           },
           "yaxis": {
            "backgroundcolor": "white",
            "gridcolor": "#DFE8F3",
            "gridwidth": 2,
            "linecolor": "#EBF0F8",
            "showbackground": true,
            "showspikes": false,
            "ticks": "",
            "zerolinecolor": "#EBF0F8"
           },
           "zaxis": {
            "backgroundcolor": "white",
            "gridcolor": "#DFE8F3",
            "gridwidth": 2,
            "linecolor": "#EBF0F8",
            "showbackground": true,
            "showspikes": false,
            "ticks": "",
            "zerolinecolor": "#EBF0F8"
           }
          },
          "shapedefaults": {
           "line": {
            "color": "#2a3f5f"
           }
          },
          "ternary": {
           "aaxis": {
            "gridcolor": "#DFE8F3",
            "linecolor": "#A2B1C6",
            "ticks": ""
           },
           "baxis": {
            "gridcolor": "#DFE8F3",
            "linecolor": "#A2B1C6",
            "ticks": ""
           },
           "bgcolor": "white",
           "caxis": {
            "gridcolor": "#DFE8F3",
            "linecolor": "#A2B1C6",
            "ticks": ""
           }
          },
          "title": {
           "x": 0.05
          },
          "xaxis": {
           "automargin": true,
           "gridcolor": "#EBF0F8",
           "linecolor": "black",
           "linewidth": 2,
           "mirror": true,
           "showline": true,
           "ticks": "",
           "title": {
            "standoff": 15
           },
           "zeroline": false,
           "zerolinecolor": "#EBF0F8",
           "zerolinewidth": 2
          },
          "yaxis": {
           "automargin": true,
           "gridcolor": "#EBF0F8",
           "linecolor": "black",
           "linewidth": 2,
           "mirror": true,
           "showline": true,
           "ticks": "",
           "title": {
            "standoff": 15
           },
           "zeroline": false,
           "zerolinecolor": "#EBF0F8",
           "zerolinewidth": 2
          }
         }
        },
        "title": {
         "text": "Rotor Model"
        },
        "width": 1500,
        "xaxis": {
         "mirror": true,
         "range": [
          -0.15000000000000002,
          1.6500000000000001
         ],
         "showgrid": false,
         "title": {
          "text": "Axial location (m)"
         },
         "type": "linear"
        },
        "yaxis": {
         "mirror": true,
         "range": [
          -0.2,
          0.2
         ],
         "showgrid": false,
         "title": {
          "text": "Shaft radius (m)"
         },
         "type": "linear"
        }
       }
      },
      "image/png": "[encoded data removed]",
      "text/html": [
       "<div>                            <div id=\"b1efce7e-d0e5-4e75-8bd5-34f0b473e51d\" class=\"plotly-graph-div\" style=\"height:600px; width:1500px;\"></div>            <script type=\"text/javascript\">                require([\"plotly\"], function(Plotly) {                    window.PLOTLYENV=window.PLOTLYENV || {};                                    if (document.getElementById(\"b1efce7e-d0e5-4e75-8bd5-34f0b473e51d\")) {                    Plotly.newPlot(                        \"b1efce7e-d0e5-4e75-8bd5-34f0b473e51d\",                        [{\"hoverinfo\":\"none\",\"line\":{\"color\":\"black\",\"dash\":\"dashdot\",\"width\":3.0},\"mode\":\"lines\",\"opacity\":0.7,\"showlegend\":false,\"x\":[-0.30000000000000004,1.7999999999999998],\"y\":[0,0],\"type\":\"scatter\"},{\"hoverinfo\":\"none\",\"marker\":{\"color\":\"#ffcc99\",\"line\":{\"color\":\"black\",\"width\":1.0},\"opacity\":0.7,\"size\":20},\"mode\":\"markers+text\",\"showlegend\":false,\"text\":[\"0\",\"1\",\"2\",\"3\",\"4\",\"5\",\"6\"],\"x\":[0.0,0.25,0.5,0.75,1.0,1.25,1.5],\"y\":[0.0,0.0,0.0,0.0,0.0,0.0,0.0],\"type\":\"scatter\"},{\"customdata\":[[0,0.05,0.0,0.05,0.0,0.25,\"Steel\"],[0,0.05,0.0,0.05,0.0,0.25,\"Steel\"],[0,0.05,0.0,0.05,0.0,0.25,\"Steel\"],[0,0.05,0.0,0.05,0.0,0.25,\"Steel\"],[0,0.05,0.0,0.05,0.0,0.25,\"Steel\"],[0,0.05,0.0,0.05,0.0,0.25,\"Steel\"],[0,0.05,0.0,0.05,0.0,0.25,\"Steel\"],[0,0.05,0.0,0.05,0.0,0.25,\"Steel\"],[0,0.05,0.0,0.05,0.0,0.25,\"Steel\"],[0,0.05,0.0,0.05,0.0,0.25,\"Steel\"]],\"fill\":\"toself\",\"fillcolor\":\"#525252\",\"hoverinfo\":\"text\",\"hoverlabel\":{\"bgcolor\":\"#525252\"},\"hoveron\":\"points+fills\",\"hovertemplate\":\"Element Number: 0<br>Left Outer Diameter: 0.05 m<br>Left Inner Diameter: 0.0 m<br>Right Outer Diameter: 0.05 m<br>Right Inner Diameter: 0.0 m<br>Element Length: 0.25 m<br>Material: Steel<br>\",\"legendgroup\":\"Shaft\",\"line\":{\"color\":\"black\",\"width\":1.5},\"mode\":\"lines\",\"name\":\"ShaftElement 0\",\"opacity\":0.5,\"showlegend\":false,\"text\":\"Element Number: 0<br>Left Outer Diameter: 0.05 m<br>Left Inner Diameter: 0.0 m<br>Right Outer Diameter: 0.05 m<br>Right Inner Diameter: 0.0 m<br>Element Length: 0.25 m<br>Material: Steel<br>\",\"x\":[0.0,0.0,0.25,0.25,0.0,0.0,0.0,0.25,0.25,0.0],\"y\":[0.0,0.025,0.025,0.0,0.0,-0.0,-0.025,-0.025,-0.0,-0.0],\"type\":\"scatter\"},{\"customdata\":[[1,0.05,0.0,0.05,0.0,0.25,\"Steel\"],[1,0.05,0.0,0.05,0.0,0.25,\"Steel\"],[1,0.05,0.0,0.05,0.0,0.25,\"Steel\"],[1,0.05,0.0,0.05,0.0,0.25,\"Steel\"],[1,0.05,0.0,0.05,0.0,0.25,\"Steel\"],[1,0.05,0.0,0.05,0.0,0.25,\"Steel\"],[1,0.05,0.0,0.05,0.0,0.25,\"Steel\"],[1,0.05,0.0,0.05,0.0,0.25,\"Steel\"],[1,0.05,0.0,0.05,0.0,0.25,\"Steel\"],[1,0.05,0.0,0.05,0.0,0.25,\"Steel\"]],\"fill\":\"toself\",\"fillcolor\":\"#525252\",\"hoverinfo\":\"text\",\"hoverlabel\":{\"bgcolor\":\"#525252\"},\"hoveron\":\"points+fills\",\"hovertemplate\":\"Element Number: 1<br>Left Outer Diameter: 0.05 m<br>Left Inner Diameter: 0.0 m<br>Right Outer Diameter: 0.05 m<br>Right Inner Diameter: 0.0 m<br>Element Length: 0.25 m<br>Material: Steel<br>\",\"legendgroup\":\"Shaft\",\"line\":{\"color\":\"black\",\"width\":1.5},\"mode\":\"lines\",\"name\":\"ShaftElement 1\",\"opacity\":0.5,\"showlegend\":false,\"text\":\"Element Number: 1<br>Left Outer Diameter: 0.05 m<br>Left Inner Diameter: 0.0 m<br>Right Outer Diameter: 0.05 m<br>Right Inner Diameter: 0.0 m<br>Element Length: 0.25 m<br>Material: Steel<br>\",\"x\":[0.25,0.25,0.5,0.5,0.25,0.25,0.25,0.5,0.5,0.25],\"y\":[0.0,0.025,0.025,0.0,0.0,-0.0,-0.025,-0.025,-0.0,-0.0],\"type\":\"scatter\"},{\"customdata\":[[2,0.05,0.0,0.05,0.0,0.25,\"Steel\"],[2,0.05,0.0,0.05,0.0,0.25,\"Steel\"],[2,0.05,0.0,0.05,0.0,0.25,\"Steel\"],[2,0.05,0.0,0.05,0.0,0.25,\"Steel\"],[2,0.05,0.0,0.05,0.0,0.25,\"Steel\"],[2,0.05,0.0,0.05,0.0,0.25,\"Steel\"],[2,0.05,0.0,0.05,0.0,0.25,\"Steel\"],[2,0.05,0.0,0.05,0.0,0.25,\"Steel\"],[2,0.05,0.0,0.05,0.0,0.25,\"Steel\"],[2,0.05,0.0,0.05,0.0,0.25,\"Steel\"]],\"fill\":\"toself\",\"fillcolor\":\"#525252\",\"hoverinfo\":\"text\",\"hoverlabel\":{\"bgcolor\":\"#525252\"},\"hoveron\":\"points+fills\",\"hovertemplate\":\"Element Number: 2<br>Left Outer Diameter: 0.05 m<br>Left Inner Diameter: 0.0 m<br>Right Outer Diameter: 0.05 m<br>Right Inner Diameter: 0.0 m<br>Element Length: 0.25 m<br>Material: Steel<br>\",\"legendgroup\":\"Shaft\",\"line\":{\"color\":\"black\",\"width\":1.5},\"mode\":\"lines\",\"name\":\"ShaftElement 2\",\"opacity\":0.5,\"showlegend\":false,\"text\":\"Element Number: 2<br>Left Outer Diameter: 0.05 m<br>Left Inner Diameter: 0.0 m<br>Right Outer Diameter: 0.05 m<br>Right Inner Diameter: 0.0 m<br>Element Length: 0.25 m<br>Material: Steel<br>\",\"x\":[0.5,0.5,0.75,0.75,0.5,0.5,0.5,0.75,0.75,0.5],\"y\":[0.0,0.025,0.025,0.0,0.0,-0.0,-0.025,-0.025,-0.0,-0.0],\"type\":\"scatter\"},{\"customdata\":[[3,0.05,0.0,0.05,0.0,0.25,\"Steel\"],[3,0.05,0.0,0.05,0.0,0.25,\"Steel\"],[3,0.05,0.0,0.05,0.0,0.25,\"Steel\"],[3,0.05,0.0,0.05,0.0,0.25,\"Steel\"],[3,0.05,0.0,0.05,0.0,0.25,\"Steel\"],[3,0.05,0.0,0.05,0.0,0.25,\"Steel\"],[3,0.05,0.0,0.05,0.0,0.25,\"Steel\"],[3,0.05,0.0,0.05,0.0,0.25,\"Steel\"],[3,0.05,0.0,0.05,0.0,0.25,\"Steel\"],[3,0.05,0.0,0.05,0.0,0.25,\"Steel\"]],\"fill\":\"toself\",\"fillcolor\":\"#525252\",\"hoverinfo\":\"text\",\"hoverlabel\":{\"bgcolor\":\"#525252\"},\"hoveron\":\"points+fills\",\"hovertemplate\":\"Element Number: 3<br>Left Outer Diameter: 0.05 m<br>Left Inner Diameter: 0.0 m<br>Right Outer Diameter: 0.05 m<br>Right Inner Diameter: 0.0 m<br>Element Length: 0.25 m<br>Material: Steel<br>\",\"legendgroup\":\"Shaft\",\"line\":{\"color\":\"black\",\"width\":1.5},\"mode\":\"lines\",\"name\":\"ShaftElement 3\",\"opacity\":0.5,\"showlegend\":false,\"text\":\"Element Number: 3<br>Left Outer Diameter: 0.05 m<br>Left Inner Diameter: 0.0 m<br>Right Outer Diameter: 0.05 m<br>Right Inner Diameter: 0.0 m<br>Element Length: 0.25 m<br>Material: Steel<br>\",\"x\":[0.75,0.75,1.0,1.0,0.75,0.75,0.75,1.0,1.0,0.75],\"y\":[0.0,0.025,0.025,0.0,0.0,-0.0,-0.025,-0.025,-0.0,-0.0],\"type\":\"scatter\"},{\"customdata\":[[4,0.05,0.0,0.05,0.0,0.25,\"Steel\"],[4,0.05,0.0,0.05,0.0,0.25,\"Steel\"],[4,0.05,0.0,0.05,0.0,0.25,\"Steel\"],[4,0.05,0.0,0.05,0.0,0.25,\"Steel\"],[4,0.05,0.0,0.05,0.0,0.25,\"Steel\"],[4,0.05,0.0,0.05,0.0,0.25,\"Steel\"],[4,0.05,0.0,0.05,0.0,0.25,\"Steel\"],[4,0.05,0.0,0.05,0.0,0.25,\"Steel\"],[4,0.05,0.0,0.05,0.0,0.25,\"Steel\"],[4,0.05,0.0,0.05,0.0,0.25,\"Steel\"]],\"fill\":\"toself\",\"fillcolor\":\"#525252\",\"hoverinfo\":\"text\",\"hoverlabel\":{\"bgcolor\":\"#525252\"},\"hoveron\":\"points+fills\",\"hovertemplate\":\"Element Number: 4<br>Left Outer Diameter: 0.05 m<br>Left Inner Diameter: 0.0 m<br>Right Outer Diameter: 0.05 m<br>Right Inner Diameter: 0.0 m<br>Element Length: 0.25 m<br>Material: Steel<br>\",\"legendgroup\":\"Shaft\",\"line\":{\"color\":\"black\",\"width\":1.5},\"mode\":\"lines\",\"name\":\"ShaftElement 4\",\"opacity\":0.5,\"showlegend\":false,\"text\":\"Element Number: 4<br>Left Outer Diameter: 0.05 m<br>Left Inner Diameter: 0.0 m<br>Right Outer Diameter: 0.05 m<br>Right Inner Diameter: 0.0 m<br>Element Length: 0.25 m<br>Material: Steel<br>\",\"x\":[1.0,1.0,1.25,1.25,1.0,1.0,1.0,1.25,1.25,1.0],\"y\":[0.0,0.025,0.025,0.0,0.0,-0.0,-0.025,-0.025,-0.0,-0.0],\"type\":\"scatter\"},{\"customdata\":[[5,0.05,0.0,0.05,0.0,0.25,\"Steel\"],[5,0.05,0.0,0.05,0.0,0.25,\"Steel\"],[5,0.05,0.0,0.05,0.0,0.25,\"Steel\"],[5,0.05,0.0,0.05,0.0,0.25,\"Steel\"],[5,0.05,0.0,0.05,0.0,0.25,\"Steel\"],[5,0.05,0.0,0.05,0.0,0.25,\"Steel\"],[5,0.05,0.0,0.05,0.0,0.25,\"Steel\"],[5,0.05,0.0,0.05,0.0,0.25,\"Steel\"],[5,0.05,0.0,0.05,0.0,0.25,\"Steel\"],[5,0.05,0.0,0.05,0.0,0.25,\"Steel\"]],\"fill\":\"toself\",\"fillcolor\":\"#525252\",\"hoverinfo\":\"text\",\"hoverlabel\":{\"bgcolor\":\"#525252\"},\"hoveron\":\"points+fills\",\"hovertemplate\":\"Element Number: 5<br>Left Outer Diameter: 0.05 m<br>Left Inner Diameter: 0.0 m<br>Right Outer Diameter: 0.05 m<br>Right Inner Diameter: 0.0 m<br>Element Length: 0.25 m<br>Material: Steel<br>\",\"legendgroup\":\"Shaft\",\"line\":{\"color\":\"black\",\"width\":1.5},\"mode\":\"lines\",\"name\":\"ShaftElement 5\",\"opacity\":0.5,\"showlegend\":false,\"text\":\"Element Number: 5<br>Left Outer Diameter: 0.05 m<br>Left Inner Diameter: 0.0 m<br>Right Outer Diameter: 0.05 m<br>Right Inner Diameter: 0.0 m<br>Element Length: 0.25 m<br>Material: Steel<br>\",\"x\":[1.25,1.25,1.5,1.5,1.25,1.25,1.25,1.5,1.5,1.25],\"y\":[0.0,0.025,0.025,0.0,0.0,-0.0,-0.025,-0.025,-0.0,-0.0],\"type\":\"scatter\"},{\"customdata\":[[2,0.178,0.329,32.58],[2,0.178,0.329,32.58],[2,0.178,0.329,32.58],[2,0.178,0.329,32.58],[2,0.178,0.329,32.58],[2,0.178,0.329,32.58],[2,0.178,0.329,32.58],[2,0.178,0.329,32.58],[2,0.178,0.329,32.58]],\"fill\":\"toself\",\"fillcolor\":\"Firebrick\",\"hoverinfo\":\"text\",\"hoverlabel\":{\"bgcolor\":\"Firebrick\"},\"hoveron\":\"points+fills\",\"hovertemplate\":\"Disk Node: 2<br>Polar Inertia: 1.780e-01<br>Diametral Inertia: 3.290e-01<br>Disk mass: 32.580<br>\",\"legendgroup\":\"disks\",\"line\":{\"color\":\"Firebrick\",\"width\":2.0},\"mode\":\"lines\",\"name\":\"Disk\",\"showlegend\":false,\"text\":\"Disk Node: 2<br>Polar Inertia: 1.780e-01<br>Diametral Inertia: 3.290e-01<br>Disk mass: 32.580<br>\",\"x\":[0.5,0.5083333333333333,0.49166666666666664,0.5,null,0.5,0.5083333333333333,0.49166666666666664,0.5],\"y\":[0.025,0.125,0.125,0.025,null,-0.025,-0.125,-0.125,-0.025],\"type\":\"scatter\"},{\"hoverinfo\":\"none\",\"legendgroup\":\"bearings\",\"line\":{\"color\":\"#355d7a\",\"width\":3.5},\"mode\":\"lines\",\"name\":\"Bearing 0\",\"showlegend\":false,\"x\":[0.0,0.0,-0.025,0.025],\"y\":[0.025,0.05,0.05,0.05],\"type\":\"scatter\"},{\"hoverinfo\":\"none\",\"legendgroup\":\"bearings\",\"line\":{\"color\":\"#355d7a\",\"width\":3.5},\"mode\":\"lines\",\"name\":\"Bearing 0\",\"showlegend\":false,\"x\":[0.0,0.0,-0.025,0.025],\"y\":[-0.025,-0.05,-0.05,-0.05],\"type\":\"scatter\"},{\"hoverinfo\":\"none\",\"legendgroup\":\"bearings\",\"line\":{\"color\":\"#355d7a\",\"width\":3.5},\"mode\":\"lines\",\"name\":\"Bearing 0\",\"showlegend\":false,\"x\":[0.0,0.0,-0.025,0.025],\"y\":[0.125,0.1,0.1,0.1],\"type\":\"scatter\"},{\"hoverinfo\":\"none\",\"legendgroup\":\"bearings\",\"line\":{\"color\":\"#355d7a\",\"width\":3.5},\"mode\":\"lines\",\"name\":\"Bearing 0\",\"showlegend\":false,\"x\":[0.0,0.0,-0.025,0.025],\"y\":[-0.125,-0.1,-0.1,-0.1],\"type\":\"scatter\"},{\"hoverinfo\":\"none\",\"legendgroup\":\"bearings\",\"line\":{\"color\":\"#355d7a\",\"width\":3.5},\"mode\":\"lines\",\"name\":\"Bearing 0\",\"showlegend\":false,\"x\":[-0.03214285714285715,0.03214285714285715],\"y\":[0.125,0.125],\"type\":\"scatter\"},{\"hoverinfo\":\"none\",\"legendgroup\":\"bearings\",\"line\":{\"color\":\"#355d7a\",\"width\":3.5},\"mode\":\"lines\",\"name\":\"Bearing 0\",\"showlegend\":false,\"x\":[-0.03214285714285715,0.03214285714285715],\"y\":[-0.125,-0.125],\"type\":\"scatter\"},{\"hoverinfo\":\"none\",\"legendgroup\":\"bearings\",\"line\":{\"color\":\"#355d7a\",\"width\":3.5},\"mode\":\"lines\",\"name\":\"Bearing 0\",\"showlegend\":false,\"x\":[-0.03214285714285715,-0.019285714285714288],\"y\":[0.125,0.1375],\"type\":\"scatter\"},{\"hoverinfo\":\"none\",\"legendgroup\":\"bearings\",\"line\":{\"color\":\"#355d7a\",\"width\":3.5},\"mode\":\"lines\",\"name\":\"Bearing 0\",\"showlegend\":false,\"x\":[-0.03214285714285715,-0.019285714285714288],\"y\":[-0.125,-0.1375],\"type\":\"scatter\"},{\"hoverinfo\":\"none\",\"legendgroup\":\"bearings\",\"line\":{\"color\":\"#355d7a\",\"width\":3.5},\"mode\":\"lines\",\"name\":\"Bearing 0\",\"showlegend\":false,\"x\":[-0.019285714285714288,-0.006428571428571429],\"y\":[0.125,0.1375],\"type\":\"scatter\"},{\"hoverinfo\":\"none\",\"legendgroup\":\"bearings\",\"line\":{\"color\":\"#355d7a\",\"width\":3.5},\"mode\":\"lines\",\"name\":\"Bearing 0\",\"showlegend\":false,\"x\":[-0.019285714285714288,-0.006428571428571429],\"y\":[-0.125,-0.1375],\"type\":\"scatter\"},{\"hoverinfo\":\"none\",\"legendgroup\":\"bearings\",\"line\":{\"color\":\"#355d7a\",\"width\":3.5},\"mode\":\"lines\",\"name\":\"Bearing 0\",\"showlegend\":false,\"x\":[-0.006428571428571429,0.006428571428571429],\"y\":[0.125,0.1375],\"type\":\"scatter\"},{\"hoverinfo\":\"none\",\"legendgroup\":\"bearings\",\"line\":{\"color\":\"#355d7a\",\"width\":3.5},\"mode\":\"lines\",\"name\":\"Bearing 0\",\"showlegend\":false,\"x\":[-0.006428571428571429,0.006428571428571429],\"y\":[-0.125,-0.1375],\"type\":\"scatter\"},{\"hoverinfo\":\"none\",\"legendgroup\":\"bearings\",\"line\":{\"color\":\"#355d7a\",\"width\":3.5},\"mode\":\"lines\",\"name\":\"Bearing 0\",\"showlegend\":false,\"x\":[0.006428571428571429,0.019285714285714288],\"y\":[0.125,0.1375],\"type\":\"scatter\"},{\"hoverinfo\":\"none\",\"legendgroup\":\"bearings\",\"line\":{\"color\":\"#355d7a\",\"width\":3.5},\"mode\":\"lines\",\"name\":\"Bearing 0\",\"showlegend\":false,\"x\":[0.006428571428571429,0.019285714285714288],\"y\":[-0.125,-0.1375],\"type\":\"scatter\"},{\"hoverinfo\":\"none\",\"legendgroup\":\"bearings\",\"line\":{\"color\":\"#355d7a\",\"width\":3.5},\"mode\":\"lines\",\"name\":\"Bearing 0\",\"showlegend\":false,\"x\":[0.019285714285714288,0.03214285714285715],\"y\":[0.125,0.1375],\"type\":\"scatter\"},{\"hoverinfo\":\"none\",\"legendgroup\":\"bearings\",\"line\":{\"color\":\"#355d7a\",\"width\":3.5},\"mode\":\"lines\",\"name\":\"Bearing 0\",\"showlegend\":false,\"x\":[0.019285714285714288,0.03214285714285715],\"y\":[-0.125,-0.1375],\"type\":\"scatter\"},{\"hoverinfo\":\"none\",\"legendgroup\":\"bearings\",\"line\":{\"color\":\"#355d7a\",\"width\":3.5},\"mode\":\"lines\",\"name\":\"Bearing 0\",\"showlegend\":false,\"x\":[0.03214285714285715,0.045000000000000005],\"y\":[0.125,0.1375],\"type\":\"scatter\"},{\"hoverinfo\":\"none\",\"legendgroup\":\"bearings\",\"line\":{\"color\":\"#355d7a\",\"width\":3.5},\"mode\":\"lines\",\"name\":\"Bearing 0\",\"showlegend\":false,\"x\":[0.03214285714285715,0.045000000000000005],\"y\":[-0.125,-0.1375],\"type\":\"scatter\"},{\"hoverinfo\":\"none\",\"legendgroup\":\"bearings\",\"line\":{\"color\":\"#355d7a\",\"width\":3.5},\"mode\":\"lines\",\"name\":\"Bearing 0\",\"showlegend\":false,\"x\":[-0.025,-0.025,-0.03214285714285715,-0.017857142857142856,-0.03214285714285715,-0.017857142857142856,-0.03214285714285715,-0.017857142857142856,-0.025,-0.025],\"y\":[0.05,0.05714285714285715,0.05714285714285715,0.0642857142857143,0.07142857142857142,0.07857142857142857,0.08571428571428572,0.09285714285714286,0.09285714285714286,0.1],\"type\":\"scatter\"},{\"hoverinfo\":\"none\",\"legendgroup\":\"bearings\",\"line\":{\"color\":\"#355d7a\",\"width\":3.5},\"mode\":\"lines\",\"name\":\"Bearing 0\",\"showlegend\":false,\"x\":[-0.025,-0.025,-0.03214285714285715,-0.017857142857142856,-0.03214285714285715,-0.017857142857142856,-0.03214285714285715,-0.017857142857142856,-0.025,-0.025],\"y\":[-0.05,-0.05714285714285715,-0.05714285714285715,-0.0642857142857143,-0.07142857142857142,-0.07857142857142857,-0.08571428571428572,-0.09285714285714286,-0.09285714285714286,-0.1],\"type\":\"scatter\"},{\"hoverinfo\":\"none\",\"legendgroup\":\"bearings\",\"line\":{\"color\":\"#355d7a\",\"width\":3.5},\"mode\":\"lines\",\"name\":\"Bearing 0\",\"showlegend\":false,\"x\":[0.025,0.025],\"y\":[0.05,0.0642857142857143],\"type\":\"scatter\"},{\"hoverinfo\":\"none\",\"legendgroup\":\"bearings\",\"line\":{\"color\":\"#355d7a\",\"width\":3.5},\"mode\":\"lines\",\"name\":\"Bearing 0\",\"showlegend\":false,\"x\":[0.025,0.025],\"y\":[-0.05,-0.0642857142857143],\"type\":\"scatter\"},{\"hoverinfo\":\"none\",\"legendgroup\":\"bearings\",\"line\":{\"color\":\"#355d7a\",\"width\":3.5},\"mode\":\"lines\",\"name\":\"Bearing 0\",\"showlegend\":false,\"x\":[0.010714285714285714,0.010714285714285714,0.039285714285714285,0.039285714285714285],\"y\":[0.08571428571428572,0.0642857142857143,0.0642857142857143,0.08571428571428572],\"type\":\"scatter\"},{\"hoverinfo\":\"none\",\"legendgroup\":\"bearings\",\"line\":{\"color\":\"#355d7a\",\"width\":3.5},\"mode\":\"lines\",\"name\":\"Bearing 0\",\"showlegend\":false,\"x\":[0.010714285714285714,0.010714285714285714,0.039285714285714285,0.039285714285714285],\"y\":[-0.08571428571428572,-0.0642857142857143,-0.0642857142857143,-0.08571428571428572],\"type\":\"scatter\"},{\"hoverinfo\":\"none\",\"legendgroup\":\"bearings\",\"line\":{\"color\":\"#355d7a\",\"width\":3.5},\"mode\":\"lines\",\"name\":\"Bearing 0\",\"showlegend\":false,\"x\":[0.010714285714285714,0.039285714285714285,0.025,0.025],\"y\":[0.07857142857142857,0.07857142857142857,0.07857142857142857,0.1],\"type\":\"scatter\"},{\"hoverinfo\":\"none\",\"legendgroup\":\"bearings\",\"line\":{\"color\":\"#355d7a\",\"width\":3.5},\"mode\":\"lines\",\"name\":\"Bearing 0\",\"showlegend\":false,\"x\":[0.010714285714285714,0.039285714285714285,0.025,0.025],\"y\":[-0.07857142857142857,-0.07857142857142857,-0.07857142857142857,-0.1],\"type\":\"scatter\"},{\"hoverinfo\":\"none\",\"legendgroup\":\"bearings\",\"line\":{\"color\":\"#355d7a\",\"width\":3.5},\"mode\":\"lines\",\"name\":\"Bearing 1\",\"showlegend\":false,\"x\":[1.25,1.25,1.225,1.275],\"y\":[0.025,0.05,0.05,0.05],\"type\":\"scatter\"},{\"hoverinfo\":\"none\",\"legendgroup\":\"bearings\",\"line\":{\"color\":\"#355d7a\",\"width\":3.5},\"mode\":\"lines\",\"name\":\"Bearing 1\",\"showlegend\":false,\"x\":[1.25,1.25,1.225,1.275],\"y\":[-0.025,-0.05,-0.05,-0.05],\"type\":\"scatter\"},{\"hoverinfo\":\"none\",\"legendgroup\":\"bearings\",\"line\":{\"color\":\"#355d7a\",\"width\":3.5},\"mode\":\"lines\",\"name\":\"Bearing 1\",\"showlegend\":false,\"x\":[1.25,1.25,1.225,1.275],\"y\":[0.125,0.1,0.1,0.1],\"type\":\"scatter\"},{\"hoverinfo\":\"none\",\"legendgroup\":\"bearings\",\"line\":{\"color\":\"#355d7a\",\"width\":3.5},\"mode\":\"lines\",\"name\":\"Bearing 1\",\"showlegend\":false,\"x\":[1.25,1.25,1.225,1.275],\"y\":[-0.125,-0.1,-0.1,-0.1],\"type\":\"scatter\"},{\"hoverinfo\":\"none\",\"legendgroup\":\"bearings\",\"line\":{\"color\":\"#355d7a\",\"width\":3.5},\"mode\":\"lines\",\"name\":\"Bearing 1\",\"showlegend\":false,\"x\":[1.217857142857143,1.282142857142857],\"y\":[0.125,0.125],\"type\":\"scatter\"},{\"hoverinfo\":\"none\",\"legendgroup\":\"bearings\",\"line\":{\"color\":\"#355d7a\",\"width\":3.5},\"mode\":\"lines\",\"name\":\"Bearing 1\",\"showlegend\":false,\"x\":[1.217857142857143,1.282142857142857],\"y\":[-0.125,-0.125],\"type\":\"scatter\"},{\"hoverinfo\":\"none\",\"legendgroup\":\"bearings\",\"line\":{\"color\":\"#355d7a\",\"width\":3.5},\"mode\":\"lines\",\"name\":\"Bearing 1\",\"showlegend\":false,\"x\":[1.217857142857143,1.2307142857142859],\"y\":[0.125,0.1375],\"type\":\"scatter\"},{\"hoverinfo\":\"none\",\"legendgroup\":\"bearings\",\"line\":{\"color\":\"#355d7a\",\"width\":3.5},\"mode\":\"lines\",\"name\":\"Bearing 1\",\"showlegend\":false,\"x\":[1.217857142857143,1.2307142857142859],\"y\":[-0.125,-0.1375],\"type\":\"scatter\"},{\"hoverinfo\":\"none\",\"legendgroup\":\"bearings\",\"line\":{\"color\":\"#355d7a\",\"width\":3.5},\"mode\":\"lines\",\"name\":\"Bearing 1\",\"showlegend\":false,\"x\":[1.2307142857142859,1.2435714285714285],\"y\":[0.125,0.1375],\"type\":\"scatter\"},{\"hoverinfo\":\"none\",\"legendgroup\":\"bearings\",\"line\":{\"color\":\"#355d7a\",\"width\":3.5},\"mode\":\"lines\",\"name\":\"Bearing 1\",\"showlegend\":false,\"x\":[1.2307142857142859,1.2435714285714285],\"y\":[-0.125,-0.1375],\"type\":\"scatter\"},{\"hoverinfo\":\"none\",\"legendgroup\":\"bearings\",\"line\":{\"color\":\"#355d7a\",\"width\":3.5},\"mode\":\"lines\",\"name\":\"Bearing 1\",\"showlegend\":false,\"x\":[1.2435714285714285,1.2564285714285715],\"y\":[0.125,0.1375],\"type\":\"scatter\"},{\"hoverinfo\":\"none\",\"legendgroup\":\"bearings\",\"line\":{\"color\":\"#355d7a\",\"width\":3.5},\"mode\":\"lines\",\"name\":\"Bearing 1\",\"showlegend\":false,\"x\":[1.2435714285714285,1.2564285714285715],\"y\":[-0.125,-0.1375],\"type\":\"scatter\"},{\"hoverinfo\":\"none\",\"legendgroup\":\"bearings\",\"line\":{\"color\":\"#355d7a\",\"width\":3.5},\"mode\":\"lines\",\"name\":\"Bearing 1\",\"showlegend\":false,\"x\":[1.2564285714285715,1.2692857142857141],\"y\":[0.125,0.1375],\"type\":\"scatter\"},{\"hoverinfo\":\"none\",\"legendgroup\":\"bearings\",\"line\":{\"color\":\"#355d7a\",\"width\":3.5},\"mode\":\"lines\",\"name\":\"Bearing 1\",\"showlegend\":false,\"x\":[1.2564285714285715,1.2692857142857141],\"y\":[-0.125,-0.1375],\"type\":\"scatter\"},{\"hoverinfo\":\"none\",\"legendgroup\":\"bearings\",\"line\":{\"color\":\"#355d7a\",\"width\":3.5},\"mode\":\"lines\",\"name\":\"Bearing 1\",\"showlegend\":false,\"x\":[1.2692857142857141,1.282142857142857],\"y\":[0.125,0.1375],\"type\":\"scatter\"},{\"hoverinfo\":\"none\",\"legendgroup\":\"bearings\",\"line\":{\"color\":\"#355d7a\",\"width\":3.5},\"mode\":\"lines\",\"name\":\"Bearing 1\",\"showlegend\":false,\"x\":[1.2692857142857141,1.282142857142857],\"y\":[-0.125,-0.1375],\"type\":\"scatter\"},{\"hoverinfo\":\"none\",\"legendgroup\":\"bearings\",\"line\":{\"color\":\"#355d7a\",\"width\":3.5},\"mode\":\"lines\",\"name\":\"Bearing 1\",\"showlegend\":false,\"x\":[1.282142857142857,1.295],\"y\":[0.125,0.1375],\"type\":\"scatter\"},{\"hoverinfo\":\"none\",\"legendgroup\":\"bearings\",\"line\":{\"color\":\"#355d7a\",\"width\":3.5},\"mode\":\"lines\",\"name\":\"Bearing 1\",\"showlegend\":false,\"x\":[1.282142857142857,1.295],\"y\":[-0.125,-0.1375],\"type\":\"scatter\"},{\"hoverinfo\":\"none\",\"legendgroup\":\"bearings\",\"line\":{\"color\":\"#355d7a\",\"width\":3.5},\"mode\":\"lines\",\"name\":\"Bearing 1\",\"showlegend\":false,\"x\":[1.225,1.225,1.217857142857143,1.2321428571428572,1.217857142857143,1.2321428571428572,1.217857142857143,1.2321428571428572,1.225,1.225],\"y\":[0.05,0.05714285714285715,0.05714285714285715,0.0642857142857143,0.07142857142857142,0.07857142857142857,0.08571428571428572,0.09285714285714286,0.09285714285714286,0.1],\"type\":\"scatter\"},{\"hoverinfo\":\"none\",\"legendgroup\":\"bearings\",\"line\":{\"color\":\"#355d7a\",\"width\":3.5},\"mode\":\"lines\",\"name\":\"Bearing 1\",\"showlegend\":false,\"x\":[1.225,1.225,1.217857142857143,1.2321428571428572,1.217857142857143,1.2321428571428572,1.217857142857143,1.2321428571428572,1.225,1.225],\"y\":[-0.05,-0.05714285714285715,-0.05714285714285715,-0.0642857142857143,-0.07142857142857142,-0.07857142857142857,-0.08571428571428572,-0.09285714285714286,-0.09285714285714286,-0.1],\"type\":\"scatter\"},{\"hoverinfo\":\"none\",\"legendgroup\":\"bearings\",\"line\":{\"color\":\"#355d7a\",\"width\":3.5},\"mode\":\"lines\",\"name\":\"Bearing 1\",\"showlegend\":false,\"x\":[1.275,1.275],\"y\":[0.05,0.0642857142857143],\"type\":\"scatter\"},{\"hoverinfo\":\"none\",\"legendgroup\":\"bearings\",\"line\":{\"color\":\"#355d7a\",\"width\":3.5},\"mode\":\"lines\",\"name\":\"Bearing 1\",\"showlegend\":false,\"x\":[1.275,1.275],\"y\":[-0.05,-0.0642857142857143],\"type\":\"scatter\"},{\"hoverinfo\":\"none\",\"legendgroup\":\"bearings\",\"line\":{\"color\":\"#355d7a\",\"width\":3.5},\"mode\":\"lines\",\"name\":\"Bearing 1\",\"showlegend\":false,\"x\":[1.2607142857142857,1.2607142857142857,1.2892857142857141,1.2892857142857141],\"y\":[0.08571428571428572,0.0642857142857143,0.0642857142857143,0.08571428571428572],\"type\":\"scatter\"},{\"hoverinfo\":\"none\",\"legendgroup\":\"bearings\",\"line\":{\"color\":\"#355d7a\",\"width\":3.5},\"mode\":\"lines\",\"name\":\"Bearing 1\",\"showlegend\":false,\"x\":[1.2607142857142857,1.2607142857142857,1.2892857142857141,1.2892857142857141],\"y\":[-0.08571428571428572,-0.0642857142857143,-0.0642857142857143,-0.08571428571428572],\"type\":\"scatter\"},{\"hoverinfo\":\"none\",\"legendgroup\":\"bearings\",\"line\":{\"color\":\"#355d7a\",\"width\":3.5},\"mode\":\"lines\",\"name\":\"Bearing 1\",\"showlegend\":false,\"x\":[1.2607142857142857,1.2892857142857141,1.275,1.275],\"y\":[0.07857142857142857,0.07857142857142857,0.07857142857142857,0.1],\"type\":\"scatter\"},{\"hoverinfo\":\"none\",\"legendgroup\":\"bearings\",\"line\":{\"color\":\"#355d7a\",\"width\":3.5},\"mode\":\"lines\",\"name\":\"Bearing 1\",\"showlegend\":false,\"x\":[1.2607142857142857,1.2892857142857141,1.275,1.275],\"y\":[-0.07857142857142857,-0.07857142857142857,-0.07857142857142857,-0.1],\"type\":\"scatter\"}],                        {\"template\":{\"data\":{\"barpolar\":[{\"marker\":{\"line\":{\"color\":\"white\",\"width\":0.5}},\"type\":\"barpolar\"}],\"bar\":[{\"error_x\":{\"color\":\"#2a3f5f\"},\"error_y\":{\"color\":\"#2a3f5f\"},\"marker\":{\"line\":{\"color\":\"white\",\"width\":0.5}},\"type\":\"bar\"}],\"carpet\":[{\"aaxis\":{\"endlinecolor\":\"#2a3f5f\",\"gridcolor\":\"#C8D4E3\",\"linecolor\":\"#C8D4E3\",\"minorgridcolor\":\"#C8D4E3\",\"startlinecolor\":\"#2a3f5f\"},\"baxis\":{\"endlinecolor\":\"#2a3f5f\",\"gridcolor\":\"#C8D4E3\",\"linecolor\":\"#C8D4E3\",\"minorgridcolor\":\"#C8D4E3\",\"startlinecolor\":\"#2a3f5f\"},\"type\":\"carpet\"}],\"choropleth\":[{\"colorbar\":{\"outlinewidth\":0,\"ticks\":\"\"},\"type\":\"choropleth\"}],\"contourcarpet\":[{\"colorbar\":{\"outlinewidth\":0,\"ticks\":\"\"},\"type\":\"contourcarpet\"}],\"contour\":[{\"colorbar\":{\"outlinewidth\":0,\"ticks\":\"\"},\"colorscale\":[[0.0,\"#0d0887\"],[0.1111111111111111,\"#46039f\"],[0.2222222222222222,\"#7201a8\"],[0.3333333333333333,\"#9c179e\"],[0.4444444444444444,\"#bd3786\"],[0.5555555555555556,\"#d8576b\"],[0.6666666666666666,\"#ed7953\"],[0.7777777777777778,\"#fb9f3a\"],[0.8888888888888888,\"#fdca26\"],[1.0,\"#f0f921\"]],\"type\":\"contour\"}],\"heatmapgl\":[{\"colorbar\":{\"outlinewidth\":0,\"ticks\":\"\"},\"colorscale\":[[0.0,\"#0d0887\"],[0.1111111111111111,\"#46039f\"],[0.2222222222222222,\"#7201a8\"],[0.3333333333333333,\"#9c179e\"],[0.4444444444444444,\"#bd3786\"],[0.5555555555555556,\"#d8576b\"],[0.6666666666666666,\"#ed7953\"],[0.7777777777777778,\"#fb9f3a\"],[0.8888888888888888,\"#fdca26\"],[1.0,\"#f0f921\"]],\"type\":\"heatmapgl\"}],\"heatmap\":[{\"colorbar\":{\"outlinewidth\":0,\"ticks\":\"\"},\"colorscale\":[[0.0,\"#0d0887\"],[0.1111111111111111,\"#46039f\"],[0.2222222222222222,\"#7201a8\"],[0.3333333333333333,\"#9c179e\"],[0.4444444444444444,\"#bd3786\"],[0.5555555555555556,\"#d8576b\"],[0.6666666666666666,\"#ed7953\"],[0.7777777777777778,\"#fb9f3a\"],[0.8888888888888888,\"#fdca26\"],[1.0,\"#f0f921\"]],\"type\":\"heatmap\"}],\"histogram2dcontour\":[{\"colorbar\":{\"outlinewidth\":0,\"ticks\":\"\"},\"colorscale\":[[0.0,\"#0d0887\"],[0.1111111111111111,\"#46039f\"],[0.2222222222222222,\"#7201a8\"],[0.3333333333333333,\"#9c179e\"],[0.4444444444444444,\"#bd3786\"],[0.5555555555555556,\"#d8576b\"],[0.6666666666666666,\"#ed7953\"],[0.7777777777777778,\"#fb9f3a\"],[0.8888888888888888,\"#fdca26\"],[1.0,\"#f0f921\"]],\"type\":\"histogram2dcontour\"}],\"histogram2d\":[{\"colorbar\":{\"outlinewidth\":0,\"ticks\":\"\"},\"colorscale\":[[0.0,\"#0d0887\"],[0.1111111111111111,\"#46039f\"],[0.2222222222222222,\"#7201a8\"],[0.3333333333333333,\"#9c179e\"],[0.4444444444444444,\"#bd3786\"],[0.5555555555555556,\"#d8576b\"],[0.6666666666666666,\"#ed7953\"],[0.7777777777777778,\"#fb9f3a\"],[0.8888888888888888,\"#fdca26\"],[1.0,\"#f0f921\"]],\"type\":\"histogram2d\"}],\"histogram\":[{\"marker\":{\"colorbar\":{\"outlinewidth\":0,\"ticks\":\"\"}},\"type\":\"histogram\"}],\"mesh3d\":[{\"colorbar\":{\"outlinewidth\":0,\"ticks\":\"\"},\"type\":\"mesh3d\"}],\"parcoords\":[{\"line\":{\"colorbar\":{\"outlinewidth\":0,\"ticks\":\"\"}},\"type\":\"parcoords\"}],\"pie\":[{\"automargin\":true,\"type\":\"pie\"}],\"scatter3d\":[{\"line\":{\"colorbar\":{\"outlinewidth\":0,\"ticks\":\"\"}},\"marker\":{\"colorbar\":{\"outlinewidth\":0,\"ticks\":\"\"}},\"type\":\"scatter3d\"}],\"scattercarpet\":[{\"marker\":{\"colorbar\":{\"outlinewidth\":0,\"ticks\":\"\"}},\"type\":\"scattercarpet\"}],\"scattergeo\":[{\"marker\":{\"colorbar\":{\"outlinewidth\":0,\"ticks\":\"\"}},\"type\":\"scattergeo\"}],\"scattergl\":[{\"marker\":{\"colorbar\":{\"outlinewidth\":0,\"ticks\":\"\"}},\"type\":\"scattergl\"}],\"scattermapbox\":[{\"marker\":{\"colorbar\":{\"outlinewidth\":0,\"ticks\":\"\"}},\"type\":\"scattermapbox\"}],\"scatterpolargl\":[{\"marker\":{\"colorbar\":{\"outlinewidth\":0,\"ticks\":\"\"}},\"type\":\"scatterpolargl\"}],\"scatterpolar\":[{\"marker\":{\"colorbar\":{\"outlinewidth\":0,\"ticks\":\"\"}},\"type\":\"scatterpolar\"}],\"scatter\":[{\"marker\":{\"colorbar\":{\"outlinewidth\":0,\"ticks\":\"\"}},\"type\":\"scatter\"}],\"scatterternary\":[{\"marker\":{\"colorbar\":{\"outlinewidth\":0,\"ticks\":\"\"}},\"type\":\"scatterternary\"}],\"surface\":[{\"colorbar\":{\"outlinewidth\":0,\"ticks\":\"\"},\"colorscale\":[[0.0,\"#0d0887\"],[0.1111111111111111,\"#46039f\"],[0.2222222222222222,\"#7201a8\"],[0.3333333333333333,\"#9c179e\"],[0.4444444444444444,\"#bd3786\"],[0.5555555555555556,\"#d8576b\"],[0.6666666666666666,\"#ed7953\"],[0.7777777777777778,\"#fb9f3a\"],[0.8888888888888888,\"#fdca26\"],[1.0,\"#f0f921\"]],\"type\":\"surface\"}],\"table\":[{\"cells\":{\"fill\":{\"color\":\"#EBF0F8\"},\"line\":{\"color\":\"white\"}},\"header\":{\"fill\":{\"color\":\"#C8D4E3\"},\"line\":{\"color\":\"white\"}},\"type\":\"table\"}]},\"layout\":{\"annotationdefaults\":{\"arrowcolor\":\"#2a3f5f\",\"arrowhead\":0,\"arrowwidth\":1},\"coloraxis\":{\"colorbar\":{\"outlinewidth\":0,\"ticks\":\"\"}},\"colorscale\":{\"diverging\":[[0,\"#8e0152\"],[0.1,\"#c51b7d\"],[0.2,\"#de77ae\"],[0.3,\"#f1b6da\"],[0.4,\"#fde0ef\"],[0.5,\"#f7f7f7\"],[0.6,\"#e6f5d0\"],[0.7,\"#b8e186\"],[0.8,\"#7fbc41\"],[0.9,\"#4d9221\"],[1,\"#276419\"]],\"sequential\":[[0.0,\"#0d0887\"],[0.1111111111111111,\"#46039f\"],[0.2222222222222222,\"#7201a8\"],[0.3333333333333333,\"#9c179e\"],[0.4444444444444444,\"#bd3786\"],[0.5555555555555556,\"#d8576b\"],[0.6666666666666666,\"#ed7953\"],[0.7777777777777778,\"#fb9f3a\"],[0.8888888888888888,\"#fdca26\"],[1.0,\"#f0f921\"]],\"sequentialminus\":[[0.0,\"#0d0887\"],[0.1111111111111111,\"#46039f\"],[0.2222222222222222,\"#7201a8\"],[0.3333333333333333,\"#9c179e\"],[0.4444444444444444,\"#bd3786\"],[0.5555555555555556,\"#d8576b\"],[0.6666666666666666,\"#ed7953\"],[0.7777777777777778,\"#fb9f3a\"],[0.8888888888888888,\"#fdca26\"],[1.0,\"#f0f921\"]]},\"colorway\":[\"#1f77b4\",\"#ff7f0e\",\"#2ca02c\",\"#d62728\",\"#9467bd\",\"#8c564b\",\"#e377c2\",\"#7f7f7f\",\"#bcbd22\",\"#17becf\"],\"font\":{\"color\":\"#2a3f5f\"},\"geo\":{\"bgcolor\":\"white\",\"lakecolor\":\"white\",\"landcolor\":\"white\",\"showlakes\":true,\"showland\":true,\"subunitcolor\":\"#C8D4E3\"},\"hoverlabel\":{\"align\":\"left\"},\"hovermode\":\"closest\",\"mapbox\":{\"style\":\"light\"},\"paper_bgcolor\":\"white\",\"plot_bgcolor\":\"white\",\"polar\":{\"angularaxis\":{\"gridcolor\":\"#EBF0F8\",\"linecolor\":\"#EBF0F8\",\"ticks\":\"\"},\"bgcolor\":\"white\",\"radialaxis\":{\"gridcolor\":\"#EBF0F8\",\"linecolor\":\"#EBF0F8\",\"ticks\":\"\"}},\"scene\":{\"camera\":{\"center\":{\"x\":0,\"y\":0,\"z\":0},\"eye\":{\"x\":2.0,\"y\":2.0,\"z\":2.0},\"up\":{\"x\":0,\"y\":0,\"z\":1}},\"xaxis\":{\"backgroundcolor\":\"white\",\"gridcolor\":\"#DFE8F3\",\"gridwidth\":2,\"linecolor\":\"#EBF0F8\",\"showbackground\":true,\"showspikes\":false,\"ticks\":\"\",\"zerolinecolor\":\"#EBF0F8\"},\"yaxis\":{\"backgroundcolor\":\"white\",\"gridcolor\":\"#DFE8F3\",\"gridwidth\":2,\"linecolor\":\"#EBF0F8\",\"showbackground\":true,\"showspikes\":false,\"ticks\":\"\",\"zerolinecolor\":\"#EBF0F8\"},\"zaxis\":{\"backgroundcolor\":\"white\",\"gridcolor\":\"#DFE8F3\",\"gridwidth\":2,\"linecolor\":\"#EBF0F8\",\"showbackground\":true,\"showspikes\":false,\"ticks\":\"\",\"zerolinecolor\":\"#EBF0F8\"}},\"shapedefaults\":{\"line\":{\"color\":\"#2a3f5f\"}},\"ternary\":{\"aaxis\":{\"gridcolor\":\"#DFE8F3\",\"linecolor\":\"#A2B1C6\",\"ticks\":\"\"},\"baxis\":{\"gridcolor\":\"#DFE8F3\",\"linecolor\":\"#A2B1C6\",\"ticks\":\"\"},\"bgcolor\":\"white\",\"caxis\":{\"gridcolor\":\"#DFE8F3\",\"linecolor\":\"#A2B1C6\",\"ticks\":\"\"}},\"title\":{\"x\":0.05},\"xaxis\":{\"automargin\":true,\"gridcolor\":\"#EBF0F8\",\"linecolor\":\"black\",\"linewidth\":2.0,\"mirror\":true,\"showline\":true,\"ticks\":\"\",\"title\":{\"standoff\":15},\"zeroline\":false,\"zerolinecolor\":\"#EBF0F8\",\"zerolinewidth\":2},\"yaxis\":{\"automargin\":true,\"gridcolor\":\"#EBF0F8\",\"linecolor\":\"black\",\"linewidth\":2.0,\"mirror\":true,\"showline\":true,\"ticks\":\"\",\"title\":{\"standoff\":15},\"zeroline\":false,\"zerolinecolor\":\"#EBF0F8\",\"zerolinewidth\":2}}},\"shapes\":[{\"fillcolor\":\"Firebrick\",\"line\":{\"color\":\"Firebrick\"},\"type\":\"circle\",\"x0\":0.5083333333333333,\"x1\":0.49166666666666664,\"xref\":\"x\",\"y0\":0.11666666666666667,\"y1\":0.13333333333333333,\"yref\":\"y\"},{\"fillcolor\":\"Firebrick\",\"line\":{\"color\":\"Firebrick\"},\"type\":\"circle\",\"x0\":0.5083333333333333,\"x1\":0.49166666666666664,\"xref\":\"x\",\"y0\":-0.11666666666666667,\"y1\":-0.13333333333333333,\"yref\":\"y\"}],\"xaxis\":{\"title\":{\"text\":\"Axial location (m)\"},\"range\":[-0.15000000000000002,1.6500000000000001],\"showgrid\":false,\"mirror\":true},\"yaxis\":{\"title\":{\"text\":\"Shaft radius (m)\"},\"range\":[-0.2,0.2],\"showgrid\":false,\"mirror\":true},\"title\":{\"text\":\"Rotor Model\"},\"width\":1500,\"height\":600},                        {\"responsive\": true}                    ).then(function(){\n",
       "                            \n",
       "var gd = document.getElementById('b1efce7e-d0e5-4e75-8bd5-34f0b473e51d');\n",
       "var x = new MutationObserver(function (mutations, observer) {{\n",
       "        var display = window.getComputedStyle(gd).display;\n",
       "        if (!display || display === 'none') {{\n",
       "            console.log([gd, 'removed!']);\n",
       "            Plotly.purge(gd);\n",
       "            observer.disconnect();\n",
       "        }}\n",
       "}});\n",
       "\n",
       "// Listen for the removal of the full notebook cells\n",
       "var notebookContainer = gd.closest('#notebook-container');\n",
       "if (notebookContainer) {{\n",
       "    x.observe(notebookContainer, {childList: true});\n",
       "}}\n",
       "\n",
       "// Listen for the clearing of the current output cell\n",
       "var outputEl = gd.closest('.output');\n",
       "if (outputEl) {{\n",
       "    x.observe(outputEl, {childList: true});\n",
       "}}\n",
       "\n",
       "                        })                };                });            </script>        </div>"
      ]
     },
     "metadata": {},
     "output_type": "display_data"
    }
   ],
   "source": [
    "rotor = rs.Rotor(shaft_elements=shaft_elements, disk_elements=[disk], bearing_elements=bearings)\n",
    "rotorfig = rotor.plot_rotor(width=1500,height=600)\n",
    "rotorfig.update_yaxes(range=[-0.2, 0.2])\n",
    "rotorfig.show()\n",
    "rotorfig.write_html(\"rotorpic.html\")"
   ]
  },
  {
   "cell_type": "code",
   "execution_count": 30,
   "id": "ec7aed09",
   "metadata": {},
   "outputs": [
    {
     "data": {
      "application/vnd.plotly.v1+json": {
       "config": {
        "plotlyServerURL": "https://plot.ly"
       },
       "data": [
        {
         "hovertemplate": "Frequency (rad/s): %{x:.2f}<br>Critical Speed (rad/s): %{y:.2f}",
         "legendgroup": "Crit. Speed",
         "marker": {
          "color": "black",
          "symbol": "x"
         },
         "mode": "markers",
         "name": "Crit. Speed",
         "showlegend": true,
         "type": "scatter",
         "x": [
          114.2277671964189,
          56.916945563817094,
          37.9158510891994,
          155.24576192940975,
          77.52253661008234,
          51.669631191854485,
          261.90133517627675,
          128.1213811545465,
          85.09528709742055,
          436.3379802114347,
          213.8796105435042,
          142.09175247221577,
          636.3644837809348,
          309.5017024893683,
          205.26270071368643,
          803.899267086349,
          380.71293574104544,
          251.47400301234978
         ],
         "y": [
          114.2277671964189,
          113.83389112763419,
          113.74755326759818,
          155.24576192940975,
          155.04507322016468,
          155.00889357556346,
          261.9013351762767,
          256.242762309093,
          255.28586129226167,
          436.3379802114347,
          427.7592210870084,
          426.27525741664726,
          636.3644837809348,
          619.0034049787366,
          615.7881021410593,
          803.899267086349,
          761.4258714820909,
          754.4220090370493
         ]
        },
        {
         "hoverinfo": "none",
         "legendgroup": "Foward",
         "marker": {
          "color": [
           0.25199508051178976,
           0.26188016361409877,
           0.27085874828039136,
           0.2788522039016004,
           0.28579877315135793,
           0.29165465490411446
          ],
          "coloraxis": "coloraxis",
          "symbol": "triangle-up"
         },
         "mode": "markers",
         "name": "Foward",
         "showlegend": false,
         "type": "scatter",
         "x": [
          0,
          40.816326530612244,
          81.63265306122449,
          122.44897959183673,
          163.26530612244898,
          204.0816326530612
         ],
         "y": [
          113.68014829634215,
          113.75270959293813,
          113.9585111227785,
          114.2956795639281,
          114.76110576683563,
          115.35052121119324
         ]
        },
        {
         "hoverinfo": "none",
         "legendgroup": "Foward",
         "marker": {
          "color": [
           0.06750416906226599,
           0.08262803296259849,
           0.08129783150989149,
           0.07992230675020369,
           0.0785093206320732,
           0.07706638077849341,
           0.07560062217708952,
           0.07411879438248092,
           0.07262725335219568,
           0.07113195699762298,
           0.06963846346700617,
           0.06815193120616325,
           0.06667711979203622,
           0.06521839058519491,
           0.06377970625834409,
           0.062364628358590794,
           0.060976312172069745,
           0.059617498378201586,
           0.058290501292229915,
           0.056997193885239876,
           0.055738990365808413,
           0.05451682774864668
          ],
          "coloraxis": "coloraxis",
          "symbol": "triangle-up"
         },
         "mode": "markers",
         "name": "Foward",
         "showlegend": false,
         "type": "scatter",
         "x": [
          0,
          1183.6734693877552,
          1224.4897959183672,
          1265.3061224489795,
          1306.1224489795918,
          1346.938775510204,
          1387.7551020408164,
          1428.5714285714284,
          1469.3877551020407,
          1510.204081632653,
          1551.0204081632653,
          1591.8367346938776,
          1632.6530612244896,
          1673.469387755102,
          1714.2857142857142,
          1755.1020408163265,
          1795.9183673469388,
          1836.734693877551,
          1877.5510204081631,
          1918.3673469387754,
          1959.1836734693877,
          2000
         ],
         "y": [
          154.9722488728968,
          166.2844560329677,
          166.8646509199305,
          167.4437081405224,
          168.02075171313885,
          168.59498399990576,
          169.16568472596325,
          169.73220958157785,
          170.29398846274054,
          170.85052340795988,
          171.40138627350308,
          171.9462161829167,
          172.48471677640865,
          173.016653268717,
          173.54184932373732,
          174.06018372596793,
          174.57158683221797,
          175.07603676351536,
          175.57355529980566,
          176.06420342150605,
          176.54807645711665,
          177.02529879367103
         ]
        },
        {
         "hoverinfo": "none",
         "legendgroup": "Foward",
         "marker": {
          "color": [
           0.7608447515337337
          ],
          "coloraxis": "coloraxis",
          "symbol": "triangle-up"
         },
         "mode": "markers",
         "name": "Foward",
         "showlegend": false,
         "type": "scatter",
         "x": [
          0
         ],
         "y": [
          254.6714072648166
         ]
        },
        {
         "hoverinfo": "none",
         "legendgroup": "Foward",
         "marker": {
          "color": [
           0.4102971541029909
          ],
          "coloraxis": "coloraxis",
          "symbol": "triangle-up"
         },
         "mode": "markers",
         "name": "Foward",
         "showlegend": false,
         "type": "scatter",
         "x": [
          0
         ],
         "y": [
          425.1913420283808
         ]
        },
        {
         "hoverinfo": "none",
         "legendgroup": "Foward",
         "marker": {
          "color": [
           0.536549408806611
          ],
          "coloraxis": "coloraxis",
          "symbol": "triangle-up"
         },
         "mode": "markers",
         "name": "Foward",
         "showlegend": false,
         "type": "scatter",
         "x": [
          0
         ],
         "y": [
          613.4254040132942
         ]
        },
        {
         "hoverinfo": "none",
         "legendgroup": "Foward",
         "marker": {
          "color": [
           0.320778791525701,
           0.3339989673784318,
           0.34732078752771217,
           0.3607522088432659,
           0.3743007279626474,
           0.3879733742221466,
           0.4017765780091257,
           0.41571588193922093,
           0.4297954652392826,
           0.444017456354785,
           0.45838101503595086,
           0.47288117968317334,
           0.487507493940223,
           0.502242454638184,
           0.5170598607136971,
           0.5319231840802775,
           0.5467841291652337,
           0.5615815825313188,
           0.5762411689996921,
           0.5906756074562958,
           0.6047859963881904,
           0.618464047178857,
           0.631595150058326,
           0.6440620230553822,
           0.6557485996381237,
           0.6665437788857954,
           0.6763446996803699,
           0.6850593003873457,
           0.6926080487196976,
           0.6989248502028758,
           0.7039572404486785,
           0.7076660204939308,
           0.7100245164974486,
           0.7110176331124317,
           0.7106408443013937,
           0.7088992294483217,
           0.7058066296094635,
           0.701384965464207,
           0.6956637338011572,
           0.688679678059707,
           0.6804766097318592,
           0.6711053449940813,
           0.6606237071029426,
           0.649096536925682,
           0.6365956462538156,
           0.6231996476171926,
           0.6089935968316214,
           0.5940683957201924,
           0.578519920734021,
           0.5624478697965228
          ],
          "coloraxis": "coloraxis",
          "symbol": "triangle-up"
         },
         "mode": "markers",
         "name": "Foward",
         "showlegend": false,
         "type": "scatter",
         "x": [
          0,
          40.816326530612244,
          81.63265306122449,
          122.44897959183673,
          163.26530612244898,
          204.0816326530612,
          244.89795918367346,
          285.7142857142857,
          326.53061224489795,
          367.3469387755102,
          408.1632653061224,
          448.9795918367347,
          489.7959183673469,
          530.6122448979592,
          571.4285714285714,
          612.2448979591836,
          653.0612244897959,
          693.8775510204082,
          734.6938775510204,
          775.5102040816327,
          816.3265306122448,
          857.1428571428571,
          897.9591836734694,
          938.7755102040816,
          979.5918367346939,
          1020.4081632653061,
          1061.2244897959183,
          1102.0408163265306,
          1142.857142857143,
          1183.6734693877552,
          1224.4897959183672,
          1265.3061224489795,
          1306.1224489795918,
          1346.938775510204,
          1387.7551020408164,
          1428.5714285714284,
          1469.3877551020407,
          1510.204081632653,
          1551.0204081632653,
          1591.8367346938776,
          1632.6530612244896,
          1673.469387755102,
          1714.2857142857142,
          1755.1020408163265,
          1795.9183673469388,
          1836.734693877551,
          1877.5510204081631,
          1918.3673469387754,
          1959.1836734693877,
          2000
         ],
         "y": [
          748.4483979592563,
          748.7235142647627,
          749.2685288748825,
          750.0817934009145,
          751.1619711243817,
          752.5080939810484,
          754.119620268581,
          755.9964932083823,
          758.139199313696,
          760.5488242087953,
          763.2271016303691,
          766.1764491060651,
          769.3999817542519,
          772.9014934544671,
          776.6853931198348,
          780.7565840321275,
          785.1202761751356,
          789.7817267273739,
          794.745911899495,
          800.0171441039452,
          805.598659748032,
          811.4922124334282,
          817.6977107582697,
          824.2129373468646,
          831.0333756456334,
          838.1521556236329,
          845.5601127253127,
          853.2459400516857,
          861.1964047795306,
          869.3965974555806,
          877.8301858927988,
          886.4796518971494,
          895.326497035479,
          904.3514111588903,
          913.5344035405725,
          922.8549009521253,
          932.2918200510255,
          941.8236228213366,
          951.4283651437966,
          961.0837482918558,
          970.767183259347,
          980.455877096792,
          990.1269491380093,
          999.7575834663804,
          1009.3252208676261,
          1018.807790711052,
          1028.1839781344413,
          1037.4335178329673,
          1046.5375006207714,
          1055.4786751444558
         ]
        },
        {
         "hoverinfo": "none",
         "legendgroup": "Mixed",
         "marker": {
          "color": [
           0.25769389364169154,
           0.2507481848066362,
           0.2436378508920158,
           0.2364147989026747,
           0.22912600222595375,
           0.22181355798564167,
           0.2145148204051865,
           0.20726259284789347,
           0.20008536351263181
          ],
          "coloraxis": "coloraxis",
          "symbol": "circle"
         },
         "mode": "markers",
         "name": "Mixed",
         "showlegend": false,
         "type": "scatter",
         "x": [
          857.1428571428571,
          897.9591836734694,
          938.7755102040816,
          979.5918367346939,
          1020.4081632653061,
          1061.2244897959183,
          1102.0408163265306,
          1142.857142857143,
          1183.6734693877552
         ],
         "y": [
          135.67899893087298,
          137.2286442938849,
          138.77130080818765,
          140.3025128200789,
          141.8183153378451,
          143.31521361230367,
          144.7901588432229,
          146.24052110805835,
          147.6640604493204
         ]
        },
        {
         "hoverinfo": "none",
         "legendgroup": "Mixed",
         "marker": {
          "color": [
           0.07020034069269362,
           0.07277628313008208,
           0.07522017229517614,
           0.07752121532403733,
           0.0796697700244238,
           0.0816574457518337,
           0.08347718323648867,
           0.08512331151841354,
           0.0865915809419393,
           0.0878791720091206,
           0.08898468075542715,
           0.08990808205561357,
           0.09065067293191269,
           0.09121499836783134,
           0.09160476247145086,
           0.09182472798143596,
           0.09188060712666474,
           0.0917789467914649,
           0.09152701075500796,
           0.09113266155641311,
           0.09060424424272802,
           0.08995047397309593,
           0.08918032910772204,
           0.08830295112333415,
           0.08732755231264214,
           0.08626333201451222,
           0.08511940176330787,
           0.08390471952315025
          ],
          "coloraxis": "coloraxis",
          "symbol": "circle"
         },
         "mode": "markers",
         "name": "Mixed",
         "showlegend": false,
         "type": "scatter",
         "x": [
          40.816326530612244,
          81.63265306122449,
          122.44897959183673,
          163.26530612244898,
          204.0816326530612,
          244.89795918367346,
          285.7142857142857,
          326.53061224489795,
          367.3469387755102,
          408.1632653061224,
          448.9795918367347,
          489.7959183673469,
          530.6122448979592,
          571.4285714285714,
          612.2448979591836,
          653.0612244897959,
          693.8775510204082,
          734.6938775510204,
          775.5102040816327,
          816.3265306122448,
          857.1428571428571,
          897.9591836734694,
          938.7755102040816,
          979.5918367346939,
          1020.4081632653061,
          1061.2244897959183,
          1102.0408163265306,
          1142.857142857143
         ],
         "y": [
          154.99370500394878,
          155.0508250902182,
          155.14333825377602,
          155.27080680072376,
          155.4326311445651,
          155.6280565642707,
          155.85618166415333,
          156.11596837755584,
          156.40625331178975,
          156.72576021703495,
          157.07311333543737,
          157.44685138512435,
          157.8454419261938,
          158.26729586509597,
          158.71078186599124,
          159.17424045704325,
          159.65599763851165,
          160.15437782873278,
          160.66771601345135,
          161.19436898367084,
          161.7327255869422,
          162.2812159324216,
          162.8383195289137,
          163.40257234035923,
          163.97257278317747,
          164.54698669129849,
          165.12455129893772,
          165.70407829722294
         ]
        },
        {
         "hoverinfo": "none",
         "legendgroup": "Mixed",
         "marker": {
          "color": [
           0.42698931211384256,
           0.4434054341557188,
           0.4595165116202661,
           0.4752952541586021,
           0.4907162930371205,
           0.5057563510104655,
           0.520394375706585,
           0.5346116348518285,
           0.5483917726347497,
           0.5617208277920951,
           0.5745872149382096,
           0.5869816716210701,
           0.5988971743589452,
           0.6103288273877849,
           0.6212737282488056,
           0.6317308145115611,
           0.6417006959397694,
           0.6511854760964544,
           0.6601885672565403,
           0.668714502028662,
           0.6767687445894869,
           0.6843575040199867,
           0.6914875518545557,
           0.6981660452668526,
           0.7044003572109157,
           0.7101979144024052,
           0.7155660437217497,
           0.7205118277139078,
           0.7250419695746667,
           0.7291626684772995,
           0.732879505985172,
           0.7361973452535644,
           0.7391202449821302,
           0.7416513914971572,
           0.7437930534751209,
           0.7455465658870865,
           0.7469123522871619,
           0.7478899978560648,
           0.74847839032165,
           0.7486759517730286,
           0.7484809926253078,
           0.7478922295326593,
           0.7469095237318588,
           0.7455349148953978,
           0.7437740501440165,
           0.7416381379300353,
           0.7391465902089627,
           0.7363305465597222,
           0.7332374808138337
          ],
          "coloraxis": "coloraxis",
          "symbol": "circle"
         },
         "mode": "markers",
         "name": "Mixed",
         "showlegend": false,
         "type": "scatter",
         "x": [
          40.816326530612244,
          81.63265306122449,
          122.44897959183673,
          163.26530612244898,
          204.0816326530612,
          244.89795918367346,
          285.7142857142857,
          326.53061224489795,
          367.3469387755102,
          408.1632653061224,
          448.9795918367347,
          489.7959183673469,
          530.6122448979592,
          571.4285714285714,
          612.2448979591836,
          653.0612244897959,
          693.8775510204082,
          734.6938775510204,
          775.5102040816327,
          816.3265306122448,
          857.1428571428571,
          897.9591836734694,
          938.7755102040816,
          979.5918367346939,
          1020.4081632653061,
          1061.2244897959183,
          1102.0408163265306,
          1142.857142857143,
          1183.6734693877552,
          1224.4897959183672,
          1265.3061224489795,
          1306.1224489795918,
          1346.938775510204,
          1387.7551020408164,
          1428.5714285714284,
          1469.3877551020407,
          1510.204081632653,
          1551.0204081632653,
          1591.8367346938776,
          1632.6530612244896,
          1673.469387755102,
          1714.2857142857142,
          1755.1020408163265,
          1795.9183673469388,
          1836.734693877551,
          1877.5510204081631,
          1918.3673469387754,
          1959.1836734693877,
          2000
         ],
         "y": [
          425.2362386198178,
          425.4901870212581,
          425.95271138991,
          426.6229397751096,
          427.4996118390879,
          428.5810896656329,
          429.8653714259587,
          431.35010760194905,
          433.0326194245381,
          434.90991915350884,
          436.97873179781936,
          439.23551787127167,
          441.67649677132226,
          444.2976704028259,
          447.0948466783741,
          450.0636625549148,
          453.199606324492,
          456.4980388968869,
          459.9542138609024,
          463.56329615211564,
          467.3203791998729,
          471.22050044767906,
          475.258655181855,
          479.4298086266601,
          483.7289062907149,
          488.150882548161,
          492.6906674679723,
          497.34319189758907,
          502.10339079403366,
          506.9662048034367,
          511.9265800556385,
          516.9794660977191,
          522.1198118750733,
          527.3425595480862,
          532.6426359059913,
          538.0149409605315,
          543.4543331911992,
          548.955610693314,
          554.5134872643257,
          560.122562182298,
          565.7772821754982,
          571.4718938289197,
          577.20038464681,
          582.9564112879895,
          588.7332146299397,
          594.5235238881618,
          600.3194572396732,
          606.1124360170401,
          611.893146222322
         ]
        },
        {
         "hoverinfo": "none",
         "legendgroup": "Mixed",
         "marker": {
          "color": [
           0.4998832588727365,
           0.497519723090392,
           0.4964603529161156,
           0.4967963634142287,
           0.4986133157631313
          ],
          "coloraxis": "coloraxis",
          "symbol": "circle"
         },
         "mode": "markers",
         "name": "Mixed",
         "showlegend": false,
         "type": "scatter",
         "x": [
          1836.734693877551,
          1877.5510204081631,
          1918.3673469387754,
          1959.1836734693877,
          2000
         ],
         "y": [
          703.6915987712221,
          705.3902621860802,
          707.1275842876316,
          708.9211238735095,
          710.7909249545014
         ]
        },
        {
         "hoverinfo": "none",
         "legendgroup": "Backward",
         "marker": {
          "color": [
           0.2963943700653351,
           0.3000104390515583,
           0.3025124445938509,
           0.3039255868145455,
           0.3042888571194556,
           0.30365296328813896,
           0.30207813232276387,
           0.29963190294648273,
           0.2963869996636708,
           0.29241935802472213,
           0.2878063487474501,
           0.2826252286365786,
           0.2769518295828321,
           0.27085948389370057,
           0.26441817467439643,
           0.19300757177636935,
           0.1860498941198575,
           0.17922954058803553,
           0.17256055421925193,
           0.1660541076068933,
           0.1597187919058152,
           0.1535608949726331,
           0.14758466622366784,
           0.1417925667042498,
           0.13618550367954024,
           0.13076304954826273,
           0.12552364548634823,
           0.12046479050330311,
           0.11558321691631851,
           0.1108750533065595,
           0.10633597605551282,
           0.10196135036773714,
           0.09774636135022557,
           0.09368613526191892,
           0.08977585035589891
          ],
          "coloraxis": "coloraxis",
          "symbol": "triangle-down"
         },
         "mode": "markers",
         "name": "Backward",
         "showlegend": false,
         "type": "scatter",
         "x": [
          244.89795918367346,
          285.7142857142857,
          326.53061224489795,
          367.3469387755102,
          408.1632653061224,
          448.9795918367347,
          489.7959183673469,
          530.6122448979592,
          571.4285714285714,
          612.2448979591836,
          653.0612244897959,
          693.8775510204082,
          734.6938775510204,
          775.5102040816327,
          816.3265306122448,
          1224.4897959183672,
          1265.3061224489795,
          1306.1224489795918,
          1346.938775510204,
          1387.7551020408164,
          1428.5714285714284,
          1469.3877551020407,
          1510.204081632653,
          1551.0204081632653,
          1591.8367346938776,
          1632.6530612244896,
          1673.469387755102,
          1714.2857142857142,
          1755.1020408163265,
          1795.9183673469388,
          1836.734693877551,
          1877.5510204081631,
          1918.3673469387754,
          1959.1836734693877,
          2000
         ],
         "y": [
          116.05860130640998,
          116.8790904355099,
          117.8049429006861,
          118.82847365002611,
          119.94151278874753,
          121.13555840447923,
          122.40192297725144,
          123.73186958480176,
          125.11673507562483,
          126.5480383425521,
          128.01757270378062,
          129.51748213595852,
          131.040321722474,
          132.5791031426172,
          134.1273263668477,
          149.05889694552693,
          150.42348044427612,
          151.7565605238865,
          153.0571571370798,
          154.32453228880783,
          155.55816302477987,
          156.7577159173208,
          157.92302318845773,
          159.0540605534563,
          160.15092682256932,
          161.21382528101836,
          162.24304683196604,
          163.2389548859508,
          164.2019719586846,
          165.13256794635004,
          166.03125004491787,
          166.89855427660464,
          167.73503859420845,
          168.54127752965763,
          169.31785833768257
         ]
        },
        {
         "hoverinfo": "none",
         "legendgroup": "Backward",
         "marker": {
          "color": [
           0.7916581780539027,
           0.8208978466159536,
           0.8484154734254847,
           0.8740914542916675,
           0.8978369969290901,
           0.9195949398727696,
           0.9393392931917087,
           0.9570736267421796,
           0.9728285011721358,
           0.9866581800450644,
           0.9986368770169026,
           1.008854783636761,
           1.0174140960141502,
           1.024425219298303,
           1.0300032840693514,
           1.0342650639565016,
           1.037326342957424,
           1.0392997466132277,
           1.040293024434498,
           1.0404077515368697,
           1.0397384052653982,
           1.0383717654809907,
           1.0363865852424614,
           1.033853479336292,
           1.0308349815016902,
           1.0273857257034378,
           1.0235527119609351,
           1.0193756227663173,
           1.0148871611054868,
           1.0101133860809937,
           1.0050740260389832,
           0.9997827530048502,
           0.9942474047968703,
           0.9884701438382563,
           0.9824475432340007,
           0.9761705921317283,
           0.9696246132867908,
           0.9627890865875487,
           0.9556373729643592,
           0.9481363340860406,
           0.9402458448836507,
           0.931918198423351,
           0.9230974074198067,
           0.9137184141583913,
           0.903706233596648,
           0.8929750752440359,
           0.8814275237520647,
           0.8689539132982301,
           0.8554321186156552
          ],
          "coloraxis": "coloraxis",
          "symbol": "triangle-down"
         },
         "mode": "markers",
         "name": "Backward",
         "showlegend": false,
         "type": "scatter",
         "x": [
          40.816326530612244,
          81.63265306122449,
          122.44897959183673,
          163.26530612244898,
          204.0816326530612,
          244.89795918367346,
          285.7142857142857,
          326.53061224489795,
          367.3469387755102,
          408.1632653061224,
          448.9795918367347,
          489.7959183673469,
          530.6122448979592,
          571.4285714285714,
          612.2448979591836,
          653.0612244897959,
          693.8775510204082,
          734.6938775510204,
          775.5102040816327,
          816.3265306122448,
          857.1428571428571,
          897.9591836734694,
          938.7755102040816,
          979.5918367346939,
          1020.4081632653061,
          1061.2244897959183,
          1102.0408163265306,
          1142.857142857143,
          1183.6734693877552,
          1224.4897959183672,
          1265.3061224489795,
          1306.1224489795918,
          1346.938775510204,
          1387.7551020408164,
          1428.5714285714284,
          1469.3877551020407,
          1510.204081632653,
          1551.0204081632653,
          1591.8367346938776,
          1632.6530612244896,
          1673.469387755102,
          1714.2857142857142,
          1755.1020408163265,
          1795.9183673469388,
          1836.734693877551,
          1877.5510204081631,
          1918.3673469387754,
          1959.1836734693877,
          2000
         ],
         "y": [
          254.74607485265898,
          255.21315995979896,
          256.0701379984798,
          257.31227330064695,
          258.93273325079855,
          260.92275078015825,
          263.2718266499801,
          265.9679613878818,
          268.9979059743254,
          272.3474205099323,
          276.00153085746126,
          279.94477465653785,
          284.1614297209725,
          288.6357197334899,
          293.35199386839236,
          298.2948787039934,
          303.44940213990964,
          308.8010901840696,
          314.3360383736315,
          320.0409600939573,
          325.9032144931968,
          331.9108167702808,
          338.0524336439513,
          344.3173666624581,
          350.6955258075887,
          357.177395591425,
          363.75399552724394,
          370.4168366089068,
          377.15787506470747,
          383.9694644634654,
          390.8443068867335,
          397.7754037636321,
          404.75600663614205,
          411.779568007309,
          418.8396922094111,
          425.9300860248965,
          433.04450863701925,
          440.1767202345047,
          447.32042830950644,
          454.4692303168804,
          461.61655085844325,
          468.7555708014633,
          475.8791447676791,
          482.9797019522099,
          490.0491232906305,
          497.0785852568934,
          504.0583570518212,
          510.9775334114297,
          517.8236802150001
         ]
        },
        {
         "hoverinfo": "none",
         "legendgroup": "Backward",
         "marker": {
          "color": [
           0.5585698659241091,
           0.5797626100491169,
           0.600032044502499,
           0.6192839950229438,
           0.6374261020876838,
           0.6543683894859589,
           0.6700240418272199,
           0.6843104162902969,
           0.6971503055927705,
           0.7084734614454687,
           0.7182183654121267,
           0.7263342191570136,
           0.7327830896892054,
           0.7375421110317882,
           0.7406055989592607,
           0.7419868947919173,
           0.7417197190658459,
           0.7398588098541116,
           0.7364796466796227,
           0.7316771350076475,
           0.7255632428601804,
           0.7182637223399022,
           0.7099141853885111,
           0.7006559016793913,
           0.6906317134318379,
           0.6799824249073602,
           0.6688439204313847,
           0.6573451383995402,
           0.6456069054346124,
           0.6337415377595551,
           0.6218530634247859,
           0.6100378973502472,
           0.5983858146287651,
           0.586981090292384,
           0.5759037078484481,
           0.5652305686691765,
           0.55503665885411,
           0.5453961486409704,
           0.5363834076857109,
           0.5280739239738312,
           0.5205451083854081,
           0.5138769573428963,
           0.5081525271492143,
           0.503458146882085
          ],
          "coloraxis": "coloraxis",
          "symbol": "triangle-down"
         },
         "mode": "markers",
         "name": "Backward",
         "showlegend": false,
         "type": "scatter",
         "x": [
          40.816326530612244,
          81.63265306122449,
          122.44897959183673,
          163.26530612244898,
          204.0816326530612,
          244.89795918367346,
          285.7142857142857,
          326.53061224489795,
          367.3469387755102,
          408.1632653061224,
          448.9795918367347,
          489.7959183673469,
          530.6122448979592,
          571.4285714285714,
          612.2448979591836,
          653.0612244897959,
          693.8775510204082,
          734.6938775510204,
          775.5102040816327,
          816.3265306122448,
          857.1428571428571,
          897.9591836734694,
          938.7755102040816,
          979.5918367346939,
          1020.4081632653061,
          1061.2244897959183,
          1102.0408163265306,
          1142.857142857143,
          1183.6734693877552,
          1224.4897959183672,
          1265.3061224489795,
          1306.1224489795918,
          1346.938775510204,
          1387.7551020408164,
          1428.5714285714284,
          1469.3877551020407,
          1510.204081632653,
          1551.0204081632653,
          1591.8367346938776,
          1632.6530612244896,
          1673.469387755102,
          1714.2857142857142,
          1755.1020408163265,
          1795.9183673469388
         ],
         "y": [
          613.4774515659706,
          613.7350415043974,
          614.2004007298837,
          614.8744262681671,
          615.7566093908196,
          616.8449618913941,
          618.1359447417601,
          619.6244014590042,
          621.3034989277777,
          623.1646813582214,
          625.1976439520798,
          627.3903363722051,
          629.7290067526221,
          632.1982991497483,
          634.7814165346729,
          637.4603592877063,
          640.2162435883763,
          643.0296957725864,
          645.8813076217143,
          648.7521262289096,
          651.6241418703236,
          654.4807332158719,
          657.3070315008454,
          660.0901752636454,
          662.8194427573567,
          665.4862660146272,
          668.084145276055,
          670.6084915044971,
          673.0564274808268,
          675.4265756057342,
          677.7188541572121,
          679.9342967403348,
          682.0749027008869,
          684.1435210417625,
          686.1437667705165,
          688.079966858388,
          689.9571322236814,
          691.7809527416437,
          693.5578130603689,
          695.2948284027749,
          696.9999010263152,
          698.6817996041417,
          700.3502654932947,
          702.0161513409048
         ]
        },
        {
         "hoverinfo": "none",
         "line": {
          "color": "blue",
          "dash": "dashdot"
         },
         "mode": "lines",
         "name": "1x speed",
         "type": "scatter",
         "x": [
          0,
          40.816326530612244,
          81.63265306122449,
          122.44897959183673,
          163.26530612244898,
          204.0816326530612,
          244.89795918367346,
          285.7142857142857,
          326.53061224489795,
          367.3469387755102,
          408.1632653061224,
          448.9795918367347,
          489.7959183673469,
          530.6122448979592,
          571.4285714285714,
          612.2448979591836,
          653.0612244897959,
          693.8775510204082,
          734.6938775510204,
          775.5102040816327,
          816.3265306122448,
          857.1428571428571,
          897.9591836734694,
          938.7755102040816,
          979.5918367346939,
          1020.4081632653061,
          1061.2244897959183,
          1102.0408163265306,
          1142.857142857143,
          1183.6734693877552,
          1224.4897959183672,
          1265.3061224489795,
          1306.1224489795918,
          1346.938775510204,
          1387.7551020408164,
          1428.5714285714284,
          1469.3877551020407,
          1510.204081632653,
          1551.0204081632653,
          1591.8367346938776,
          1632.6530612244896,
          1673.469387755102,
          1714.2857142857142,
          1755.1020408163265,
          1795.9183673469388,
          1836.734693877551,
          1877.5510204081631,
          1918.3673469387754,
          1959.1836734693877,
          2000
         ],
         "y": [
          0,
          40.816326530612244,
          81.63265306122449,
          122.44897959183673,
          163.26530612244898,
          204.0816326530612,
          244.89795918367346,
          285.7142857142857,
          326.53061224489795,
          367.3469387755102,
          408.1632653061224,
          448.9795918367347,
          489.7959183673469,
          530.6122448979592,
          571.4285714285714,
          612.2448979591836,
          653.0612244897959,
          693.8775510204082,
          734.6938775510204,
          775.5102040816327,
          816.3265306122448,
          857.1428571428571,
          897.9591836734694,
          938.7755102040816,
          979.5918367346939,
          1020.4081632653061,
          1061.2244897959183,
          1102.0408163265306,
          1142.857142857143,
          1183.6734693877552,
          1224.4897959183672,
          1265.3061224489795,
          1306.1224489795918,
          1346.938775510204,
          1387.7551020408164,
          1428.5714285714284,
          1469.3877551020407,
          1510.204081632653,
          1551.0204081632653,
          1591.8367346938776,
          1632.6530612244896,
          1673.469387755102,
          1714.2857142857142,
          1755.1020408163265,
          1795.9183673469388,
          1836.734693877551,
          1877.5510204081631,
          1918.3673469387754,
          1959.1836734693877,
          2000
         ]
        },
        {
         "hoverinfo": "none",
         "line": {
          "color": "orange",
          "dash": "dashdot"
         },
         "mode": "lines",
         "name": "2x speed",
         "type": "scatter",
         "x": [
          0,
          40.816326530612244,
          81.63265306122449,
          122.44897959183673,
          163.26530612244898,
          204.0816326530612,
          244.89795918367346,
          285.7142857142857,
          326.53061224489795,
          367.3469387755102,
          408.1632653061224,
          448.9795918367347,
          489.7959183673469,
          530.6122448979592,
          571.4285714285714,
          612.2448979591836,
          653.0612244897959,
          693.8775510204082,
          734.6938775510204,
          775.5102040816327,
          816.3265306122448,
          857.1428571428571,
          897.9591836734694,
          938.7755102040816,
          979.5918367346939,
          1020.4081632653061,
          1061.2244897959183,
          1102.0408163265306,
          1142.857142857143,
          1183.6734693877552,
          1224.4897959183672,
          1265.3061224489795,
          1306.1224489795918,
          1346.938775510204,
          1387.7551020408164,
          1428.5714285714284,
          1469.3877551020407,
          1510.204081632653,
          1551.0204081632653,
          1591.8367346938776,
          1632.6530612244896,
          1673.469387755102,
          1714.2857142857142,
          1755.1020408163265,
          1795.9183673469388,
          1836.734693877551,
          1877.5510204081631,
          1918.3673469387754,
          1959.1836734693877,
          2000
         ],
         "y": [
          0,
          81.63265306122449,
          163.26530612244898,
          244.89795918367346,
          326.53061224489795,
          408.1632653061224,
          489.7959183673469,
          571.4285714285714,
          653.0612244897959,
          734.6938775510204,
          816.3265306122448,
          897.9591836734694,
          979.5918367346939,
          1061.2244897959183,
          1142.857142857143,
          1224.4897959183672,
          1306.1224489795918,
          1387.7551020408164,
          1469.3877551020407,
          1551.0204081632653,
          1632.6530612244896,
          1714.2857142857142,
          1795.9183673469388,
          1877.5510204081631,
          1959.1836734693877,
          2040.8163265306123,
          2122.4489795918366,
          2204.081632653061,
          2285.714285714286,
          2367.3469387755104,
          2448.9795918367345,
          2530.612244897959,
          2612.2448979591836,
          2693.877551020408,
          2775.5102040816328,
          2857.142857142857,
          2938.7755102040815,
          3020.408163265306,
          3102.0408163265306,
          3183.673469387755,
          3265.3061224489793,
          3346.938775510204,
          3428.5714285714284,
          3510.204081632653,
          3591.8367346938776,
          3673.469387755102,
          3755.1020408163263,
          3836.734693877551,
          3918.3673469387754,
          4000
         ]
        },
        {
         "hoverinfo": "none",
         "line": {
          "color": "green",
          "dash": "dashdot"
         },
         "mode": "lines",
         "name": "3x speed",
         "type": "scatter",
         "x": [
          0,
          40.816326530612244,
          81.63265306122449,
          122.44897959183673,
          163.26530612244898,
          204.0816326530612,
          244.89795918367346,
          285.7142857142857,
          326.53061224489795,
          367.3469387755102,
          408.1632653061224,
          448.9795918367347,
          489.7959183673469,
          530.6122448979592,
          571.4285714285714,
          612.2448979591836,
          653.0612244897959,
          693.8775510204082,
          734.6938775510204,
          775.5102040816327,
          816.3265306122448,
          857.1428571428571,
          897.9591836734694,
          938.7755102040816,
          979.5918367346939,
          1020.4081632653061,
          1061.2244897959183,
          1102.0408163265306,
          1142.857142857143,
          1183.6734693877552,
          1224.4897959183672,
          1265.3061224489795,
          1306.1224489795918,
          1346.938775510204,
          1387.7551020408164,
          1428.5714285714284,
          1469.3877551020407,
          1510.204081632653,
          1551.0204081632653,
          1591.8367346938776,
          1632.6530612244896,
          1673.469387755102,
          1714.2857142857142,
          1755.1020408163265,
          1795.9183673469388,
          1836.734693877551,
          1877.5510204081631,
          1918.3673469387754,
          1959.1836734693877,
          2000
         ],
         "y": [
          0,
          122.44897959183673,
          244.89795918367346,
          367.3469387755102,
          489.7959183673469,
          612.2448979591836,
          734.6938775510204,
          857.1428571428571,
          979.5918367346939,
          1102.0408163265306,
          1224.4897959183672,
          1346.938775510204,
          1469.3877551020407,
          1591.8367346938776,
          1714.2857142857142,
          1836.7346938775509,
          1959.1836734693877,
          2081.6326530612246,
          2204.081632653061,
          2326.530612244898,
          2448.9795918367345,
          2571.4285714285716,
          2693.877551020408,
          2816.326530612245,
          2938.7755102040815,
          3061.2244897959185,
          3183.673469387755,
          3306.122448979592,
          3428.5714285714284,
          3551.0204081632655,
          3673.4693877551017,
          3795.918367346939,
          3918.3673469387754,
          4040.816326530612,
          4163.265306122449,
          4285.714285714285,
          4408.163265306122,
          4530.612244897959,
          4653.061224489796,
          4775.510204081633,
          4897.959183673469,
          5020.408163265306,
          5142.857142857143,
          5265.306122448979,
          5387.755102040816,
          5510.2040816326535,
          5632.65306122449,
          5755.102040816326,
          5877.551020408163,
          6000
         ]
        },
        {
         "hoverinfo": "none",
         "legendgroup": "Foward",
         "marker": {
          "color": "black",
          "symbol": "triangle-up"
         },
         "mode": "markers",
         "name": "Foward",
         "type": "scatter",
         "x": [
          0
         ],
         "y": [
          0
         ]
        },
        {
         "hoverinfo": "none",
         "legendgroup": "Mixed",
         "marker": {
          "color": "black",
          "symbol": "circle"
         },
         "mode": "markers",
         "name": "Mixed",
         "type": "scatter",
         "x": [
          0
         ],
         "y": [
          0
         ]
        },
        {
         "hoverinfo": "none",
         "legendgroup": "Backward",
         "marker": {
          "color": "black",
          "symbol": "triangle-down"
         },
         "mode": "markers",
         "name": "Backward",
         "type": "scatter",
         "x": [
          0
         ],
         "y": [
          0
         ]
        }
       ],
       "layout": {
        "coloraxis": {
         "cmax": 1,
         "cmin": 0,
         "colorbar": {
          "title": {
           "side": "right",
           "text": "<b>Log Dec</b>"
          }
         },
         "colorscale": [
          [
           0,
           "rgb(103,0,31)"
          ],
          [
           0.1,
           "rgb(178,24,43)"
          ],
          [
           0.2,
           "rgb(214,96,77)"
          ],
          [
           0.3,
           "rgb(244,165,130)"
          ],
          [
           0.4,
           "rgb(253,219,199)"
          ],
          [
           0.5,
           "rgb(247,247,247)"
          ],
          [
           0.6,
           "rgb(209,229,240)"
          ],
          [
           0.7,
           "rgb(146,197,222)"
          ],
          [
           0.8,
           "rgb(67,147,195)"
          ],
          [
           0.9,
           "rgb(33,102,172)"
          ],
          [
           1,
           "rgb(5,48,97)"
          ]
         ]
        },
        "height": 700,
        "legend": {
         "itemsizing": "constant",
         "orientation": "h",
         "x": 0.5,
         "xanchor": "center",
         "y": -0.3,
         "yanchor": "bottom"
        },
        "template": {
         "data": {
          "bar": [
           {
            "error_x": {
             "color": "#2a3f5f"
            },
            "error_y": {
             "color": "#2a3f5f"
            },
            "marker": {
             "line": {
              "color": "white",
              "width": 0.5
             }
            },
            "type": "bar"
           }
          ],
          "barpolar": [
           {
            "marker": {
             "line": {
              "color": "white",
              "width": 0.5
             }
            },
            "type": "barpolar"
           }
          ],
          "carpet": [
           {
            "aaxis": {
             "endlinecolor": "#2a3f5f",
             "gridcolor": "#C8D4E3",
             "linecolor": "#C8D4E3",
             "minorgridcolor": "#C8D4E3",
             "startlinecolor": "#2a3f5f"
            },
            "baxis": {
             "endlinecolor": "#2a3f5f",
             "gridcolor": "#C8D4E3",
             "linecolor": "#C8D4E3",
             "minorgridcolor": "#C8D4E3",
             "startlinecolor": "#2a3f5f"
            },
            "type": "carpet"
           }
          ],
          "choropleth": [
           {
            "colorbar": {
             "outlinewidth": 0,
             "ticks": ""
            },
            "type": "choropleth"
           }
          ],
          "contour": [
           {
            "colorbar": {
             "outlinewidth": 0,
             "ticks": ""
            },
            "colorscale": [
             [
              0,
              "#0d0887"
             ],
             [
              0.1111111111111111,
              "#46039f"
             ],
             [
              0.2222222222222222,
              "#7201a8"
             ],
             [
              0.3333333333333333,
              "#9c179e"
             ],
             [
              0.4444444444444444,
              "#bd3786"
             ],
             [
              0.5555555555555556,
              "#d8576b"
             ],
             [
              0.6666666666666666,
              "#ed7953"
             ],
             [
              0.7777777777777778,
              "#fb9f3a"
             ],
             [
              0.8888888888888888,
              "#fdca26"
             ],
             [
              1,
              "#f0f921"
             ]
            ],
            "type": "contour"
           }
          ],
          "contourcarpet": [
           {
            "colorbar": {
             "outlinewidth": 0,
             "ticks": ""
            },
            "type": "contourcarpet"
           }
          ],
          "heatmap": [
           {
            "colorbar": {
             "outlinewidth": 0,
             "ticks": ""
            },
            "colorscale": [
             [
              0,
              "#0d0887"
             ],
             [
              0.1111111111111111,
              "#46039f"
             ],
             [
              0.2222222222222222,
              "#7201a8"
             ],
             [
              0.3333333333333333,
              "#9c179e"
             ],
             [
              0.4444444444444444,
              "#bd3786"
             ],
             [
              0.5555555555555556,
              "#d8576b"
             ],
             [
              0.6666666666666666,
              "#ed7953"
             ],
             [
              0.7777777777777778,
              "#fb9f3a"
             ],
             [
              0.8888888888888888,
              "#fdca26"
             ],
             [
              1,
              "#f0f921"
             ]
            ],
            "type": "heatmap"
           }
          ],
          "heatmapgl": [
           {
            "colorbar": {
             "outlinewidth": 0,
             "ticks": ""
            },
            "colorscale": [
             [
              0,
              "#0d0887"
             ],
             [
              0.1111111111111111,
              "#46039f"
             ],
             [
              0.2222222222222222,
              "#7201a8"
             ],
             [
              0.3333333333333333,
              "#9c179e"
             ],
             [
              0.4444444444444444,
              "#bd3786"
             ],
             [
              0.5555555555555556,
              "#d8576b"
             ],
             [
              0.6666666666666666,
              "#ed7953"
             ],
             [
              0.7777777777777778,
              "#fb9f3a"
             ],
             [
              0.8888888888888888,
              "#fdca26"
             ],
             [
              1,
              "#f0f921"
             ]
            ],
            "type": "heatmapgl"
           }
          ],
          "histogram": [
           {
            "marker": {
             "colorbar": {
              "outlinewidth": 0,
              "ticks": ""
             }
            },
            "type": "histogram"
           }
          ],
          "histogram2d": [
           {
            "colorbar": {
             "outlinewidth": 0,
             "ticks": ""
            },
            "colorscale": [
             [
              0,
              "#0d0887"
             ],
             [
              0.1111111111111111,
              "#46039f"
             ],
             [
              0.2222222222222222,
              "#7201a8"
             ],
             [
              0.3333333333333333,
              "#9c179e"
             ],
             [
              0.4444444444444444,
              "#bd3786"
             ],
             [
              0.5555555555555556,
              "#d8576b"
             ],
             [
              0.6666666666666666,
              "#ed7953"
             ],
             [
              0.7777777777777778,
              "#fb9f3a"
             ],
             [
              0.8888888888888888,
              "#fdca26"
             ],
             [
              1,
              "#f0f921"
             ]
            ],
            "type": "histogram2d"
           }
          ],
          "histogram2dcontour": [
           {
            "colorbar": {
             "outlinewidth": 0,
             "ticks": ""
            },
            "colorscale": [
             [
              0,
              "#0d0887"
             ],
             [
              0.1111111111111111,
              "#46039f"
             ],
             [
              0.2222222222222222,
              "#7201a8"
             ],
             [
              0.3333333333333333,
              "#9c179e"
             ],
             [
              0.4444444444444444,
              "#bd3786"
             ],
             [
              0.5555555555555556,
              "#d8576b"
             ],
             [
              0.6666666666666666,
              "#ed7953"
             ],
             [
              0.7777777777777778,
              "#fb9f3a"
             ],
             [
              0.8888888888888888,
              "#fdca26"
             ],
             [
              1,
              "#f0f921"
             ]
            ],
            "type": "histogram2dcontour"
           }
          ],
          "mesh3d": [
           {
            "colorbar": {
             "outlinewidth": 0,
             "ticks": ""
            },
            "type": "mesh3d"
           }
          ],
          "parcoords": [
           {
            "line": {
             "colorbar": {
              "outlinewidth": 0,
              "ticks": ""
             }
            },
            "type": "parcoords"
           }
          ],
          "pie": [
           {
            "automargin": true,
            "type": "pie"
           }
          ],
          "scatter": [
           {
            "marker": {
             "colorbar": {
              "outlinewidth": 0,
              "ticks": ""
             }
            },
            "type": "scatter"
           }
          ],
          "scatter3d": [
           {
            "line": {
             "colorbar": {
              "outlinewidth": 0,
              "ticks": ""
             }
            },
            "marker": {
             "colorbar": {
              "outlinewidth": 0,
              "ticks": ""
             }
            },
            "type": "scatter3d"
           }
          ],
          "scattercarpet": [
           {
            "marker": {
             "colorbar": {
              "outlinewidth": 0,
              "ticks": ""
             }
            },
            "type": "scattercarpet"
           }
          ],
          "scattergeo": [
           {
            "marker": {
             "colorbar": {
              "outlinewidth": 0,
              "ticks": ""
             }
            },
            "type": "scattergeo"
           }
          ],
          "scattergl": [
           {
            "marker": {
             "colorbar": {
              "outlinewidth": 0,
              "ticks": ""
             }
            },
            "type": "scattergl"
           }
          ],
          "scattermapbox": [
           {
            "marker": {
             "colorbar": {
              "outlinewidth": 0,
              "ticks": ""
             }
            },
            "type": "scattermapbox"
           }
          ],
          "scatterpolar": [
           {
            "marker": {
             "colorbar": {
              "outlinewidth": 0,
              "ticks": ""
             }
            },
            "type": "scatterpolar"
           }
          ],
          "scatterpolargl": [
           {
            "marker": {
             "colorbar": {
              "outlinewidth": 0,
              "ticks": ""
             }
            },
            "type": "scatterpolargl"
           }
          ],
          "scatterternary": [
           {
            "marker": {
             "colorbar": {
              "outlinewidth": 0,
              "ticks": ""
             }
            },
            "type": "scatterternary"
           }
          ],
          "surface": [
           {
            "colorbar": {
             "outlinewidth": 0,
             "ticks": ""
            },
            "colorscale": [
             [
              0,
              "#0d0887"
             ],
             [
              0.1111111111111111,
              "#46039f"
             ],
             [
              0.2222222222222222,
              "#7201a8"
             ],
             [
              0.3333333333333333,
              "#9c179e"
             ],
             [
              0.4444444444444444,
              "#bd3786"
             ],
             [
              0.5555555555555556,
              "#d8576b"
             ],
             [
              0.6666666666666666,
              "#ed7953"
             ],
             [
              0.7777777777777778,
              "#fb9f3a"
             ],
             [
              0.8888888888888888,
              "#fdca26"
             ],
             [
              1,
              "#f0f921"
             ]
            ],
            "type": "surface"
           }
          ],
          "table": [
           {
            "cells": {
             "fill": {
              "color": "#EBF0F8"
             },
             "line": {
              "color": "white"
             }
            },
            "header": {
             "fill": {
              "color": "#C8D4E3"
             },
             "line": {
              "color": "white"
             }
            },
            "type": "table"
           }
          ]
         },
         "layout": {
          "annotationdefaults": {
           "arrowcolor": "#2a3f5f",
           "arrowhead": 0,
           "arrowwidth": 1
          },
          "coloraxis": {
           "colorbar": {
            "outlinewidth": 0,
            "ticks": ""
           }
          },
          "colorscale": {
           "diverging": [
            [
             0,
             "#8e0152"
            ],
            [
             0.1,
             "#c51b7d"
            ],
            [
             0.2,
             "#de77ae"
            ],
            [
             0.3,
             "#f1b6da"
            ],
            [
             0.4,
             "#fde0ef"
            ],
            [
             0.5,
             "#f7f7f7"
            ],
            [
             0.6,
             "#e6f5d0"
            ],
            [
             0.7,
             "#b8e186"
            ],
            [
             0.8,
             "#7fbc41"
            ],
            [
             0.9,
             "#4d9221"
            ],
            [
             1,
             "#276419"
            ]
           ],
           "sequential": [
            [
             0,
             "#0d0887"
            ],
            [
             0.1111111111111111,
             "#46039f"
            ],
            [
             0.2222222222222222,
             "#7201a8"
            ],
            [
             0.3333333333333333,
             "#9c179e"
            ],
            [
             0.4444444444444444,
             "#bd3786"
            ],
            [
             0.5555555555555556,
             "#d8576b"
            ],
            [
             0.6666666666666666,
             "#ed7953"
            ],
            [
             0.7777777777777778,
             "#fb9f3a"
            ],
            [
             0.8888888888888888,
             "#fdca26"
            ],
            [
             1,
             "#f0f921"
            ]
           ],
           "sequentialminus": [
            [
             0,
             "#0d0887"
            ],
            [
             0.1111111111111111,
             "#46039f"
            ],
            [
             0.2222222222222222,
             "#7201a8"
            ],
            [
             0.3333333333333333,
             "#9c179e"
            ],
            [
             0.4444444444444444,
             "#bd3786"
            ],
            [
             0.5555555555555556,
             "#d8576b"
            ],
            [
             0.6666666666666666,
             "#ed7953"
            ],
            [
             0.7777777777777778,
             "#fb9f3a"
            ],
            [
             0.8888888888888888,
             "#fdca26"
            ],
            [
             1,
             "#f0f921"
            ]
           ]
          },
          "colorway": [
           "#1f77b4",
           "#ff7f0e",
           "#2ca02c",
           "#d62728",
           "#9467bd",
           "#8c564b",
           "#e377c2",
           "#7f7f7f",
           "#bcbd22",
           "#17becf"
          ],
          "font": {
           "color": "#2a3f5f"
          },
          "geo": {
           "bgcolor": "white",
           "lakecolor": "white",
           "landcolor": "white",
           "showlakes": true,
           "showland": true,
           "subunitcolor": "#C8D4E3"
          },
          "hoverlabel": {
           "align": "left"
          },
          "hovermode": "closest",
          "mapbox": {
           "style": "light"
          },
          "paper_bgcolor": "white",
          "plot_bgcolor": "white",
          "polar": {
           "angularaxis": {
            "gridcolor": "#EBF0F8",
            "linecolor": "#EBF0F8",
            "ticks": ""
           },
           "bgcolor": "white",
           "radialaxis": {
            "gridcolor": "#EBF0F8",
            "linecolor": "#EBF0F8",
            "ticks": ""
           }
          },
          "scene": {
           "camera": {
            "center": {
             "x": 0,
             "y": 0,
             "z": 0
            },
            "eye": {
             "x": 2,
             "y": 2,
             "z": 2
            },
            "up": {
             "x": 0,
             "y": 0,
             "z": 1
            }
           },
           "xaxis": {
            "backgroundcolor": "white",
            "gridcolor": "#DFE8F3",
            "gridwidth": 2,
            "linecolor": "#EBF0F8",
            "showbackground": true,
            "showspikes": false,
            "ticks": "",
            "zerolinecolor": "#EBF0F8"
           },
           "yaxis": {
            "backgroundcolor": "white",
            "gridcolor": "#DFE8F3",
            "gridwidth": 2,
            "linecolor": "#EBF0F8",
            "showbackground": true,
            "showspikes": false,
            "ticks": "",
            "zerolinecolor": "#EBF0F8"
           },
           "zaxis": {
            "backgroundcolor": "white",
            "gridcolor": "#DFE8F3",
            "gridwidth": 2,
            "linecolor": "#EBF0F8",
            "showbackground": true,
            "showspikes": false,
            "ticks": "",
            "zerolinecolor": "#EBF0F8"
           }
          },
          "shapedefaults": {
           "line": {
            "color": "#2a3f5f"
           }
          },
          "ternary": {
           "aaxis": {
            "gridcolor": "#DFE8F3",
            "linecolor": "#A2B1C6",
            "ticks": ""
           },
           "baxis": {
            "gridcolor": "#DFE8F3",
            "linecolor": "#A2B1C6",
            "ticks": ""
           },
           "bgcolor": "white",
           "caxis": {
            "gridcolor": "#DFE8F3",
            "linecolor": "#A2B1C6",
            "ticks": ""
           }
          },
          "title": {
           "x": 0.05
          },
          "xaxis": {
           "automargin": true,
           "gridcolor": "#EBF0F8",
           "linecolor": "black",
           "linewidth": 2,
           "mirror": true,
           "showline": true,
           "ticks": "",
           "title": {
            "standoff": 15
           },
           "zeroline": false,
           "zerolinecolor": "#EBF0F8",
           "zerolinewidth": 2
          },
          "yaxis": {
           "automargin": true,
           "gridcolor": "#EBF0F8",
           "linecolor": "black",
           "linewidth": 2,
           "mirror": true,
           "showline": true,
           "ticks": "",
           "title": {
            "standoff": 15
           },
           "zeroline": false,
           "zerolinecolor": "#EBF0F8",
           "zerolinewidth": 2
          }
         }
        },
        "width": 1200,
        "xaxis": {
         "exponentformat": "none",
         "range": [
          0,
          2000
         ],
         "title": {
          "text": "Frequency (rad/s)"
         },
         "type": "linear"
        },
        "yaxis": {
         "range": [
          0,
          1161.0265426589015
         ],
         "title": {
          "text": "Natural Frequencies (rad/s)"
         },
         "type": "linear"
        }
       }
      },
      "image/png": "[encoded data removed]",
      "text/html": [
       "<div>                            <div id=\"f7386eda-09ea-418f-af4c-c853be955e0c\" class=\"plotly-graph-div\" style=\"height:700px; width:1200px;\"></div>            <script type=\"text/javascript\">                require([\"plotly\"], function(Plotly) {                    window.PLOTLYENV=window.PLOTLYENV || {};                                    if (document.getElementById(\"f7386eda-09ea-418f-af4c-c853be955e0c\")) {                    Plotly.newPlot(                        \"f7386eda-09ea-418f-af4c-c853be955e0c\",                        [{\"hovertemplate\":\"Frequency (rad/s): %{x:.2f}<br>Critical Speed (rad/s): %{y:.2f}\",\"legendgroup\":\"Crit. Speed\",\"marker\":{\"color\":\"black\",\"symbol\":\"x\"},\"mode\":\"markers\",\"name\":\"Crit. Speed\",\"showlegend\":true,\"x\":[114.2277671964189,56.916945563817094,37.9158510891994,155.24576192940975,77.52253661008234,51.669631191854485,261.90133517627675,128.1213811545465,85.09528709742055,436.3379802114347,213.8796105435042,142.09175247221577,636.3644837809348,309.5017024893683,205.26270071368643,803.899267086349,380.71293574104544,251.47400301234978],\"y\":[114.2277671964189,113.83389112763419,113.74755326759818,155.24576192940975,155.04507322016468,155.00889357556346,261.9013351762767,256.242762309093,255.28586129226167,436.3379802114347,427.7592210870084,426.27525741664726,636.3644837809348,619.0034049787366,615.7881021410593,803.899267086349,761.4258714820909,754.4220090370493],\"type\":\"scatter\"},{\"hoverinfo\":\"none\",\"legendgroup\":\"Foward\",\"marker\":{\"color\":[0.25199508051178976,0.26188016361409877,0.27085874828039136,0.2788522039016004,0.28579877315135793,0.29165465490411446],\"coloraxis\":\"coloraxis\",\"symbol\":\"triangle-up\"},\"mode\":\"markers\",\"name\":\"Foward\",\"showlegend\":false,\"x\":[0.0,40.816326530612244,81.63265306122449,122.44897959183673,163.26530612244898,204.0816326530612],\"y\":[113.68014829634215,113.75270959293813,113.9585111227785,114.2956795639281,114.76110576683563,115.35052121119324],\"type\":\"scatter\"},{\"hoverinfo\":\"none\",\"legendgroup\":\"Foward\",\"marker\":{\"color\":[0.06750416906226599,0.08262803296259849,0.08129783150989149,0.07992230675020369,0.0785093206320732,0.07706638077849341,0.07560062217708952,0.07411879438248092,0.07262725335219568,0.07113195699762298,0.06963846346700617,0.06815193120616325,0.06667711979203622,0.06521839058519491,0.06377970625834409,0.062364628358590794,0.060976312172069745,0.059617498378201586,0.058290501292229915,0.056997193885239876,0.055738990365808413,0.05451682774864668],\"coloraxis\":\"coloraxis\",\"symbol\":\"triangle-up\"},\"mode\":\"markers\",\"name\":\"Foward\",\"showlegend\":false,\"x\":[0.0,1183.6734693877552,1224.4897959183672,1265.3061224489795,1306.1224489795918,1346.938775510204,1387.7551020408164,1428.5714285714284,1469.3877551020407,1510.204081632653,1551.0204081632653,1591.8367346938776,1632.6530612244896,1673.469387755102,1714.2857142857142,1755.1020408163265,1795.9183673469388,1836.734693877551,1877.5510204081631,1918.3673469387754,1959.1836734693877,2000.0],\"y\":[154.9722488728968,166.2844560329677,166.8646509199305,167.4437081405224,168.02075171313885,168.59498399990576,169.16568472596325,169.73220958157785,170.29398846274054,170.85052340795988,171.40138627350308,171.9462161829167,172.48471677640865,173.016653268717,173.54184932373732,174.06018372596793,174.57158683221797,175.07603676351536,175.57355529980566,176.06420342150605,176.54807645711665,177.02529879367103],\"type\":\"scatter\"},{\"hoverinfo\":\"none\",\"legendgroup\":\"Foward\",\"marker\":{\"color\":[0.7608447515337337],\"coloraxis\":\"coloraxis\",\"symbol\":\"triangle-up\"},\"mode\":\"markers\",\"name\":\"Foward\",\"showlegend\":false,\"x\":[0.0],\"y\":[254.6714072648166],\"type\":\"scatter\"},{\"hoverinfo\":\"none\",\"legendgroup\":\"Foward\",\"marker\":{\"color\":[0.4102971541029909],\"coloraxis\":\"coloraxis\",\"symbol\":\"triangle-up\"},\"mode\":\"markers\",\"name\":\"Foward\",\"showlegend\":false,\"x\":[0.0],\"y\":[425.1913420283808],\"type\":\"scatter\"},{\"hoverinfo\":\"none\",\"legendgroup\":\"Foward\",\"marker\":{\"color\":[0.536549408806611],\"coloraxis\":\"coloraxis\",\"symbol\":\"triangle-up\"},\"mode\":\"markers\",\"name\":\"Foward\",\"showlegend\":false,\"x\":[0.0],\"y\":[613.4254040132942],\"type\":\"scatter\"},{\"hoverinfo\":\"none\",\"legendgroup\":\"Foward\",\"marker\":{\"color\":[0.320778791525701,0.3339989673784318,0.34732078752771217,0.3607522088432659,0.3743007279626474,0.3879733742221466,0.4017765780091257,0.41571588193922093,0.4297954652392826,0.444017456354785,0.45838101503595086,0.47288117968317334,0.487507493940223,0.502242454638184,0.5170598607136971,0.5319231840802775,0.5467841291652337,0.5615815825313188,0.5762411689996921,0.5906756074562958,0.6047859963881904,0.618464047178857,0.631595150058326,0.6440620230553822,0.6557485996381237,0.6665437788857954,0.6763446996803699,0.6850593003873457,0.6926080487196976,0.6989248502028758,0.7039572404486785,0.7076660204939308,0.7100245164974486,0.7110176331124317,0.7106408443013937,0.7088992294483217,0.7058066296094635,0.701384965464207,0.6956637338011572,0.688679678059707,0.6804766097318592,0.6711053449940813,0.6606237071029426,0.649096536925682,0.6365956462538156,0.6231996476171926,0.6089935968316214,0.5940683957201924,0.578519920734021,0.5624478697965228],\"coloraxis\":\"coloraxis\",\"symbol\":\"triangle-up\"},\"mode\":\"markers\",\"name\":\"Foward\",\"showlegend\":false,\"x\":[0.0,40.816326530612244,81.63265306122449,122.44897959183673,163.26530612244898,204.0816326530612,244.89795918367346,285.7142857142857,326.53061224489795,367.3469387755102,408.1632653061224,448.9795918367347,489.7959183673469,530.6122448979592,571.4285714285714,612.2448979591836,653.0612244897959,693.8775510204082,734.6938775510204,775.5102040816327,816.3265306122448,857.1428571428571,897.9591836734694,938.7755102040816,979.5918367346939,1020.4081632653061,1061.2244897959183,1102.0408163265306,1142.857142857143,1183.6734693877552,1224.4897959183672,1265.3061224489795,1306.1224489795918,1346.938775510204,1387.7551020408164,1428.5714285714284,1469.3877551020407,1510.204081632653,1551.0204081632653,1591.8367346938776,1632.6530612244896,1673.469387755102,1714.2857142857142,1755.1020408163265,1795.9183673469388,1836.734693877551,1877.5510204081631,1918.3673469387754,1959.1836734693877,2000.0],\"y\":[748.4483979592563,748.7235142647627,749.2685288748825,750.0817934009145,751.1619711243817,752.5080939810484,754.119620268581,755.9964932083823,758.139199313696,760.5488242087953,763.2271016303691,766.1764491060651,769.3999817542519,772.9014934544671,776.6853931198348,780.7565840321275,785.1202761751356,789.7817267273739,794.745911899495,800.0171441039452,805.598659748032,811.4922124334282,817.6977107582697,824.2129373468646,831.0333756456334,838.1521556236329,845.5601127253127,853.2459400516857,861.1964047795306,869.3965974555806,877.8301858927988,886.4796518971494,895.326497035479,904.3514111588903,913.5344035405725,922.8549009521253,932.2918200510255,941.8236228213366,951.4283651437966,961.0837482918558,970.767183259347,980.455877096792,990.1269491380093,999.7575834663804,1009.3252208676261,1018.807790711052,1028.1839781344413,1037.4335178329673,1046.5375006207714,1055.4786751444558],\"type\":\"scatter\"},{\"hoverinfo\":\"none\",\"legendgroup\":\"Mixed\",\"marker\":{\"color\":[0.25769389364169154,0.2507481848066362,0.2436378508920158,0.2364147989026747,0.22912600222595375,0.22181355798564167,0.2145148204051865,0.20726259284789347,0.20008536351263181],\"coloraxis\":\"coloraxis\",\"symbol\":\"circle\"},\"mode\":\"markers\",\"name\":\"Mixed\",\"showlegend\":false,\"x\":[857.1428571428571,897.9591836734694,938.7755102040816,979.5918367346939,1020.4081632653061,1061.2244897959183,1102.0408163265306,1142.857142857143,1183.6734693877552],\"y\":[135.67899893087298,137.2286442938849,138.77130080818765,140.3025128200789,141.8183153378451,143.31521361230367,144.7901588432229,146.24052110805835,147.6640604493204],\"type\":\"scatter\"},{\"hoverinfo\":\"none\",\"legendgroup\":\"Mixed\",\"marker\":{\"color\":[0.07020034069269362,0.07277628313008208,0.07522017229517614,0.07752121532403733,0.0796697700244238,0.0816574457518337,0.08347718323648867,0.08512331151841354,0.0865915809419393,0.0878791720091206,0.08898468075542715,0.08990808205561357,0.09065067293191269,0.09121499836783134,0.09160476247145086,0.09182472798143596,0.09188060712666474,0.0917789467914649,0.09152701075500796,0.09113266155641311,0.09060424424272802,0.08995047397309593,0.08918032910772204,0.08830295112333415,0.08732755231264214,0.08626333201451222,0.08511940176330787,0.08390471952315025],\"coloraxis\":\"coloraxis\",\"symbol\":\"circle\"},\"mode\":\"markers\",\"name\":\"Mixed\",\"showlegend\":false,\"x\":[40.816326530612244,81.63265306122449,122.44897959183673,163.26530612244898,204.0816326530612,244.89795918367346,285.7142857142857,326.53061224489795,367.3469387755102,408.1632653061224,448.9795918367347,489.7959183673469,530.6122448979592,571.4285714285714,612.2448979591836,653.0612244897959,693.8775510204082,734.6938775510204,775.5102040816327,816.3265306122448,857.1428571428571,897.9591836734694,938.7755102040816,979.5918367346939,1020.4081632653061,1061.2244897959183,1102.0408163265306,1142.857142857143],\"y\":[154.99370500394878,155.0508250902182,155.14333825377602,155.27080680072376,155.4326311445651,155.6280565642707,155.85618166415333,156.11596837755584,156.40625331178975,156.72576021703495,157.07311333543737,157.44685138512435,157.8454419261938,158.26729586509597,158.71078186599124,159.17424045704325,159.65599763851165,160.15437782873278,160.66771601345135,161.19436898367084,161.7327255869422,162.2812159324216,162.8383195289137,163.40257234035923,163.97257278317747,164.54698669129849,165.12455129893772,165.70407829722294],\"type\":\"scatter\"},{\"hoverinfo\":\"none\",\"legendgroup\":\"Mixed\",\"marker\":{\"color\":[0.42698931211384256,0.4434054341557188,0.4595165116202661,0.4752952541586021,0.4907162930371205,0.5057563510104655,0.520394375706585,0.5346116348518285,0.5483917726347497,0.5617208277920951,0.5745872149382096,0.5869816716210701,0.5988971743589452,0.6103288273877849,0.6212737282488056,0.6317308145115611,0.6417006959397694,0.6511854760964544,0.6601885672565403,0.668714502028662,0.6767687445894869,0.6843575040199867,0.6914875518545557,0.6981660452668526,0.7044003572109157,0.7101979144024052,0.7155660437217497,0.7205118277139078,0.7250419695746667,0.7291626684772995,0.732879505985172,0.7361973452535644,0.7391202449821302,0.7416513914971572,0.7437930534751209,0.7455465658870865,0.7469123522871619,0.7478899978560648,0.74847839032165,0.7486759517730286,0.7484809926253078,0.7478922295326593,0.7469095237318588,0.7455349148953978,0.7437740501440165,0.7416381379300353,0.7391465902089627,0.7363305465597222,0.7332374808138337],\"coloraxis\":\"coloraxis\",\"symbol\":\"circle\"},\"mode\":\"markers\",\"name\":\"Mixed\",\"showlegend\":false,\"x\":[40.816326530612244,81.63265306122449,122.44897959183673,163.26530612244898,204.0816326530612,244.89795918367346,285.7142857142857,326.53061224489795,367.3469387755102,408.1632653061224,448.9795918367347,489.7959183673469,530.6122448979592,571.4285714285714,612.2448979591836,653.0612244897959,693.8775510204082,734.6938775510204,775.5102040816327,816.3265306122448,857.1428571428571,897.9591836734694,938.7755102040816,979.5918367346939,1020.4081632653061,1061.2244897959183,1102.0408163265306,1142.857142857143,1183.6734693877552,1224.4897959183672,1265.3061224489795,1306.1224489795918,1346.938775510204,1387.7551020408164,1428.5714285714284,1469.3877551020407,1510.204081632653,1551.0204081632653,1591.8367346938776,1632.6530612244896,1673.469387755102,1714.2857142857142,1755.1020408163265,1795.9183673469388,1836.734693877551,1877.5510204081631,1918.3673469387754,1959.1836734693877,2000.0],\"y\":[425.2362386198178,425.4901870212581,425.95271138991,426.6229397751096,427.4996118390879,428.5810896656329,429.8653714259587,431.35010760194905,433.0326194245381,434.90991915350884,436.97873179781936,439.23551787127167,441.67649677132226,444.2976704028259,447.0948466783741,450.0636625549148,453.199606324492,456.4980388968869,459.9542138609024,463.56329615211564,467.3203791998729,471.22050044767906,475.258655181855,479.4298086266601,483.7289062907149,488.150882548161,492.6906674679723,497.34319189758907,502.10339079403366,506.9662048034367,511.9265800556385,516.9794660977191,522.1198118750733,527.3425595480862,532.6426359059913,538.0149409605315,543.4543331911992,548.955610693314,554.5134872643257,560.122562182298,565.7772821754982,571.4718938289197,577.20038464681,582.9564112879895,588.7332146299397,594.5235238881618,600.3194572396732,606.1124360170401,611.893146222322],\"type\":\"scatter\"},{\"hoverinfo\":\"none\",\"legendgroup\":\"Mixed\",\"marker\":{\"color\":[0.4998832588727365,0.497519723090392,0.4964603529161156,0.4967963634142287,0.4986133157631313],\"coloraxis\":\"coloraxis\",\"symbol\":\"circle\"},\"mode\":\"markers\",\"name\":\"Mixed\",\"showlegend\":false,\"x\":[1836.734693877551,1877.5510204081631,1918.3673469387754,1959.1836734693877,2000.0],\"y\":[703.6915987712221,705.3902621860802,707.1275842876316,708.9211238735095,710.7909249545014],\"type\":\"scatter\"},{\"hoverinfo\":\"none\",\"legendgroup\":\"Backward\",\"marker\":{\"color\":[0.2963943700653351,0.3000104390515583,0.3025124445938509,0.3039255868145455,0.3042888571194556,0.30365296328813896,0.30207813232276387,0.29963190294648273,0.2963869996636708,0.29241935802472213,0.2878063487474501,0.2826252286365786,0.2769518295828321,0.27085948389370057,0.26441817467439643,0.19300757177636935,0.1860498941198575,0.17922954058803553,0.17256055421925193,0.1660541076068933,0.1597187919058152,0.1535608949726331,0.14758466622366784,0.1417925667042498,0.13618550367954024,0.13076304954826273,0.12552364548634823,0.12046479050330311,0.11558321691631851,0.1108750533065595,0.10633597605551282,0.10196135036773714,0.09774636135022557,0.09368613526191892,0.08977585035589891],\"coloraxis\":\"coloraxis\",\"symbol\":\"triangle-down\"},\"mode\":\"markers\",\"name\":\"Backward\",\"showlegend\":false,\"x\":[244.89795918367346,285.7142857142857,326.53061224489795,367.3469387755102,408.1632653061224,448.9795918367347,489.7959183673469,530.6122448979592,571.4285714285714,612.2448979591836,653.0612244897959,693.8775510204082,734.6938775510204,775.5102040816327,816.3265306122448,1224.4897959183672,1265.3061224489795,1306.1224489795918,1346.938775510204,1387.7551020408164,1428.5714285714284,1469.3877551020407,1510.204081632653,1551.0204081632653,1591.8367346938776,1632.6530612244896,1673.469387755102,1714.2857142857142,1755.1020408163265,1795.9183673469388,1836.734693877551,1877.5510204081631,1918.3673469387754,1959.1836734693877,2000.0],\"y\":[116.05860130640998,116.8790904355099,117.8049429006861,118.82847365002611,119.94151278874753,121.13555840447923,122.40192297725144,123.73186958480176,125.11673507562483,126.5480383425521,128.01757270378062,129.51748213595852,131.040321722474,132.5791031426172,134.1273263668477,149.05889694552693,150.42348044427612,151.7565605238865,153.0571571370798,154.32453228880783,155.55816302477987,156.7577159173208,157.92302318845773,159.0540605534563,160.15092682256932,161.21382528101836,162.24304683196604,163.2389548859508,164.2019719586846,165.13256794635004,166.03125004491787,166.89855427660464,167.73503859420845,168.54127752965763,169.31785833768257],\"type\":\"scatter\"},{\"hoverinfo\":\"none\",\"legendgroup\":\"Backward\",\"marker\":{\"color\":[0.7916581780539027,0.8208978466159536,0.8484154734254847,0.8740914542916675,0.8978369969290901,0.9195949398727696,0.9393392931917087,0.9570736267421796,0.9728285011721358,0.9866581800450644,0.9986368770169026,1.008854783636761,1.0174140960141502,1.024425219298303,1.0300032840693514,1.0342650639565016,1.037326342957424,1.0392997466132277,1.040293024434498,1.0404077515368697,1.0397384052653982,1.0383717654809907,1.0363865852424614,1.033853479336292,1.0308349815016902,1.0273857257034378,1.0235527119609351,1.0193756227663173,1.0148871611054868,1.0101133860809937,1.0050740260389832,0.9997827530048502,0.9942474047968703,0.9884701438382563,0.9824475432340007,0.9761705921317283,0.9696246132867908,0.9627890865875487,0.9556373729643592,0.9481363340860406,0.9402458448836507,0.931918198423351,0.9230974074198067,0.9137184141583913,0.903706233596648,0.8929750752440359,0.8814275237520647,0.8689539132982301,0.8554321186156552],\"coloraxis\":\"coloraxis\",\"symbol\":\"triangle-down\"},\"mode\":\"markers\",\"name\":\"Backward\",\"showlegend\":false,\"x\":[40.816326530612244,81.63265306122449,122.44897959183673,163.26530612244898,204.0816326530612,244.89795918367346,285.7142857142857,326.53061224489795,367.3469387755102,408.1632653061224,448.9795918367347,489.7959183673469,530.6122448979592,571.4285714285714,612.2448979591836,653.0612244897959,693.8775510204082,734.6938775510204,775.5102040816327,816.3265306122448,857.1428571428571,897.9591836734694,938.7755102040816,979.5918367346939,1020.4081632653061,1061.2244897959183,1102.0408163265306,1142.857142857143,1183.6734693877552,1224.4897959183672,1265.3061224489795,1306.1224489795918,1346.938775510204,1387.7551020408164,1428.5714285714284,1469.3877551020407,1510.204081632653,1551.0204081632653,1591.8367346938776,1632.6530612244896,1673.469387755102,1714.2857142857142,1755.1020408163265,1795.9183673469388,1836.734693877551,1877.5510204081631,1918.3673469387754,1959.1836734693877,2000.0],\"y\":[254.74607485265898,255.21315995979896,256.0701379984798,257.31227330064695,258.93273325079855,260.92275078015825,263.2718266499801,265.9679613878818,268.9979059743254,272.3474205099323,276.00153085746126,279.94477465653785,284.1614297209725,288.6357197334899,293.35199386839236,298.2948787039934,303.44940213990964,308.8010901840696,314.3360383736315,320.0409600939573,325.9032144931968,331.9108167702808,338.0524336439513,344.3173666624581,350.6955258075887,357.177395591425,363.75399552724394,370.4168366089068,377.15787506470747,383.9694644634654,390.8443068867335,397.7754037636321,404.75600663614205,411.779568007309,418.8396922094111,425.9300860248965,433.04450863701925,440.1767202345047,447.32042830950644,454.4692303168804,461.61655085844325,468.7555708014633,475.8791447676791,482.9797019522099,490.0491232906305,497.0785852568934,504.0583570518212,510.9775334114297,517.8236802150001],\"type\":\"scatter\"},{\"hoverinfo\":\"none\",\"legendgroup\":\"Backward\",\"marker\":{\"color\":[0.5585698659241091,0.5797626100491169,0.600032044502499,0.6192839950229438,0.6374261020876838,0.6543683894859589,0.6700240418272199,0.6843104162902969,0.6971503055927705,0.7084734614454687,0.7182183654121267,0.7263342191570136,0.7327830896892054,0.7375421110317882,0.7406055989592607,0.7419868947919173,0.7417197190658459,0.7398588098541116,0.7364796466796227,0.7316771350076475,0.7255632428601804,0.7182637223399022,0.7099141853885111,0.7006559016793913,0.6906317134318379,0.6799824249073602,0.6688439204313847,0.6573451383995402,0.6456069054346124,0.6337415377595551,0.6218530634247859,0.6100378973502472,0.5983858146287651,0.586981090292384,0.5759037078484481,0.5652305686691765,0.55503665885411,0.5453961486409704,0.5363834076857109,0.5280739239738312,0.5205451083854081,0.5138769573428963,0.5081525271492143,0.503458146882085],\"coloraxis\":\"coloraxis\",\"symbol\":\"triangle-down\"},\"mode\":\"markers\",\"name\":\"Backward\",\"showlegend\":false,\"x\":[40.816326530612244,81.63265306122449,122.44897959183673,163.26530612244898,204.0816326530612,244.89795918367346,285.7142857142857,326.53061224489795,367.3469387755102,408.1632653061224,448.9795918367347,489.7959183673469,530.6122448979592,571.4285714285714,612.2448979591836,653.0612244897959,693.8775510204082,734.6938775510204,775.5102040816327,816.3265306122448,857.1428571428571,897.9591836734694,938.7755102040816,979.5918367346939,1020.4081632653061,1061.2244897959183,1102.0408163265306,1142.857142857143,1183.6734693877552,1224.4897959183672,1265.3061224489795,1306.1224489795918,1346.938775510204,1387.7551020408164,1428.5714285714284,1469.3877551020407,1510.204081632653,1551.0204081632653,1591.8367346938776,1632.6530612244896,1673.469387755102,1714.2857142857142,1755.1020408163265,1795.9183673469388],\"y\":[613.4774515659706,613.7350415043974,614.2004007298837,614.8744262681671,615.7566093908196,616.8449618913941,618.1359447417601,619.6244014590042,621.3034989277777,623.1646813582214,625.1976439520798,627.3903363722051,629.7290067526221,632.1982991497483,634.7814165346729,637.4603592877063,640.2162435883763,643.0296957725864,645.8813076217143,648.7521262289096,651.6241418703236,654.4807332158719,657.3070315008454,660.0901752636454,662.8194427573567,665.4862660146272,668.084145276055,670.6084915044971,673.0564274808268,675.4265756057342,677.7188541572121,679.9342967403348,682.0749027008869,684.1435210417625,686.1437667705165,688.079966858388,689.9571322236814,691.7809527416437,693.5578130603689,695.2948284027749,696.9999010263152,698.6817996041417,700.3502654932947,702.0161513409048],\"type\":\"scatter\"},{\"hoverinfo\":\"none\",\"line\":{\"color\":\"blue\",\"dash\":\"dashdot\"},\"mode\":\"lines\",\"name\":\"1x speed\",\"x\":[0.0,40.816326530612244,81.63265306122449,122.44897959183673,163.26530612244898,204.0816326530612,244.89795918367346,285.7142857142857,326.53061224489795,367.3469387755102,408.1632653061224,448.9795918367347,489.7959183673469,530.6122448979592,571.4285714285714,612.2448979591836,653.0612244897959,693.8775510204082,734.6938775510204,775.5102040816327,816.3265306122448,857.1428571428571,897.9591836734694,938.7755102040816,979.5918367346939,1020.4081632653061,1061.2244897959183,1102.0408163265306,1142.857142857143,1183.6734693877552,1224.4897959183672,1265.3061224489795,1306.1224489795918,1346.938775510204,1387.7551020408164,1428.5714285714284,1469.3877551020407,1510.204081632653,1551.0204081632653,1591.8367346938776,1632.6530612244896,1673.469387755102,1714.2857142857142,1755.1020408163265,1795.9183673469388,1836.734693877551,1877.5510204081631,1918.3673469387754,1959.1836734693877,2000.0],\"y\":[0.0,40.816326530612244,81.63265306122449,122.44897959183673,163.26530612244898,204.0816326530612,244.89795918367346,285.7142857142857,326.53061224489795,367.3469387755102,408.1632653061224,448.9795918367347,489.7959183673469,530.6122448979592,571.4285714285714,612.2448979591836,653.0612244897959,693.8775510204082,734.6938775510204,775.5102040816327,816.3265306122448,857.1428571428571,897.9591836734694,938.7755102040816,979.5918367346939,1020.4081632653061,1061.2244897959183,1102.0408163265306,1142.857142857143,1183.6734693877552,1224.4897959183672,1265.3061224489795,1306.1224489795918,1346.938775510204,1387.7551020408164,1428.5714285714284,1469.3877551020407,1510.204081632653,1551.0204081632653,1591.8367346938776,1632.6530612244896,1673.469387755102,1714.2857142857142,1755.1020408163265,1795.9183673469388,1836.734693877551,1877.5510204081631,1918.3673469387754,1959.1836734693877,2000.0],\"type\":\"scatter\"},{\"hoverinfo\":\"none\",\"line\":{\"color\":\"orange\",\"dash\":\"dashdot\"},\"mode\":\"lines\",\"name\":\"2x speed\",\"x\":[0.0,40.816326530612244,81.63265306122449,122.44897959183673,163.26530612244898,204.0816326530612,244.89795918367346,285.7142857142857,326.53061224489795,367.3469387755102,408.1632653061224,448.9795918367347,489.7959183673469,530.6122448979592,571.4285714285714,612.2448979591836,653.0612244897959,693.8775510204082,734.6938775510204,775.5102040816327,816.3265306122448,857.1428571428571,897.9591836734694,938.7755102040816,979.5918367346939,1020.4081632653061,1061.2244897959183,1102.0408163265306,1142.857142857143,1183.6734693877552,1224.4897959183672,1265.3061224489795,1306.1224489795918,1346.938775510204,1387.7551020408164,1428.5714285714284,1469.3877551020407,1510.204081632653,1551.0204081632653,1591.8367346938776,1632.6530612244896,1673.469387755102,1714.2857142857142,1755.1020408163265,1795.9183673469388,1836.734693877551,1877.5510204081631,1918.3673469387754,1959.1836734693877,2000.0],\"y\":[0.0,81.63265306122449,163.26530612244898,244.89795918367346,326.53061224489795,408.1632653061224,489.7959183673469,571.4285714285714,653.0612244897959,734.6938775510204,816.3265306122448,897.9591836734694,979.5918367346939,1061.2244897959183,1142.857142857143,1224.4897959183672,1306.1224489795918,1387.7551020408164,1469.3877551020407,1551.0204081632653,1632.6530612244896,1714.2857142857142,1795.9183673469388,1877.5510204081631,1959.1836734693877,2040.8163265306123,2122.4489795918366,2204.081632653061,2285.714285714286,2367.3469387755104,2448.9795918367345,2530.612244897959,2612.2448979591836,2693.877551020408,2775.5102040816328,2857.142857142857,2938.7755102040815,3020.408163265306,3102.0408163265306,3183.673469387755,3265.3061224489793,3346.938775510204,3428.5714285714284,3510.204081632653,3591.8367346938776,3673.469387755102,3755.1020408163263,3836.734693877551,3918.3673469387754,4000.0],\"type\":\"scatter\"},{\"hoverinfo\":\"none\",\"line\":{\"color\":\"green\",\"dash\":\"dashdot\"},\"mode\":\"lines\",\"name\":\"3x speed\",\"x\":[0.0,40.816326530612244,81.63265306122449,122.44897959183673,163.26530612244898,204.0816326530612,244.89795918367346,285.7142857142857,326.53061224489795,367.3469387755102,408.1632653061224,448.9795918367347,489.7959183673469,530.6122448979592,571.4285714285714,612.2448979591836,653.0612244897959,693.8775510204082,734.6938775510204,775.5102040816327,816.3265306122448,857.1428571428571,897.9591836734694,938.7755102040816,979.5918367346939,1020.4081632653061,1061.2244897959183,1102.0408163265306,1142.857142857143,1183.6734693877552,1224.4897959183672,1265.3061224489795,1306.1224489795918,1346.938775510204,1387.7551020408164,1428.5714285714284,1469.3877551020407,1510.204081632653,1551.0204081632653,1591.8367346938776,1632.6530612244896,1673.469387755102,1714.2857142857142,1755.1020408163265,1795.9183673469388,1836.734693877551,1877.5510204081631,1918.3673469387754,1959.1836734693877,2000.0],\"y\":[0.0,122.44897959183673,244.89795918367346,367.3469387755102,489.7959183673469,612.2448979591836,734.6938775510204,857.1428571428571,979.5918367346939,1102.0408163265306,1224.4897959183672,1346.938775510204,1469.3877551020407,1591.8367346938776,1714.2857142857142,1836.7346938775509,1959.1836734693877,2081.6326530612246,2204.081632653061,2326.530612244898,2448.9795918367345,2571.4285714285716,2693.877551020408,2816.326530612245,2938.7755102040815,3061.2244897959185,3183.673469387755,3306.122448979592,3428.5714285714284,3551.0204081632655,3673.4693877551017,3795.918367346939,3918.3673469387754,4040.816326530612,4163.265306122449,4285.714285714285,4408.163265306122,4530.612244897959,4653.061224489796,4775.510204081633,4897.959183673469,5020.408163265306,5142.857142857143,5265.306122448979,5387.755102040816,5510.2040816326535,5632.65306122449,5755.102040816326,5877.551020408163,6000.0],\"type\":\"scatter\"},{\"hoverinfo\":\"none\",\"legendgroup\":\"Foward\",\"marker\":{\"color\":\"black\",\"symbol\":\"triangle-up\"},\"mode\":\"markers\",\"name\":\"Foward\",\"x\":[0],\"y\":[0],\"type\":\"scatter\"},{\"hoverinfo\":\"none\",\"legendgroup\":\"Mixed\",\"marker\":{\"color\":\"black\",\"symbol\":\"circle\"},\"mode\":\"markers\",\"name\":\"Mixed\",\"x\":[0],\"y\":[0],\"type\":\"scatter\"},{\"hoverinfo\":\"none\",\"legendgroup\":\"Backward\",\"marker\":{\"color\":\"black\",\"symbol\":\"triangle-down\"},\"mode\":\"markers\",\"name\":\"Backward\",\"x\":[0],\"y\":[0],\"type\":\"scatter\"}],                        {\"template\":{\"data\":{\"barpolar\":[{\"marker\":{\"line\":{\"color\":\"white\",\"width\":0.5}},\"type\":\"barpolar\"}],\"bar\":[{\"error_x\":{\"color\":\"#2a3f5f\"},\"error_y\":{\"color\":\"#2a3f5f\"},\"marker\":{\"line\":{\"color\":\"white\",\"width\":0.5}},\"type\":\"bar\"}],\"carpet\":[{\"aaxis\":{\"endlinecolor\":\"#2a3f5f\",\"gridcolor\":\"#C8D4E3\",\"linecolor\":\"#C8D4E3\",\"minorgridcolor\":\"#C8D4E3\",\"startlinecolor\":\"#2a3f5f\"},\"baxis\":{\"endlinecolor\":\"#2a3f5f\",\"gridcolor\":\"#C8D4E3\",\"linecolor\":\"#C8D4E3\",\"minorgridcolor\":\"#C8D4E3\",\"startlinecolor\":\"#2a3f5f\"},\"type\":\"carpet\"}],\"choropleth\":[{\"colorbar\":{\"outlinewidth\":0,\"ticks\":\"\"},\"type\":\"choropleth\"}],\"contourcarpet\":[{\"colorbar\":{\"outlinewidth\":0,\"ticks\":\"\"},\"type\":\"contourcarpet\"}],\"contour\":[{\"colorbar\":{\"outlinewidth\":0,\"ticks\":\"\"},\"colorscale\":[[0.0,\"#0d0887\"],[0.1111111111111111,\"#46039f\"],[0.2222222222222222,\"#7201a8\"],[0.3333333333333333,\"#9c179e\"],[0.4444444444444444,\"#bd3786\"],[0.5555555555555556,\"#d8576b\"],[0.6666666666666666,\"#ed7953\"],[0.7777777777777778,\"#fb9f3a\"],[0.8888888888888888,\"#fdca26\"],[1.0,\"#f0f921\"]],\"type\":\"contour\"}],\"heatmapgl\":[{\"colorbar\":{\"outlinewidth\":0,\"ticks\":\"\"},\"colorscale\":[[0.0,\"#0d0887\"],[0.1111111111111111,\"#46039f\"],[0.2222222222222222,\"#7201a8\"],[0.3333333333333333,\"#9c179e\"],[0.4444444444444444,\"#bd3786\"],[0.5555555555555556,\"#d8576b\"],[0.6666666666666666,\"#ed7953\"],[0.7777777777777778,\"#fb9f3a\"],[0.8888888888888888,\"#fdca26\"],[1.0,\"#f0f921\"]],\"type\":\"heatmapgl\"}],\"heatmap\":[{\"colorbar\":{\"outlinewidth\":0,\"ticks\":\"\"},\"colorscale\":[[0.0,\"#0d0887\"],[0.1111111111111111,\"#46039f\"],[0.2222222222222222,\"#7201a8\"],[0.3333333333333333,\"#9c179e\"],[0.4444444444444444,\"#bd3786\"],[0.5555555555555556,\"#d8576b\"],[0.6666666666666666,\"#ed7953\"],[0.7777777777777778,\"#fb9f3a\"],[0.8888888888888888,\"#fdca26\"],[1.0,\"#f0f921\"]],\"type\":\"heatmap\"}],\"histogram2dcontour\":[{\"colorbar\":{\"outlinewidth\":0,\"ticks\":\"\"},\"colorscale\":[[0.0,\"#0d0887\"],[0.1111111111111111,\"#46039f\"],[0.2222222222222222,\"#7201a8\"],[0.3333333333333333,\"#9c179e\"],[0.4444444444444444,\"#bd3786\"],[0.5555555555555556,\"#d8576b\"],[0.6666666666666666,\"#ed7953\"],[0.7777777777777778,\"#fb9f3a\"],[0.8888888888888888,\"#fdca26\"],[1.0,\"#f0f921\"]],\"type\":\"histogram2dcontour\"}],\"histogram2d\":[{\"colorbar\":{\"outlinewidth\":0,\"ticks\":\"\"},\"colorscale\":[[0.0,\"#0d0887\"],[0.1111111111111111,\"#46039f\"],[0.2222222222222222,\"#7201a8\"],[0.3333333333333333,\"#9c179e\"],[0.4444444444444444,\"#bd3786\"],[0.5555555555555556,\"#d8576b\"],[0.6666666666666666,\"#ed7953\"],[0.7777777777777778,\"#fb9f3a\"],[0.8888888888888888,\"#fdca26\"],[1.0,\"#f0f921\"]],\"type\":\"histogram2d\"}],\"histogram\":[{\"marker\":{\"colorbar\":{\"outlinewidth\":0,\"ticks\":\"\"}},\"type\":\"histogram\"}],\"mesh3d\":[{\"colorbar\":{\"outlinewidth\":0,\"ticks\":\"\"},\"type\":\"mesh3d\"}],\"parcoords\":[{\"line\":{\"colorbar\":{\"outlinewidth\":0,\"ticks\":\"\"}},\"type\":\"parcoords\"}],\"pie\":[{\"automargin\":true,\"type\":\"pie\"}],\"scatter3d\":[{\"line\":{\"colorbar\":{\"outlinewidth\":0,\"ticks\":\"\"}},\"marker\":{\"colorbar\":{\"outlinewidth\":0,\"ticks\":\"\"}},\"type\":\"scatter3d\"}],\"scattercarpet\":[{\"marker\":{\"colorbar\":{\"outlinewidth\":0,\"ticks\":\"\"}},\"type\":\"scattercarpet\"}],\"scattergeo\":[{\"marker\":{\"colorbar\":{\"outlinewidth\":0,\"ticks\":\"\"}},\"type\":\"scattergeo\"}],\"scattergl\":[{\"marker\":{\"colorbar\":{\"outlinewidth\":0,\"ticks\":\"\"}},\"type\":\"scattergl\"}],\"scattermapbox\":[{\"marker\":{\"colorbar\":{\"outlinewidth\":0,\"ticks\":\"\"}},\"type\":\"scattermapbox\"}],\"scatterpolargl\":[{\"marker\":{\"colorbar\":{\"outlinewidth\":0,\"ticks\":\"\"}},\"type\":\"scatterpolargl\"}],\"scatterpolar\":[{\"marker\":{\"colorbar\":{\"outlinewidth\":0,\"ticks\":\"\"}},\"type\":\"scatterpolar\"}],\"scatter\":[{\"marker\":{\"colorbar\":{\"outlinewidth\":0,\"ticks\":\"\"}},\"type\":\"scatter\"}],\"scatterternary\":[{\"marker\":{\"colorbar\":{\"outlinewidth\":0,\"ticks\":\"\"}},\"type\":\"scatterternary\"}],\"surface\":[{\"colorbar\":{\"outlinewidth\":0,\"ticks\":\"\"},\"colorscale\":[[0.0,\"#0d0887\"],[0.1111111111111111,\"#46039f\"],[0.2222222222222222,\"#7201a8\"],[0.3333333333333333,\"#9c179e\"],[0.4444444444444444,\"#bd3786\"],[0.5555555555555556,\"#d8576b\"],[0.6666666666666666,\"#ed7953\"],[0.7777777777777778,\"#fb9f3a\"],[0.8888888888888888,\"#fdca26\"],[1.0,\"#f0f921\"]],\"type\":\"surface\"}],\"table\":[{\"cells\":{\"fill\":{\"color\":\"#EBF0F8\"},\"line\":{\"color\":\"white\"}},\"header\":{\"fill\":{\"color\":\"#C8D4E3\"},\"line\":{\"color\":\"white\"}},\"type\":\"table\"}]},\"layout\":{\"annotationdefaults\":{\"arrowcolor\":\"#2a3f5f\",\"arrowhead\":0,\"arrowwidth\":1},\"coloraxis\":{\"colorbar\":{\"outlinewidth\":0,\"ticks\":\"\"}},\"colorscale\":{\"diverging\":[[0,\"#8e0152\"],[0.1,\"#c51b7d\"],[0.2,\"#de77ae\"],[0.3,\"#f1b6da\"],[0.4,\"#fde0ef\"],[0.5,\"#f7f7f7\"],[0.6,\"#e6f5d0\"],[0.7,\"#b8e186\"],[0.8,\"#7fbc41\"],[0.9,\"#4d9221\"],[1,\"#276419\"]],\"sequential\":[[0.0,\"#0d0887\"],[0.1111111111111111,\"#46039f\"],[0.2222222222222222,\"#7201a8\"],[0.3333333333333333,\"#9c179e\"],[0.4444444444444444,\"#bd3786\"],[0.5555555555555556,\"#d8576b\"],[0.6666666666666666,\"#ed7953\"],[0.7777777777777778,\"#fb9f3a\"],[0.8888888888888888,\"#fdca26\"],[1.0,\"#f0f921\"]],\"sequentialminus\":[[0.0,\"#0d0887\"],[0.1111111111111111,\"#46039f\"],[0.2222222222222222,\"#7201a8\"],[0.3333333333333333,\"#9c179e\"],[0.4444444444444444,\"#bd3786\"],[0.5555555555555556,\"#d8576b\"],[0.6666666666666666,\"#ed7953\"],[0.7777777777777778,\"#fb9f3a\"],[0.8888888888888888,\"#fdca26\"],[1.0,\"#f0f921\"]]},\"colorway\":[\"#1f77b4\",\"#ff7f0e\",\"#2ca02c\",\"#d62728\",\"#9467bd\",\"#8c564b\",\"#e377c2\",\"#7f7f7f\",\"#bcbd22\",\"#17becf\"],\"font\":{\"color\":\"#2a3f5f\"},\"geo\":{\"bgcolor\":\"white\",\"lakecolor\":\"white\",\"landcolor\":\"white\",\"showlakes\":true,\"showland\":true,\"subunitcolor\":\"#C8D4E3\"},\"hoverlabel\":{\"align\":\"left\"},\"hovermode\":\"closest\",\"mapbox\":{\"style\":\"light\"},\"paper_bgcolor\":\"white\",\"plot_bgcolor\":\"white\",\"polar\":{\"angularaxis\":{\"gridcolor\":\"#EBF0F8\",\"linecolor\":\"#EBF0F8\",\"ticks\":\"\"},\"bgcolor\":\"white\",\"radialaxis\":{\"gridcolor\":\"#EBF0F8\",\"linecolor\":\"#EBF0F8\",\"ticks\":\"\"}},\"scene\":{\"camera\":{\"center\":{\"x\":0,\"y\":0,\"z\":0},\"eye\":{\"x\":2.0,\"y\":2.0,\"z\":2.0},\"up\":{\"x\":0,\"y\":0,\"z\":1}},\"xaxis\":{\"backgroundcolor\":\"white\",\"gridcolor\":\"#DFE8F3\",\"gridwidth\":2,\"linecolor\":\"#EBF0F8\",\"showbackground\":true,\"showspikes\":false,\"ticks\":\"\",\"zerolinecolor\":\"#EBF0F8\"},\"yaxis\":{\"backgroundcolor\":\"white\",\"gridcolor\":\"#DFE8F3\",\"gridwidth\":2,\"linecolor\":\"#EBF0F8\",\"showbackground\":true,\"showspikes\":false,\"ticks\":\"\",\"zerolinecolor\":\"#EBF0F8\"},\"zaxis\":{\"backgroundcolor\":\"white\",\"gridcolor\":\"#DFE8F3\",\"gridwidth\":2,\"linecolor\":\"#EBF0F8\",\"showbackground\":true,\"showspikes\":false,\"ticks\":\"\",\"zerolinecolor\":\"#EBF0F8\"}},\"shapedefaults\":{\"line\":{\"color\":\"#2a3f5f\"}},\"ternary\":{\"aaxis\":{\"gridcolor\":\"#DFE8F3\",\"linecolor\":\"#A2B1C6\",\"ticks\":\"\"},\"baxis\":{\"gridcolor\":\"#DFE8F3\",\"linecolor\":\"#A2B1C6\",\"ticks\":\"\"},\"bgcolor\":\"white\",\"caxis\":{\"gridcolor\":\"#DFE8F3\",\"linecolor\":\"#A2B1C6\",\"ticks\":\"\"}},\"title\":{\"x\":0.05},\"xaxis\":{\"automargin\":true,\"gridcolor\":\"#EBF0F8\",\"linecolor\":\"black\",\"linewidth\":2.0,\"mirror\":true,\"showline\":true,\"ticks\":\"\",\"title\":{\"standoff\":15},\"zeroline\":false,\"zerolinecolor\":\"#EBF0F8\",\"zerolinewidth\":2},\"yaxis\":{\"automargin\":true,\"gridcolor\":\"#EBF0F8\",\"linecolor\":\"black\",\"linewidth\":2.0,\"mirror\":true,\"showline\":true,\"ticks\":\"\",\"title\":{\"standoff\":15},\"zeroline\":false,\"zerolinecolor\":\"#EBF0F8\",\"zerolinewidth\":2}}},\"xaxis\":{\"title\":{\"text\":\"Frequency (rad/s)\"},\"range\":[0.0,2000.0],\"exponentformat\":\"none\"},\"yaxis\":{\"title\":{\"text\":\"Natural Frequencies (rad/s)\"},\"range\":[0,1161.0265426589015]},\"legend\":{\"itemsizing\":\"constant\",\"orientation\":\"h\",\"xanchor\":\"center\",\"x\":0.5,\"yanchor\":\"bottom\",\"y\":-0.3},\"coloraxis\":{\"colorbar\":{\"title\":{\"text\":\"<b>Log Dec</b>\",\"side\":\"right\"}},\"cmin\":0.0,\"cmax\":1.0,\"colorscale\":[[0.0,\"rgb(103,0,31)\"],[0.1,\"rgb(178,24,43)\"],[0.2,\"rgb(214,96,77)\"],[0.3,\"rgb(244,165,130)\"],[0.4,\"rgb(253,219,199)\"],[0.5,\"rgb(247,247,247)\"],[0.6,\"rgb(209,229,240)\"],[0.7,\"rgb(146,197,222)\"],[0.8,\"rgb(67,147,195)\"],[0.9,\"rgb(33,102,172)\"],[1.0,\"rgb(5,48,97)\"]]},\"width\":1200,\"height\":700},                        {\"responsive\": true}                    ).then(function(){\n",
       "                            \n",
       "var gd = document.getElementById('f7386eda-09ea-418f-af4c-c853be955e0c');\n",
       "var x = new MutationObserver(function (mutations, observer) {{\n",
       "        var display = window.getComputedStyle(gd).display;\n",
       "        if (!display || display === 'none') {{\n",
       "            console.log([gd, 'removed!']);\n",
       "            Plotly.purge(gd);\n",
       "            observer.disconnect();\n",
       "        }}\n",
       "}});\n",
       "\n",
       "// Listen for the removal of the full notebook cells\n",
       "var notebookContainer = gd.closest('#notebook-container');\n",
       "if (notebookContainer) {{\n",
       "    x.observe(notebookContainer, {childList: true});\n",
       "}}\n",
       "\n",
       "// Listen for the clearing of the current output cell\n",
       "var outputEl = gd.closest('.output');\n",
       "if (outputEl) {{\n",
       "    x.observe(outputEl, {childList: true});\n",
       "}}\n",
       "\n",
       "                        })                };                });            </script>        </div>"
      ]
     },
     "metadata": {},
     "output_type": "display_data"
    }
   ],
   "source": [
    "campbell = rotor.run_campbell(speed_range=np.linspace(0, 2000))\n",
    "campbellfig = campbell.plot(harmonics=[1, 2, 3],width=1200,height=700)\n",
    "campbellfig.show()"
   ]
  },
  {
   "cell_type": "code",
   "execution_count": null,
   "id": "68165709",
   "metadata": {},
   "outputs": [],
   "source": []
  }
 ],
 "metadata": {
  "kernelspec": {
   "display_name": "Python 3 (ipykernel)",
   "language": "python",
   "name": "python3"
  },
  "language_info": {
   "codemirror_mode": {
    "name": "ipython",
    "version": 3
   },
   "file_extension": ".py",
   "mimetype": "text/x-python",
   "name": "python",
   "nbconvert_exporter": "python",
   "pygments_lexer": "ipython3",
   "version": "3.10.1"
  }
 },
 "nbformat": 4,
 "nbformat_minor": 5
}
