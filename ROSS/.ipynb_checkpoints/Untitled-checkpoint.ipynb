{
 "cells": [
  {
   "cell_type": "code",
   "execution_count": 1,
   "id": "4f17bffb",
   "metadata": {},
   "outputs": [],
   "source": [
    "import ross as rs\n",
    "import numpy as np\n",
    "import matplotlib.pyplot as plt\n",
    "import plotly.graph_objects as go\n"
   ]
  },
  {
   "cell_type": "code",
   "execution_count": 2,
   "id": "87db57f5",
   "metadata": {},
   "outputs": [],
   "source": [
    "steel = rs.Material(name=\"Steel\", rho=7810, E=211e9, G_s=81.2e9)\n",
    "# Creating a list of shaft elements\n",
    "L = 0.25\n",
    "i_d = 0\n",
    "o_d = 0.05\n",
    "N_elem = 6\n",
    "\n",
    "shaft_elements = [\n",
    "    rs.ShaftElement(\n",
    "        L=L,\n",
    "        idl=i_d,\n",
    "        odl=o_d,\n",
    "        material=steel,\n",
    "        shear_effects=True,\n",
    "        rotary_inertia=True,\n",
    "        gyroscopic=True,\n",
    "    )\n",
    "    for _ in range(N_elem)\n",
    "]\n",
    "\n",
    "disk = rs.DiskElement(\n",
    "    n=2,\n",
    "    m=32.58,\n",
    "    Ip=0.178,\n",
    "    Id=0.329,\n",
    "    tag=\"Disk\"\n",
    ")\n",
    "\n",
    "bearing0 = rs.BearingElement(\n",
    "    n=0, \n",
    "    kxx=[0.5e6, 1.0e6, 2.5e6],\n",
    "    kyy=[1.5e6, 2.0e6, 3.5e6],\n",
    "    cxx=[0.5e3, 1.0e3, 1.5e3],\n",
    "    frequency=[0, 1000, 2000],\n",
    ")\n",
    "bearing1 = rs.BearingElement(\n",
    "    n=5, \n",
    "    kxx=[0.5e6, 1.0e6, 2.5e6],\n",
    "    kyy=[1.5e6, 2.0e6, 3.5e6],\n",
    "    cxx=[0.5e3, 1.0e3, 1.5e3],\n",
    "    frequency=[0, 1000, 2000],\n",
    ")\n",
    "bearings = [bearing0, bearing1]"
   ]
  },
  {
   "cell_type": "code",
   "execution_count": null,
   "id": "8f97b808",
   "metadata": {},
   "outputs": [],
   "source": [
    "rotor = rs.Rotor(shaft_elements=shaft_elements, disk_elements=[disk], bearing_elements=bearings)\n",
    "rotor.plot_rotor()\n",
    "\n",
    "campbell = rotor.run_campbell(speed_range=np.linspace(0, 1000))\n",
    "campbell.plot()"
   ]
  }
 ],
 "metadata": {
  "kernelspec": {
   "display_name": "Python 3 (ipykernel)",
   "language": "python",
   "name": "python3"
  },
  "language_info": {
   "codemirror_mode": {
    "name": "ipython",
    "version": 3
   },
   "file_extension": ".py",
   "mimetype": "text/x-python",
   "name": "python",
   "nbconvert_exporter": "python",
   "pygments_lexer": "ipython3",
   "version": "3.10.0"
  }
 },
 "nbformat": 4,
 "nbformat_minor": 5
}
